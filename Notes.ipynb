{
 "cells": [
  {
   "cell_type": "markdown",
   "metadata": {},
   "source": [
    "# Introduction\n",
    "\n",
    "This will be my notes for what I've learned in my journey as I work through building my first live trading algo."
   ]
  },
  {
   "cell_type": "markdown",
   "metadata": {},
   "source": [
    "# Overview\n",
    "\n",
    "There are a couple parts that I've decided to break up my process into.\n",
    "\n",
    "1. Idea Generation\n",
    "2. Portfolio Generation\n",
    "3. Unconstrained Backtesting\n",
    "4. Repeat 1-3 as necessary\n",
    "5. Constrained Backtesting"
   ]
  },
  {
   "cell_type": "markdown",
   "metadata": {},
   "source": [
    "# 1 - Idea Generation"
   ]
  },
  {
   "cell_type": "markdown",
   "metadata": {},
   "source": [
    "There are many ways for idea generation that are common. \n",
    "\n",
    "### Iterate on other ideas\n",
    "\n",
    "Iterate on another idea that we've found and do our own testing.\n",
    "\n",
    "Below is something that may be one of our processes. Ideas can come from anywhere, including research papers, blogs, books, hearsay, reddit, other fields of science, and so on.\n",
    "\n",
    "**Process:** Reading research papers, coming up with questions and next steps and do them.\n",
    "\n",
    "**Example:** After seeing a research paper on the lessened effect of earnings surprise if it falls on a Friday, we may think to extend this chain of thought and intuition to post announcement drift. \n",
    "\n",
    "The intuition is that we may hypothesize that investors may not pay attention as much to news over the weekend. If it is true, then effects other than what the initial research paper suggests also may be true. Another thing that may also be true is that we can capitalize harder on index rebalancing if it is announced over the weekend. We can create a strategy for that and backtest it.\n",
    "\n",
    "\n",
    "### Come up with one on your own\n",
    "\n",
    "Gain inspiration from new psychology studies, look at graphs, mix existing strategies. Come up with interesting hedges instead that don't need positive returns."
   ]
  },
  {
   "cell_type": "markdown",
   "metadata": {},
   "source": [
    "# 2 - Portfolio Generation\n",
    "\n",
    "This portion broadly can be described as transforming the raw data that you've choosen for your signal into weights of the underlying securities.\n",
    "\n",
    "### Raw Data\n",
    "\n",
    "This can be from anywhere. \n",
    "\n",
    "Fundamental data from compustat/simfin for testing is ok wiht one year data lag. We can assume that the day after the publish data is when it is available to everyone and the effects should be incorporated in pricings.\n",
    "\n",
    "Pricing data from yfinance/WRDS is good.\n",
    "\n",
    "Analyst rating data from NASDAQ, WRDS can be used.\n",
    "\n",
    "The important part is to be clear of dates to prevent lookahead bias, like publish date.\n",
    "\n",
    "### Signal Building\n",
    "\n",
    "The next step is to transform our raw data into a signal. Signal's weights are arbitrary, but we want the direction to be correct.\n",
    "\n",
    "So a security with a positive signal weight we would expect to buy with some weight.\n",
    "\n",
    "### Portfolio Weights\n",
    "\n",
    "If a signal is 3x as strong on a particular security than another, should we weight 3x as much? Not neccessarily. It wouldn't make sense in most cases actually, like sentiment. If positive sentiment is 3x stronger on Tesla vs Nvidia, we should probably weight Tesla more, but not 3x as much. That wouldn't make sense. \n",
    "\n",
    "Therefore here we want to change our signal weights into actual weights of securities that we want to buy based on the signal. \n",
    "\n",
    "When looking at our signal distribution, we see that there are outliers, often times as errors but also valid. In any case, it is up to us on how we want to deal with it. Leaving it in will deweight everything in favor of the security with the large signal, so in most cases we want to deal with it when transitioning from signal weights to portfolio weights.\n",
    "\n",
    "This is a list of options that we have when transforming our signal weights into portfolio weights.\n",
    "- Windsorize\n",
    "    - Choose a percentile x, then set all data below x to x and all data above 1-x to 1-x\n",
    "    - Keeps signal weightings, but deals with outliers\n",
    "- Rank\n",
    "    - Change weights to rankings instead - i.e 1,2,3,4,...\n",
    "    - Signal weightings aren't as important, and outliers are dealt with\n",
    "- Rank and cut\n",
    "    - Rank method but the middle is cut out.\n",
    "    - Use when we expect there only to be an effect at the tails\n",
    "- Inverse CDF\n",
    "    - Change signal weights to "
   ]
  },
  {
   "cell_type": "code",
   "execution_count": 1,
   "metadata": {},
   "outputs": [
    {
     "data": {
      "image/png": "[encoded data removed]",
      "text/plain": [
       "<Figure size 640x480 with 1 Axes>"
      ]
     },
     "metadata": {},
     "output_type": "display_data"
    }
   ],
   "source": [
    "# Example of an inverse CDF transform\n",
    "import numpy as np\n",
    "import matplotlib.pyplot as plt\n",
    "\n",
    "# Define the inverse CDF\n",
    "def inv_cdf(p):\n",
    "    return np.log(1/(1-p))\n",
    "\n",
    "# Generate random numbers\n",
    "n = 1000\n",
    "p = np.random.rand(n)\n",
    "x = inv_cdf(p)\n",
    "\n",
    "# Plot the histogram\n",
    "plt.hist(x, bins=50, density=True)\n",
    "plt.show()"
   ]
  },
  {
   "cell_type": "markdown",
   "metadata": {},
   "source": [
    "# Complilation of Common Signals"
   ]
  },
  {
   "cell_type": "markdown",
   "metadata": {},
   "source": [
    "# Learning Moments"
   ]
  },
  {
   "cell_type": "markdown",
   "metadata": {},
   "source": [
    "### Live Trading\n",
    "\n",
    "\n",
    "***Transactional Costs***\n",
    "\n",
    "I didn't realize what big effect slippage had on my trades, even at low numbers of dollars invested. Especialy in crypto, where if you are trading on a coin with a daily volume of $10,000, buying 30$ worth of it is rarely a profitable short term investment due to bid-ask spead, commisions, and even slippage. I tried a strategy in live trading that would hold positions in these coins for like 1-5 hours, and the price movement never really ever justified the position, resulting in a pretty negative sharpe.\n",
    "\n",
    "***Liquidity Constraints***\n",
    "\n",
    "Liquidity constraints are important. Specifically spread and trading volume. "
   ]
  },
  {
   "cell_type": "markdown",
   "metadata": {},
   "source": [
    "### Backtesting Mistakes\n",
    "\n",
    "***\n"
   ]
  },
  {
   "cell_type": "markdown",
   "metadata": {},
   "source": [
    "### Exchange Specific Mistakes\n",
    "\n",
    "Different exchanges are different when it comes to coin offerings, spread, and trading volume.\n",
    "Also, the additional contraint of working in the US poses many unique challenges when dealing with crypto.\n",
    "\n",
    "***Tradability***\n",
    "\n",
    "For one, depending on the exchange, coins are not tradable, even when just trying to hold a long position. You will be able to get the data for it, but you will get an error when trying to submit an order for it. Therefore, due diligence includes making sure that the coins that you are working with are tradable using the API of the exchange you are working with.\n",
    "\n",
    "***Shorting***\n",
    "\n",
    "As of 2025, you are basically unable to short in the US. On Kraken, you are only able to open a margin account if you prove you have 10 million dollars in assets. For the purposes of what I'm doing, it's not really feasible to short.\n",
    "\n",
    "\n",
    "***Binance US***\n",
    "\n",
    "Don't use this for backtesting or live trading, it doesn't use the same data as Binance and the offerings are much much smaller. The prices are different, and everything is in USDT. US regulation has basically killed any type of quant activity on this site."
   ]
  }
 ],
 "metadata": {
  "kernelspec": {
   "display_name": "financial_research",
   "language": "python",
   "name": "python3"
  },
  "language_info": {
   "codemirror_mode": {
    "name": "ipython",
    "version": 3
   },
   "file_extension": ".py",
   "mimetype": "text/x-python",
   "name": "python",
   "nbconvert_exporter": "python",
   "pygments_lexer": "ipython3",
   "version": "3.12.3"
  }
 },
 "nbformat": 4,
 "nbformat_minor": 2
}
