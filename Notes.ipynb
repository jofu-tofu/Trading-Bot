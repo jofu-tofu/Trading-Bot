{
 "cells": [
  {
   "cell_type": "markdown",
   "metadata": {},
   "source": [
    "# Introduction\n",
    "\n",
    "This will be my notes for what I've learned in my journey as I work through building my first live trading algo."
   ]
  },
  {
   "cell_type": "markdown",
   "metadata": {},
   "source": [
    "# Overview\n",
    "\n",
    "There are a couple parts that I've decided to break up my process into.\n",
    "\n",
    "1. Idea Generation\n",
    "2. Portfolio Generation\n",
    "3. Unconstrained Backtesting\n",
    "4. Repeat 1-3 as necessary\n",
    "5. Constrained Backtesting"
   ]
  },
  {
   "cell_type": "markdown",
   "metadata": {},
   "source": [
    "# 1 - Idea Generation"
   ]
  },
  {
   "cell_type": "markdown",
   "metadata": {},
   "source": [
    "There are many ways for idea generation that are common. \n",
    "\n",
    "### Iterate on other ideas\n",
    "\n",
    "Iterate on another idea that we've found and do our own testing.\n",
    "\n",
    "Below is something that may be one of our processes. Ideas can come from anywhere, including research papers, blogs, books, hearsay, reddit, other fields of science, and so on.\n",
    "\n",
    "**Process:** Reading research papers, coming up with questions and next steps and do them.\n",
    "\n",
    "**Example:** After seeing a research paper on the lessened effect of earnings surprise if it falls on a Friday, we may think to extend this chain of thought and intuition to post announcement drift. \n",
    "\n",
    "The intuition is that we may hypothesize that investors may not pay attention as much to news over the weekend. If it is true, then effects other than what the initial research paper suggests also may be true. Another thing that may also be true is that we can capitalize harder on index rebalancing if it is announced over the weekend. We can create a strategy for that and backtest it.\n",
    "\n",
    "\n",
    "### Come up with one on your own\n",
    "\n",
    "Gain inspiration from new psychology studies, look at graphs, mix existing strategies. Come up with interesting hedges instead that don't need positive returns."
   ]
  },
  {
   "cell_type": "markdown",
   "metadata": {},
   "source": [
    "# 2 - Portfolio Generation\n",
    "\n",
    "This portion broadly can be described as transforming the raw data that you've choosen for your signal into weights of the underlying securities.\n",
    "\n",
    "### Raw Data\n",
    "\n",
    "This can be from anywhere. \n",
    "\n",
    "Fundamental data from compustat/simfin for testing is ok wiht one year data lag. We can assume that the day after the publish data is when it is available to everyone and the effects should be incorporated in pricings.\n",
    "\n",
    "Pricing data from yfinance/WRDS is good.\n",
    "\n",
    "Analyst rating data from NASDAQ, WRDS can be used.\n",
    "\n",
    "The important part is to be clear of dates to prevent lookahead bias, like publish date.\n",
    "\n",
    "### Signal Building\n",
    "\n",
    "The next step is to transform our raw data into a signal. Signal's weights are arbitrary, but we want the direction to be correct.\n",
    "\n",
    "So a security with a positive signal weight we would expect to buy with some weight.\n",
    "\n",
    "### Portfolio Weights\n",
    "\n",
    "If a signal is 3x as strong on a particular security than another, should we weight 3x as much? Not neccessarily. It wouldn't make sense in most cases actually, like sentiment. If positive sentiment is 3x stronger on Tesla vs Nvidia, we should probably weight Tesla more, but not 3x as much. That wouldn't make sense. \n",
    "\n",
    "Therefore here we want to change our signal weights into actual weights of securities that we want to buy based on the signal. \n",
    "\n",
    "When looking at our signal distribution, we see that there are outliers, often times as errors but also valid. In any case, it is up to us on how we want to deal with it. Leaving it in will deweight everything in favor of the security with the large signal, so in most cases we want to deal with it when transitioning from signal weights to portfolio weights.\n",
    "\n",
    "This is a list of options that we have when transforming our signal weights into portfolio weights.\n",
    "- Windsorize\n",
    "- Rank\n",
    "- Rank and cut\n",
    "- Inverse CDF"
   ]
  },
  {
   "cell_type": "markdown",
   "metadata": {},
   "source": [
    "# Complilation of Common Signals"
   ]
  }
 ],
 "metadata": {
  "kernelspec": {
   "display_name": "financial_research",
   "language": "python",
   "name": "python3"
  },
  "language_info": {
   "name": "python",
   "version": "3.12.3"
  }
 },
 "nbformat": 4,
 "nbformat_minor": 2
}
