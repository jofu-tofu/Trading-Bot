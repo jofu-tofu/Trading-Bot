{
 "cells": [
  {
   "cell_type": "markdown",
   "metadata": {},
   "source": [
    "mean reversion breakout strategy. will implement long and short seperately since implementation is very different in terms of margins with the broker. i think the sharpe is accurate, even higher in the constrained backtest. not sure what the capacity is"
   ]
  },
  {
   "cell_type": "code",
   "execution_count": 1,
   "metadata": {},
   "outputs": [],
   "source": [
    "import util\n",
    "import pandas as pd\n",
    "import numpy as np\n",
    "import twsq\n",
    "from twsq.alpha import Alpha"
   ]
  },
  {
   "cell_type": "code",
   "execution_count": 47,
   "metadata": {},
   "outputs": [
    {
     "data": {
      "text/plain": [
       "<module 'util' from 'c:\\\\Users\\\\joshu\\\\Documents\\\\Github\\\\Trading-Bot\\\\Live Trading\\\\util.py'>"
      ]
     },
     "execution_count": 47,
     "metadata": {},
     "output_type": "execute_result"
    }
   ],
   "source": [
    "import importlib\n",
    "import util\n",
    "\n",
    "importlib.reload(util)  # Reload the module to reflect changes"
   ]
  },
  {
   "cell_type": "code",
   "execution_count": 2,
   "metadata": {},
   "outputs": [
    {
     "name": "stdout",
     "output_type": "stream",
     "text": [
      "Fetched page 1 with 250 coins.\n",
      "Fetched page 2 with 250 coins.\n",
      "Fetched page 3 with 249 coins.\n"
     ]
    }
   ],
   "source": [
    "layer1_coin_names = util.get_layer1_universe()"
   ]
  },
  {
   "cell_type": "code",
   "execution_count": 3,
   "metadata": {},
   "outputs": [],
   "source": [
    "class MRBRShort(Alpha):\n",
    "    def filter_universe(self, universe, window_needed, freq='1h'):\n",
    "        \"\"\"\n",
    "        Filter the provided universe to include only symbols for which data exists.\n",
    "\n",
    "        Parameters:\n",
    "        -----------\n",
    "        universe : list\n",
    "            List of asset symbols.\n",
    "        window_needed : int\n",
    "            Minimum number of bars required.\n",
    "        freq : str, optional\n",
    "            Frequency of the bars (default '1h').\n",
    "\n",
    "        Returns:\n",
    "        --------\n",
    "        list\n",
    "            Filtered list of symbols.\n",
    "        \"\"\"\n",
    "        valid_symbols = []\n",
    "        for symbol in universe:\n",
    "            try:\n",
    "                bars = self.get_lastn_bars(symbol + '/USD', n=window_needed, freq=freq)\n",
    "                if not bars.empty and len(bars) >= window_needed:\n",
    "                    valid_symbols.append(symbol)\n",
    "            except Exception as e:\n",
    "                continue\n",
    "        return valid_symbols\n",
    "    \"\"\"\n",
    "    Mean reversion breakout strategy for short positions.\n",
    "    \"\"\"\n",
    "\n",
    "    def prepare(self, universe=None, enter_lookback=1176, exit_lookback=12, dollar_exposure=1000):\n",
    "        \"\"\"\n",
    "        Initialize strategy parameters.\n",
    "        Parameters:\n",
    "        -----------\n",
    "        universe : list\n",
    "            List of asset symbols to consider (e.g. ['BTC/USD', 'ETH/USD']).\n",
    "        enter_lookback : int, optional\n",
    "            Lookback period for the entry threshold.\n",
    "        exit_lookback : int, optional\n",
    "            Lookback period for the exit threshold.\n",
    "        dollar_exposure : float, optional\n",
    "            Total dollar exposure.\n",
    "        \"\"\"\n",
    "        if universe is None:\n",
    "            universe = util.get_layer1_universe()\n",
    "        universe = [str(symbol).upper() for symbol in universe]\n",
    "        self.enter_lookback = enter_lookback\n",
    "        self.exit_lookback = exit_lookback\n",
    "        self.dollar_exposure = dollar_exposure\n",
    "        window_needed = max(self.enter_lookback, self.exit_lookback)\n",
    "        self.universe = self.filter_universe(universe, window_needed)\n",
    "        self.current_signals = {symbol: 0 for symbol in universe}\n",
    "    \n",
    "    def rebalance(self):\n",
    "        \"\"\"\n",
    "        Compute mr breakout signals and rebalance positions.\n",
    "        Dollar exposure is total exposure across all short positions.\n",
    "        \"\"\"\n",
    "        target = {}\n",
    "        signals = {}\n",
    "        # Determine the number of bars needed from history.\n",
    "        window_needed = max(self.enter_lookback, self.exit_lookback)\n",
    "        \n",
    "        # Compute signals for each asset.\n",
    "        for symbol in self.universe:\n",
    "            try:\n",
    "                bars = self.get_lastn_bars(symbol + \"/USD\", n=window_needed, freq='1h')\n",
    "                # Check if we have enough data.\n",
    "                if bars.empty:\n",
    "                    signal = 0\n",
    "                else:\n",
    "                    price_series = bars\n",
    "                    ret = price_series['close'].pct_change()\n",
    "                    enter_max = ret.iloc[-self.enter_lookback:].max()\n",
    "                    exit_min = ret.iloc[-self.exit_lookback:].min()\n",
    "                    # enter_max = price_series['close'].rolling(window=self.enter_lookback, min_periods = 1).max().iloc[-1]\n",
    "                    # exit_min = price_series['close'].rolling(window=self.exit_lookback, min_periods = 1).min().iloc[-1]\n",
    "                    current_price = ret.iloc[-1]\n",
    "                    \n",
    "                    # Determine signal based on the most recent value.\n",
    "                    if not price_series.empty:\n",
    "                        if current_price == enter_max:\n",
    "                            signal = -1  # Enter short\n",
    "                        elif current_price == exit_min:\n",
    "                            signal = 0   # Exit short\n",
    "                        else:\n",
    "                            signal = self.current_signals[symbol]\n",
    "                    else:\n",
    "                        signal = 0\n",
    "            except Exception as e:\n",
    "                # In case of error, close position.\n",
    "                print(f\"Error processing {symbol}: {e}\")\n",
    "                signal = 0\n",
    "            self.current_signals[symbol] = signal\n",
    "            signals[symbol] = signal\n",
    "        shorts = [symbol for symbol, sig in signals.items() if sig == -1]\n",
    "        n_shorts = len(shorts)\n",
    "\n",
    "        # Compute target positions using total dollar exposure split across short positions.\n",
    "        for symbol, signal in signals.items():\n",
    "            try:\n",
    "                price = self.get_current_price(symbol + '/USD')\n",
    "            except Exception as e:\n",
    "                continue\n",
    "            \n",
    "            if signal == -1 and n_shorts > 0:\n",
    "                # print(f\"Shorting {symbol} at price {price}\")\n",
    "                # Allocate total exposure equally among all assets with a short signal.\n",
    "                target[symbol] = - (self.dollar_exposure / n_shorts) / price\n",
    "            else:\n",
    "                target[symbol] = 0\n",
    "            \n",
    "        # Rebalance portfolio to target positions using TWSQ's built-in function.\n",
    "        self.trade_to_target(target, quote='USD', route=True)\n",
    "\n"
   ]
  },
  {
   "cell_type": "code",
   "execution_count": 9,
   "metadata": {},
   "outputs": [
    {
     "name": "stdout",
     "output_type": "stream",
     "text": [
      "Running MRBRShort backtest: 100.00% done | Total PnL (USDT): 5,827 | Duration (s): 519  "
     ]
    }
   ],
   "source": [
    "result = MRBRShort.run_backtest(start_ts='20230201', end_ts='20240615', universe = layer1_coin_names)"
   ]
  },
  {
   "cell_type": "code",
   "execution_count": 10,
   "metadata": {},
   "outputs": [
    {
     "data": {
      "text/plain": [
       "<Axes: xlabel='Date'>"
      ]
     },
     "execution_count": 10,
     "metadata": {},
     "output_type": "execute_result"
    },
    {
     "data": {
      "image/png": "[encoded data removed]",
      "text/plain": [
       "<Figure size 640x480 with 1 Axes>"
      ]
     },
     "metadata": {},
     "output_type": "display_data"
    }
   ],
   "source": [
    "result.pos_pnl['port_val'].plot()"
   ]
  },
  {
   "cell_type": "code",
   "execution_count": 11,
   "metadata": {},
   "outputs": [
    {
     "data": {
      "text/plain": [
       "3.4505937756969045"
      ]
     },
     "execution_count": 11,
     "metadata": {},
     "output_type": "execute_result"
    }
   ],
   "source": [
    "port_ret = (result.pos_pnl['pnl']/1000)\n",
    "port_ret.mean()*np.sqrt(365*24)/port_ret.std()"
   ]
  },
  {
   "cell_type": "code",
   "execution_count": 48,
   "metadata": {},
   "outputs": [
    {
     "data": {
      "text/plain": [
       "0.0160436321433159"
      ]
     },
     "execution_count": 48,
     "metadata": {},
     "output_type": "execute_result"
    }
   ],
   "source": [
    "# correlation with btc\n",
    "util.corr_with_btc(port_ret)"
   ]
  }
 ],
 "metadata": {
  "kernelspec": {
   "display_name": "financial_research",
   "language": "python",
   "name": "python3"
  },
  "language_info": {
   "codemirror_mode": {
    "name": "ipython",
    "version": 3
   },
   "file_extension": ".py",
   "mimetype": "text/x-python",
   "name": "python",
   "nbconvert_exporter": "python",
   "pygments_lexer": "ipython3",
   "version": "3.12.3"
  }
 },
 "nbformat": 4,
 "nbformat_minor": 2
}
