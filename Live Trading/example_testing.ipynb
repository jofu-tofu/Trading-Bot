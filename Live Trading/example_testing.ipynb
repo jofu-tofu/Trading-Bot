{
 "cells": [
  {
   "cell_type": "markdown",
   "metadata": {},
   "source": [
    "Put some basic use cases for automated backtest/trading"
   ]
  },
  {
   "cell_type": "markdown",
   "metadata": {},
   "source": [
    "## Setup"
   ]
  },
  {
   "cell_type": "code",
   "execution_count": 12,
   "metadata": {},
   "outputs": [],
   "source": [
    "import twsq\n",
    "from twsq.alpha import Alpha\n",
    "import pandas as pd\n",
    "import numpy as np\n",
    "import requests\n",
    "import util"
   ]
  },
  {
   "cell_type": "code",
   "execution_count": 13,
   "metadata": {},
   "outputs": [
    {
     "name": "stdout",
     "output_type": "stream",
     "text": [
      "C:\\Users\\joshu\\Documents\\TWSQ Library\n"
     ]
    },
    {
     "data": {
      "text/plain": [
       "'C:\\\\Users\\\\joshu\\\\Documents\\\\TWSQ Library'"
      ]
     },
     "execution_count": 13,
     "metadata": {},
     "output_type": "execute_result"
    }
   ],
   "source": [
    "from twsq.utils import get_twsqroot\n",
    "get_twsqroot()"
   ]
  },
  {
   "cell_type": "code",
   "execution_count": 14,
   "metadata": {},
   "outputs": [],
   "source": [
    "import datetime\n",
    "\n",
    "class MinuteShortCloseStrategy(Alpha):\n",
    "    def prepare(self):\n",
    "        \"\"\"\n",
    "        Set up the strategy parameters.\n",
    "        \"\"\"\n",
    "        self.symbol = 'ETH'\n",
    "        self.dollar_exposure = 6\n",
    "        self.position_opened = False\n",
    "        self.last_trade_time = None\n",
    "\n",
    "    def rebalance(self):\n",
    "        \"\"\"\n",
    "        On each minute, check the state:\n",
    "          - If no position is open, enter a short position on ETH.\n",
    "          - If a position is open and one minute has passed, close the position.\n",
    "        \"\"\"\n",
    "        current_time = datetime.datetime.now(datetime.UTC)\n",
    "\n",
    "        if not self.position_opened:\n",
    "            try:\n",
    "                price = self.get_current_price(self.symbol + '/USD')\n",
    "            except Exception as e:\n",
    "                print(f\"Error fetching price for {self.symbol}: {e}\")\n",
    "                return\n",
    "\n",
    "            qty = - (self.dollar_exposure / price)\n",
    "            target = {self.symbol: qty}\n",
    "\n",
    "            self.trade_to_target(target, quote='USD', leverage = 2, route=True)\n",
    "\n",
    "            self.position_opened = True\n",
    "            self.last_trade_time = current_time\n",
    "\n",
    "        # If a position is already open, check if one minute has elapsed.\n",
    "        else:\n",
    "            elapsed = (current_time - self.last_trade_time).total_seconds()\n",
    "            if elapsed >= 60:\n",
    "                # Close the position by setting the target position to 0.\n",
    "                target = {self.symbol: 0}\n",
    "                self.trade_to_target(target, quote='USD', leverage = 1, route=True)\n",
    "                print(f\"{current_time} - Closing short position on {self.symbol} after {elapsed:.0f} seconds\")\n",
    "                self.position_opened = False\n"
   ]
  },
  {
   "cell_type": "code",
   "execution_count": 15,
   "metadata": {},
   "outputs": [],
   "source": [
    "import datetime\n",
    "\n",
    "class MinuteLongCloseStrategy(Alpha):\n",
    "    def prepare(self):\n",
    "        \"\"\"\n",
    "        Set up the strategy parameters.\n",
    "        \"\"\"\n",
    "        self.symbol = 'ETH'\n",
    "        self.dollar_exposure = 6\n",
    "        self.position_opened = False\n",
    "        self.last_trade_time = None\n",
    "\n",
    "    def rebalance(self):\n",
    "        \"\"\"\n",
    "        On each minute, check the state:\n",
    "          - If no position is open, enter a short position on ETH.\n",
    "          - If a position is open and one minute has passed, close the position.\n",
    "        \"\"\"\n",
    "        current_time = datetime.datetime.now(datetime.UTC)\n",
    "\n",
    "        if not self.position_opened:\n",
    "            try:\n",
    "                price = self.get_current_price(self.symbol + '/USD')\n",
    "            except Exception as e:\n",
    "                print(f\"Error fetching price for {self.symbol}: {e}\")\n",
    "                return\n",
    "\n",
    "            qty = (self.dollar_exposure / price)\n",
    "            target = {self.symbol: qty}\n",
    "\n",
    "            self.trade_to_target(target, quote='USD', route=True)\n",
    "\n",
    "            self.position_opened = True\n",
    "            self.last_trade_time = current_time\n",
    "\n",
    "        # If a position is already open, check if one minute has elapsed.\n",
    "        else:\n",
    "            elapsed = (current_time - self.last_trade_time).total_seconds()\n",
    "            if elapsed >= 60:\n",
    "                # Close the position by setting the target position to 0.\n",
    "                target = {self.symbol: 0}\n",
    "                self.trade_to_target(target, quote='USD', leverage = 1, route=True)\n",
    "                print(f\"{current_time} - Closing short position on {self.symbol} after {elapsed:.0f} seconds\")\n",
    "                self.position_opened = False\n"
   ]
  },
  {
   "cell_type": "markdown",
   "metadata": {},
   "source": [
    "## Backtest"
   ]
  },
  {
   "cell_type": "code",
   "execution_count": 4,
   "metadata": {},
   "outputs": [
    {
     "name": "stdout",
     "output_type": "stream",
     "text": [
      "Running MinuteShortCloseStrategy backtest: 100.00% done | Total PnL (USDT): -7 | Duration (s): 9   "
     ]
    }
   ],
   "source": [
    "backtest_result = MinuteShortCloseStrategy.run_backtest(start_ts='20230101')"
   ]
  },
  {
   "cell_type": "code",
   "execution_count": null,
   "metadata": {},
   "outputs": [
    {
     "data": {
      "text/plain": [
       "<Axes: xlabel='Date'>"
      ]
     },
     "execution_count": 5,
     "metadata": {},
     "output_type": "execute_result"
    },
    {
     "data": {
      "image/png": "[encoded data removed]",
      "text/plain": [
       "<Figure size 640x480 with 1 Axes>"
      ]
     },
     "metadata": {},
     "output_type": "display_data"
    },
    {
     "ename": "",
     "evalue": "",
     "output_type": "error",
     "traceback": [
      "\u001b[1;31mThe Kernel crashed while executing code in the current cell or a previous cell. \n",
      "\u001b[1;31mPlease review the code in the cell(s) to identify a possible cause of the failure. \n",
      "\u001b[1;31mClick <a href='https://aka.ms/vscodeJupyterKernelCrash'>here</a> for more info. \n",
      "\u001b[1;31mView Jupyter <a href='command:jupyter.viewOutput'>log</a> for further details."
     ]
    }
   ],
   "source": [
    "backtest_result.pos_pnl['port_val'].plot()"
   ]
  },
  {
   "cell_type": "markdown",
   "metadata": {},
   "source": [
    "## Live"
   ]
  },
  {
   "cell_type": "code",
   "execution_count": null,
   "metadata": {},
   "outputs": [
    {
     "name": "stdout",
     "output_type": "stream",
     "text": [
      "24-Feb-25 23:44:13: INFO: 🌱 Live trader initiated\n",
      "24-Feb-25 23:44:14: INFO: Websocket connected\n",
      "24-Feb-25 23:44:14: INFO: MinuteLongCloseStrategy: Initial positions: None\n",
      "24-Feb-25 23:45:02: INFO: Websocket connected\n",
      "24-Feb-25 23:45:02: INFO: MinuteLongCloseStrategy: 🚀 Rebalance complete: Created 1 new order(s).\n",
      "24-Feb-25 23:45:02: INFO: MinuteLongCloseStrategy: 🟢 Order to buy 0.0024 ETH/USD closed: 0.0024 filled @ 2496.6\n",
      "2025-02-25 04:46:00.926236+00:00 - Closing short position on ETH after 60 seconds\n",
      "24-Feb-25 23:46:01: INFO: MinuteLongCloseStrategy: 🚀 Rebalance complete: Created 1 new order(s).\n",
      "24-Feb-25 23:46:01: INFO: MinuteLongCloseStrategy: 🟢 Order to sell 0.0024 ETH/USD closed: 0.0024 filled @ 2492.34\n"
     ]
    }
   ],
   "source": [
    "MinuteLongCloseStrategy.run_live(freq='1m')"
   ]
  },
  {
   "cell_type": "code",
   "execution_count": 5,
   "metadata": {},
   "outputs": [
    {
     "name": "stdout",
     "output_type": "stream",
     "text": [
      "23-Feb-25 13:52:33: INFO: 🌱 Live trader initiated\n",
      "23-Feb-25 13:52:33: INFO: Websocket connected\n",
      "23-Feb-25 13:52:34: INFO: MinuteShortCloseStrategy: Initial positions: None\n",
      "23-Feb-25 13:53:00: INFO: Websocket connected\n",
      "23-Feb-25 13:53:01: ERROR: Order to sell 0.0021384046788294375 ETH/USD rejected\n",
      "23-Feb-25 13:53:01: ERROR: kraken {\"error\":[\"EOrder:Reduce only:Non-ECP\"]}\n",
      "23-Feb-25 13:53:01: ERROR: Traceback (most recent call last):\n",
      "  File \"c:\\users\\joshu\\documents\\twsq library\\twsq\\twsq\\twsq\\exec\\runner.py\", line 68, in run\n",
      "    self._run()\n",
      "  File \"c:\\users\\joshu\\documents\\twsq library\\twsq\\twsq\\twsq\\exec\\runner.py\", line 47, in _run\n",
      "    self.alpha.rebalance()\n",
      "  File \"C:\\Users\\joshu\\AppData\\Local\\Temp\\ipykernel_40796\\3555271720.py\", line 31, in rebalance\n",
      "    self.trade_to_target(target, quote='USD', leverage = 2, route=True)\n",
      "  File \"c:\\users\\joshu\\documents\\twsq library\\twsq\\twsq\\twsq\\alpha\\base.py\", line 285, in trade_to_target\n",
      "    self.create_order(\n",
      "  File \"c:\\users\\joshu\\documents\\twsq library\\twsq\\twsq\\twsq\\alpha\\base.py\", line 237, in create_order\n",
      "    order = self.broker.create_order(self.name,\n",
      "           ^^^^^^^^^^^^^^^^^^^^^^^^^^^^^^^^^^^\n",
      "  File \"c:\\users\\joshu\\documents\\twsq library\\twsq\\twsq\\twsq\\exec\\broker.py\", line 79, in create_order\n",
      "    self.route(order)\n",
      "  File \"c:\\users\\joshu\\documents\\twsq library\\twsq\\twsq\\twsq\\exec\\broker.py\", line 115, in route\n",
      "    raise e\n",
      "  File \"c:\\users\\joshu\\documents\\twsq library\\twsq\\twsq\\twsq\\exec\\broker.py\", line 112, in route\n",
      "    self._route(order)\n",
      "  File \"c:\\users\\joshu\\documents\\twsq library\\twsq\\twsq\\twsq\\exec\\kraken.py\", line 71, in _route\n",
      "    resp = self.api.create_order(\n",
      "           ^^^^^^^^^^^^^^^^^^^^^^\n",
      "  File \"c:\\Users\\joshu\\anaconda3\\envs\\financial_research\\Lib\\site-packages\\ccxt-4.4.57-py3.12.egg\\ccxt\\kraken.py\", line 1545, in create_order\n",
      "    response = self.privatePostAddOrder(self.extend(orderRequest[0], orderRequest[1]))\n",
      "               ^^^^^^^^^^^^^^^^^^^^^^^^^^^^^^^^^^^^^^^^^^^^^^^^^^^^^^^^^^^^^^^^^^^^^^^\n",
      "  File \"c:\\Users\\joshu\\anaconda3\\envs\\financial_research\\Lib\\site-packages\\ccxt-4.4.57-py3.12.egg\\ccxt\\base\\types.py\", line 35, in unbound_method\n",
      "    return _self.request(self.path, self.api, self.method, params, config=self.config)\n",
      "           ^^^^^^^^^^^^^^^^^^^^^^^^^^^^^^^^^^^^^^^^^^^^^^^^^^^^^^^^^^^^^^^^^^^^^^^^^^^\n",
      "  File \"c:\\Users\\joshu\\anaconda3\\envs\\financial_research\\Lib\\site-packages\\ccxt-4.4.57-py3.12.egg\\ccxt\\base\\exchange.py\", line 4333, in request\n",
      "    return self.fetch2(path, api, method, params, headers, body, config)\n",
      "           ^^^^^^^^^^^^^^^^^^^^^^^^^^^^^^^^^^^^^^^^^^^^^^^^^^^^^^^^^^^^^\n",
      "  File \"c:\\Users\\joshu\\anaconda3\\envs\\financial_research\\Lib\\site-packages\\ccxt-4.4.57-py3.12.egg\\ccxt\\base\\exchange.py\", line 4329, in fetch2\n",
      "    raise e\n",
      "  File \"c:\\Users\\joshu\\anaconda3\\envs\\financial_research\\Lib\\site-packages\\ccxt-4.4.57-py3.12.egg\\ccxt\\base\\exchange.py\", line 4319, in fetch2\n",
      "    return self.fetch(request['url'], request['method'], request['headers'], request['body'])\n",
      "           ^^^^^^^^^^^^^^^^^^^^^^^^^^^^^^^^^^^^^^^^^^^^^^^^^^^^^^^^^^^^^^^^^^^^^^^^^^^^^^^^^^\n",
      "  File \"c:\\Users\\joshu\\anaconda3\\envs\\financial_research\\Lib\\site-packages\\ccxt-4.4.57-py3.12.egg\\ccxt\\base\\exchange.py\", line 624, in fetch\n",
      "    self.handle_errors(http_status_code, http_status_text, url, method, headers, http_response, json_response, request_headers, request_body)\n",
      "  File \"c:\\Users\\joshu\\anaconda3\\envs\\financial_research\\Lib\\site-packages\\ccxt-4.4.57-py3.12.egg\\ccxt\\kraken.py\", line 3258, in handle_errors\n",
      "    raise ExchangeError(message)\n",
      "ccxt.base.errors.ExchangeError: kraken {\"error\":[\"EOrder:Reduce only:Non-ECP\"]}\n",
      "\n",
      "23-Feb-25 13:53:01: INFO: MinuteShortCloseStrategy: 👋 Exiting trader...\n",
      "23-Feb-25 13:53:01: INFO: MinuteShortCloseStrategy: 💰 Final session PnL 0.00\n",
      "23-Feb-25 13:53:08: INFO: MinuteShortCloseStrategy: Ending positions: None\n"
     ]
    },
    {
     "ename": "",
     "evalue": "",
     "output_type": "error",
     "traceback": [
      "\u001b[1;31mThe Kernel crashed while executing code in the current cell or a previous cell. \n",
      "\u001b[1;31mPlease review the code in the cell(s) to identify a possible cause of the failure. \n",
      "\u001b[1;31mClick <a href='https://aka.ms/vscodeJupyterKernelCrash'>here</a> for more info. \n",
      "\u001b[1;31mView Jupyter <a href='command:jupyter.viewOutput'>log</a> for further details."
     ]
    }
   ],
   "source": [
    "MinuteShortCloseStrategy.run_live(freq='1m')"
   ]
  }
 ],
 "metadata": {
  "kernelspec": {
   "display_name": "financial_research",
   "language": "python",
   "name": "python3"
  },
  "language_info": {
   "codemirror_mode": {
    "name": "ipython",
    "version": 3
   },
   "file_extension": ".py",
   "mimetype": "text/x-python",
   "name": "python",
   "nbconvert_exporter": "python",
   "pygments_lexer": "ipython3",
   "version": "3.12.3"
  }
 },
 "nbformat": 4,
 "nbformat_minor": 2
}
