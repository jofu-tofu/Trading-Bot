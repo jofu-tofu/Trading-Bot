{
 "cells": [
  {
   "cell_type": "markdown",
   "metadata": {},
   "source": [
    "Put some basic use cases for automated backtest/trading"
   ]
  },
  {
   "cell_type": "code",
   "execution_count": 107,
   "metadata": {},
   "outputs": [],
   "source": [
    "import twsq\n",
    "from twsq.alpha import Alpha\n",
    "import pandas as pd\n",
    "import numpy as np\n",
    "import requests\n",
    "import util"
   ]
  },
  {
   "cell_type": "code",
   "execution_count": 108,
   "metadata": {},
   "outputs": [
    {
     "name": "stdout",
     "output_type": "stream",
     "text": [
      "C:\\Users\\joshu\\Documents\\TWSQ Library\n"
     ]
    },
    {
     "data": {
      "text/plain": [
       "'C:\\\\Users\\\\joshu\\\\Documents\\\\TWSQ Library'"
      ]
     },
     "execution_count": 108,
     "metadata": {},
     "output_type": "execute_result"
    }
   ],
   "source": [
    "from twsq.utils import get_twsqroot\n",
    "get_twsqroot()"
   ]
  },
  {
   "cell_type": "code",
   "execution_count": 117,
   "metadata": {},
   "outputs": [
    {
     "name": "stdout",
     "output_type": "stream",
     "text": [
      "Fetched page 1 with 250 coins.\n",
      "Fetched page 2 with 250 coins.\n",
      "Fetched page 3 with 248 coins.\n"
     ]
    }
   ],
   "source": [
    "layer1_coin_tickers = util.get_layer1_universe()"
   ]
  },
  {
   "cell_type": "code",
   "execution_count": null,
   "metadata": {},
   "outputs": [],
   "source": [
    "# layer 1 channel breakout long short\n",
    "class L1CBLS(Alpha):\n",
    "    def filter_universe(self, universe, window_needed, freq='1h'):\n",
    "        \"\"\"\n",
    "        Filter the provided universe to include only symbols for which data exists.\n",
    "\n",
    "        Parameters:\n",
    "        -----------\n",
    "        universe : list\n",
    "            List of asset symbols.\n",
    "        window_needed : int\n",
    "            Minimum number of bars required.\n",
    "        freq : str, optional\n",
    "            Frequency of the bars (default '1h').\n",
    "\n",
    "        Returns:\n",
    "        --------\n",
    "        list\n",
    "            Filtered list of symbols.\n",
    "        \"\"\"\n",
    "        valid_symbols = []\n",
    "        for symbol in universe:\n",
    "            try:\n",
    "                bars = self.get_lastn_bars(symbol + '/USD', n=window_needed, freq=freq)\n",
    "                if not bars.empty and len(bars) >= window_needed:\n",
    "                    valid_symbols.append(symbol)\n",
    "            except Exception as e:\n",
    "                continue\n",
    "        return valid_symbols\n",
    "    \n",
    "    def prepare(self, universe=None, short_lookback=1, short_enter_lookback=1176, short_exit_lookback=36, dollar_exposure=1000):\n",
    "        \"\"\"\n",
    "        Initialize strategy parameters.\n",
    "\n",
    "        Parameters:\n",
    "        -----------\n",
    "        universe : list\n",
    "            List of asset symbols to consider (e.g. ['BTC/USD', 'ETH/USD']).\n",
    "        short_lookback : int, optional\n",
    "            Lookback period for short-term high/low calculations.\n",
    "        enter_lookback : int, optional\n",
    "            Lookback period for the entry threshold.\n",
    "        exit_lookback : int, optional\n",
    "            Lookback period for the exit threshold.\n",
    "        dollar_exposure : float, optional\n",
    "            Total dollar exposure.\n",
    "        \"\"\"\n",
    "        if universe is None:\n",
    "            universe = util.get_layer1_universe()\n",
    "        universe = [str(symbol).upper() for symbol in universe]\n",
    "        self.short_lookback = short_lookback\n",
    "        self.short_enter_lookback = short_enter_lookback\n",
    "        self.short_exit_lookback = short_exit_lookback\n",
    "        self.dollar_exposure = dollar_exposure\n",
    "        window_needed = max(self.short_lookback, self.short_enter_lookback, self.short_exit_lookback)\n",
    "        self.universe = self.filter_universe(universe, window_needed)\n",
    "        # print(\"Using Layer 1 universe: \", universe)\n",
    "\n",
    "\n",
    "\n",
    "        # Initialize each asset's signal to 0 (flat)\n",
    "        self.current_signals = {symbol: 0 for symbol in universe}\n",
    "\n",
    "    def rebalance(self):\n",
    "        \"\"\"\n",
    "        Compute channel breakout signals and rebalance positions.\n",
    "        Dollar exposure is total exposure across all short positions.\n",
    "        \"\"\"\n",
    "        target = {}\n",
    "        signals = {}\n",
    "        # Determine the number of bars needed from history.\n",
    "        window_needed = max(self.short_lookback, self.short_enter_lookback, self.short_exit_lookback)\n",
    "        \n",
    "        # Compute signals for each asset.\n",
    "        for symbol in self.universe:\n",
    "            try:\n",
    "                bars = self.get_lastn_bars(symbol + \"/USD\", n=window_needed, freq='1h')\n",
    "                # Check if we have enough data.\n",
    "                if bars.empty or len(bars) < window_needed:\n",
    "                    signal = self.current_signals.get(symbol, 0)\n",
    "                else:\n",
    "                    price_series = bars\n",
    "                    # Compute rolling values.\n",
    "                    short_max      = price_series['high'].iloc[-self.short_lookback:].max()\n",
    "                    short_min      = price_series['low'].iloc[-self.short_lookback:].min()\n",
    "                    short_enter_min = price_series['low'].iloc[-self.short_enter_lookback:].min()\n",
    "                    short_exit_max = price_series['high'].iloc[-self.short_exit_lookback:].max()\n",
    "                    \n",
    "                    # Determine signal based on the most recent value.\n",
    "                    if not price_series.empty:\n",
    "                        if short_min == short_enter_min:\n",
    "                            signal = -1  # Enter short\n",
    "                        elif short_max == short_exit_max:\n",
    "                            signal = 0   # Exit short\n",
    "                        else:\n",
    "                            signal = self.current_signals[symbol]\n",
    "                    else:\n",
    "                        signal = self.current_signals[symbol]\n",
    "            except Exception as e:\n",
    "                # In case of error, maintain the previous signal.\n",
    "                signal = self.current_signals[symbol]\n",
    "            \n",
    "            self.current_signals[symbol] = signal\n",
    "            signals[symbol] = signal\n",
    "        # Count the number of symbols with a short signal (-1).\n",
    "        shorts = [symbol for symbol, sig in signals.items() if sig == -1]\n",
    "        n_shorts = len(shorts)\n",
    "        \n",
    "        # Compute target positions using total dollar exposure split across short positions.\n",
    "        for symbol, signal in signals.items():\n",
    "            try:\n",
    "                price = self.get_current_price(symbol + '/USD')\n",
    "            except Exception as e:\n",
    "                print(f\"Error fetching price for {symbol}: {e}\")\n",
    "                continue\n",
    "            \n",
    "            if signal == -1 and n_shorts > 0:\n",
    "                # print(f\"Shorting {symbol} at price {price}\")\n",
    "                # Allocate total exposure equally among all assets with a short signal.\n",
    "                target[symbol] = - (self.dollar_exposure / n_shorts) / price\n",
    "            else:\n",
    "                target[symbol] = 0\n",
    "            \n",
    "        # Rebalance portfolio to target positions using TWSQ's built-in function.\n",
    "        self.trade_to_target(target, quote='USD', route=True)\n",
    "\n",
    "        \n"
   ]
  },
  {
   "cell_type": "code",
   "execution_count": 99,
   "metadata": {},
   "outputs": [
    {
     "name": "stdout",
     "output_type": "stream",
     "text": [
      "Running L1CBLS backtest: 100.00% done | Total PnL (USDT): -1,155 | Duration (s): 38  "
     ]
    }
   ],
   "source": [
    "result = L1CBLS.run_backtest(start_ts='20250101', universe = layer1_coin_tickers)"
   ]
  },
  {
   "cell_type": "code",
   "execution_count": 100,
   "metadata": {},
   "outputs": [
    {
     "data": {
      "text/plain": [
       "<Axes: xlabel='Date'>"
      ]
     },
     "execution_count": 100,
     "metadata": {},
     "output_type": "execute_result"
    },
    {
     "data": {
      "image/png": "[encoded data removed]",
      "text/plain": [
       "<Figure size 640x480 with 1 Axes>"
      ]
     },
     "metadata": {},
     "output_type": "display_data"
    }
   ],
   "source": [
    "result.pos_pnl['port_val'].plot()"
   ]
  },
  {
   "cell_type": "code",
   "execution_count": 101,
   "metadata": {},
   "outputs": [
    {
     "data": {
      "text/plain": [
       "-3.0927790038127405"
      ]
     },
     "execution_count": 101,
     "metadata": {},
     "output_type": "execute_result"
    }
   ],
   "source": [
    "ret = result.pos_pnl['port_val']+1000\n",
    "ret = ret.pct_change()\n",
    "sharpe = np.sqrt(365*24) * ret.mean() / ret.std()\n",
    "sharpe"
   ]
  }
 ],
 "metadata": {
  "kernelspec": {
   "display_name": "financial_research",
   "language": "python",
   "name": "python3"
  },
  "language_info": {
   "codemirror_mode": {
    "name": "ipython",
    "version": 3
   },
   "file_extension": ".py",
   "mimetype": "text/x-python",
   "name": "python",
   "nbconvert_exporter": "python",
   "pygments_lexer": "ipython3",
   "version": "3.12.3"
  }
 },
 "nbformat": 4,
 "nbformat_minor": 2
}
