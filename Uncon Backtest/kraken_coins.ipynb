{
 "cells": [
  {
   "cell_type": "code",
   "execution_count": 1,
   "metadata": {},
   "outputs": [],
   "source": [
    "import util\n",
    "from importlib import reload\n",
    "import pandas as pd\n",
    "import numpy as np\n",
    "import matplotlib.pyplot as plt\n",
    "from datetime import timezone\n",
    "from numba import njit\n",
    "import pickle\n",
    "import os\n",
    "import sqlite3\n",
    "from dotenv import load_dotenv\n",
    "import yfinance as yf\n",
    "load_dotenv()\n",
    "util = reload(util)"
   ]
  },
  {
   "cell_type": "code",
   "execution_count": 2,
   "metadata": {},
   "outputs": [],
   "source": [
    "kraken_coin_data = util.get_exchange_coins('kraken')\n",
    "kraken_coin_ids = [coin['coin_id'] for coin in kraken_coin_data]\n",
    "kraken_symbols = [coin['base'].lower() for coin in kraken_coin_data]"
   ]
  },
  {
   "cell_type": "code",
   "execution_count": 3,
   "metadata": {},
   "outputs": [],
   "source": [
    "reload(util)\n",
    "tradable_kraken_coins = util.get_tradable_kraken_coins()"
   ]
  },
  {
   "cell_type": "code",
   "execution_count": 4,
   "metadata": {},
   "outputs": [
    {
     "data": {
      "text/plain": [
       "95"
      ]
     },
     "execution_count": 4,
     "metadata": {},
     "output_type": "execute_result"
    }
   ],
   "source": [
    "len(tradable_kraken_coins)"
   ]
  },
  {
   "cell_type": "code",
   "execution_count": 5,
   "metadata": {},
   "outputs": [],
   "source": [
    "all_data = util.get_all_ochl()\n",
    "\n",
    "kraken_data = all_data[all_data['coin_id'].isin(kraken_coin_ids)]\n"
   ]
  },
  {
   "cell_type": "code",
   "execution_count": 6,
   "metadata": {},
   "outputs": [],
   "source": [
    "coins_to_exclude = [\n",
    "        'tether', \n",
    "        'usd-coin', \n",
    "        'true-usd', \n",
    "        'wrapped-bitcoin',\n",
    "        'dai',\n",
    "        'terra-luna',\n",
    "        'ftx-token',\n",
    "        'bora',\n",
    "        'theta-fuel',\n",
    "        'gifto',\n",
    "        'amber',\n",
    "        'cocos-bcx',\n",
    "        'beldex',\n",
    "        'usdc',\n",
    "    ]\n",
    "exclude_coins_symbol = [coin['base'].lower() for coin in kraken_coin_data if coin['coin_id'] in coins_to_exclude]"
   ]
  },
  {
   "cell_type": "code",
   "execution_count": 7,
   "metadata": {},
   "outputs": [],
   "source": [
    "all_close_prices = util.get_col_pivot_from_all_ochl(type ='close',volume_threshold= 100000)\n",
    "all_high_prices = util.get_col_pivot_from_all_ochl(type ='high', volume_threshold=100000)\n",
    "all_low_prices = util.get_col_pivot_from_all_ochl(type ='low', volume_threshold=100000)\n",
    "all_vol = util.get_col_pivot_from_all_ochl(type='volume' ,volume_threshold=100000)\n",
    "kraken_columns = list(set(all_close_prices.columns).intersection(set(kraken_symbols))-set(exclude_coins_symbol))\n",
    "all_kraken_close_prices = np.log(all_close_prices[kraken_columns])\n",
    "all_kraken_high_prices = np.log(all_high_prices[kraken_columns])\n",
    "all_kraken_low_prices = np.log(all_low_prices[kraken_columns])\n",
    "all_kraken_vol = all_vol[kraken_columns]"
   ]
  },
  {
   "cell_type": "code",
   "execution_count": 8,
   "metadata": {},
   "outputs": [],
   "source": [
    "reload(util)\n",
    "kraken_ret = (util.transform_returns(kraken_data, volume_threshold=100000))"
   ]
  },
  {
   "cell_type": "code",
   "execution_count": 9,
   "metadata": {},
   "outputs": [],
   "source": [
    "reload(util)\n",
    "modified_ret = util.modify_extreme_ret(kraken_ret)"
   ]
  },
  {
   "cell_type": "code",
   "execution_count": 10,
   "metadata": {},
   "outputs": [],
   "source": [
    "kraken_trading_activity = np.power(modified_ret.rolling(24, min_periods=1).std()*all_kraken_vol, 2/3)\n",
    "log_trading_activity = np.log1p(kraken_trading_activity)"
   ]
  },
  {
   "cell_type": "code",
   "execution_count": 11,
   "metadata": {},
   "outputs": [],
   "source": [
    "start_date_in_sample = '2019-01-01'\n",
    "end_date_in_sample = '2023-12-31'\n",
    "start_date_out_of_sample = '2024-01-01'\n",
    "def get_in_sample(df):\n",
    "    return df.loc[start_date_in_sample:end_date_in_sample]\n",
    "def get_out_of_sample(df):\n",
    "    return df.loc[start_date_out_of_sample:]\n",
    "in_sample_ret = get_in_sample(modified_ret)\n",
    "in_sample_close_prices = get_in_sample(all_kraken_close_prices)\n",
    "in_sample_high_prices = get_in_sample(all_kraken_high_prices)\n",
    "in_sample_low_prices = get_in_sample(all_kraken_close_prices)\n",
    "out_of_sample_ret = get_out_of_sample(modified_ret)\n",
    "out_of_sample_close_prices = get_out_of_sample(all_kraken_close_prices)\n",
    "out_of_sample_high_prices = get_out_of_sample(all_kraken_high_prices)\n",
    "out_of_sample_low_prices = get_out_of_sample(all_kraken_low_prices)"
   ]
  },
  {
   "cell_type": "code",
   "execution_count": 12,
   "metadata": {},
   "outputs": [],
   "source": [
    "def equal_weighting(signal):\n",
    "    '''equal weighting of returns'''\n",
    "    port = signal.div(signal.abs().sum(axis=1),axis=0)\n",
    "    return port.fillna(0)"
   ]
  },
  {
   "cell_type": "markdown",
   "metadata": {},
   "source": [
    "## Channel Breakout"
   ]
  },
  {
   "cell_type": "code",
   "execution_count": 13,
   "metadata": {},
   "outputs": [],
   "source": [
    "import numpy as np\n",
    "import pandas as pd\n",
    "from numba import njit\n",
    "\n",
    "# --- Sparse table for rolling maximum ---\n",
    "@njit\n",
    "def build_sparse_table_max(arr):\n",
    "    n = arr.shape[0]\n",
    "    # Precompute logarithms\n",
    "    log = np.empty(n + 1, dtype=np.int64)\n",
    "    log[1] = 0\n",
    "    for i in range(2, n + 1):\n",
    "        log[i] = log[i // 2] + 1\n",
    "    k = log[n] + 1  # number of levels\n",
    "    st = np.empty((n, k), dtype=arr.dtype)\n",
    "    for i in range(n):\n",
    "        st[i, 0] = arr[i]\n",
    "    j = 1\n",
    "    while (1 << j) <= n:\n",
    "        i = 0\n",
    "        while i + (1 << j) - 1 < n:\n",
    "            # Each entry is the maximum of two overlapping intervals\n",
    "            left_val = st[i, j - 1]\n",
    "            right_val = st[i + (1 << (j - 1)), j - 1]\n",
    "            st[i, j] = left_val if left_val >= right_val else right_val\n",
    "            i += 1\n",
    "        j += 1\n",
    "    return st, log\n",
    "\n",
    "@njit(inline='always')\n",
    "def query_max(st, log, L, R):\n",
    "    j = log[R - L + 1]\n",
    "    left_interval = st[L, j]\n",
    "    right_interval = st[R - (1 << j) + 1, j]\n",
    "    return left_interval if left_interval >= right_interval else right_interval\n",
    "\n",
    "@njit\n",
    "def dynamic_rolling_max_sparse(arr, win_sizes):\n",
    "    n = arr.shape[0]\n",
    "    res = np.empty(n, dtype=arr.dtype)\n",
    "    st, log = build_sparse_table_max(arr)\n",
    "    for i in range(n):\n",
    "        w = int(win_sizes[i])\n",
    "        L = i - w + 1\n",
    "        if L < 0:\n",
    "            L = 0\n",
    "        res[i] = query_max(st, log, L, i)\n",
    "    return res\n",
    "\n",
    "# --- Sparse table for rolling minimum ---\n",
    "@njit\n",
    "def build_sparse_table_min(arr):\n",
    "    n = arr.shape[0]\n",
    "    log = np.empty(n + 1, dtype=np.int64)\n",
    "    log[1] = 0\n",
    "    for i in range(2, n + 1):\n",
    "        log[i] = log[i // 2] + 1\n",
    "    k = log[n] + 1\n",
    "    st = np.empty((n, k), dtype=arr.dtype)\n",
    "    for i in range(n):\n",
    "        st[i, 0] = arr[i]\n",
    "    j = 1\n",
    "    while (1 << j) <= n:\n",
    "        i = 0\n",
    "        while i + (1 << j) - 1 < n:\n",
    "            left_val = st[i, j - 1]\n",
    "            right_val = st[i + (1 << (j - 1)), j - 1]\n",
    "            st[i, j] = left_val if left_val <= right_val else right_val\n",
    "            i += 1\n",
    "        j += 1\n",
    "    return st, log\n",
    "\n",
    "@njit(inline='always')\n",
    "def query_min(st, log, L, R):\n",
    "    j = log[R - L + 1]\n",
    "    left_interval = st[L, j]\n",
    "    right_interval = st[R - (1 << j) + 1, j]\n",
    "    return left_interval if left_interval <= right_interval else right_interval\n",
    "\n",
    "@njit\n",
    "def dynamic_rolling_min_sparse(arr, win_sizes):\n",
    "    n = arr.shape[0]\n",
    "    res = np.empty(n, dtype=arr.dtype)\n",
    "    st, log = build_sparse_table_min(arr)\n",
    "    for i in range(n):\n",
    "        w = int(win_sizes[i])\n",
    "        L = i - w + 1\n",
    "        if L < 0:\n",
    "            L = 0\n",
    "        res[i] = query_min(st, log, L, i)\n",
    "    return res\n",
    "\n",
    "# --- Main business time signal function ---\n",
    "def buy_high_sell_low_businesstime(buy_prices, sell_prices, log_trading_activity, enter_lookback=90000, exit_lookback=800):\n",
    "    # Precompute dynamic window sizes as NumPy arrays.\n",
    "    enter_lookback_np = np.ceil(enter_lookback / log_trading_activity).to_numpy()\n",
    "    exit_lookback_np  = np.ceil(exit_lookback / log_trading_activity).to_numpy()\n",
    "    \n",
    "    # Convert prices to NumPy arrays.\n",
    "    buy_np = buy_prices.to_numpy()\n",
    "    sell_np = sell_prices.to_numpy()\n",
    "    \n",
    "    n_rows, n_cols = buy_np.shape\n",
    "    dynamic_max_np = np.empty_like(buy_np)\n",
    "    dynamic_min_np = np.empty_like(sell_np)\n",
    "    \n",
    "    # Loop over each column (you can further parallelize this loop if needed)\n",
    "    for col in range(n_cols):\n",
    "        dynamic_max_np[:, col] = dynamic_rolling_max_sparse(buy_np[:, col], enter_lookback_np[:, col])\n",
    "        dynamic_min_np[:, col] = dynamic_rolling_min_sparse(sell_np[:, col], exit_lookback_np[:, col])\n",
    "    \n",
    "    # Reconstruct DataFrames.\n",
    "    dynamic_max = pd.DataFrame(dynamic_max_np, index=buy_prices.index, columns=buy_prices.columns)\n",
    "    dynamic_min = pd.DataFrame(dynamic_min_np, index=sell_prices.index, columns=sell_prices.columns)\n",
    "    \n",
    "    # Generate trading signals.\n",
    "    enter_signal = (dynamic_max == buy_prices)\n",
    "    exit_signal  = (dynamic_min == sell_prices)\n",
    "    \n",
    "    position = pd.DataFrame(\n",
    "        np.where(exit_signal, 0, np.where(enter_signal, 1, np.nan)),\n",
    "        index=buy_prices.index,\n",
    "        columns=buy_prices.columns\n",
    "    )\n",
    "    position = position.ffill().fillna(0)\n",
    "    \n",
    "    return equal_weighting(position)  # assuming equal_weighting is defined elsewhere\n"
   ]
  },
  {
   "cell_type": "code",
   "execution_count": 15,
   "metadata": {},
   "outputs": [
    {
     "name": "stdout",
     "output_type": "stream",
     "text": [
      "Corr with BTC (before purification):  0.743707985149404\n",
      "BTC Beta:  0.9909573160616145\n",
      "Corr with BTC:  -0.032199666976930906\n",
      "Average Turnover:  0.0022336504933143913\n",
      "Sharpe Ratio:  1.3419309261957488\n",
      "Max Drawdown:  1.1395749503333457\n",
      "Time Exposure Ratio:  0.5256099789819976\n",
      "Max Drawdown Duration:  352.125 days\n"
     ]
    },
    {
     "data": {
      "text/plain": [
       "(0.0022336504933143913, 1.3419309261957488, 1.1395749503333457, 352.125)"
      ]
     },
     "execution_count": 15,
     "metadata": {},
     "output_type": "execute_result"
    },
    {
     "data": {
      "image/png": "[encoded data removed]",
      "text/plain": [
       "<Figure size 640x480 with 1 Axes>"
      ]
     },
     "metadata": {},
     "output_type": "display_data"
    }
   ],
   "source": [
    "util.to_sharpe(\n",
    "    buy_high_sell_low_businesstime(\n",
    "        in_sample_high_prices,in_sample_low_prices, log_trading_activity, 2740*12, 1200), in_sample_ret, plot=True, purify=True)"
   ]
  },
  {
   "cell_type": "code",
   "execution_count": 16,
   "metadata": {},
   "outputs": [],
   "source": [
    "port = buy_high_sell_low_businesstime(all_kraken_high_prices,all_kraken_low_prices, log_trading_activity, 2740*12, 1200)"
   ]
  },
  {
   "cell_type": "code",
   "execution_count": 17,
   "metadata": {},
   "outputs": [
    {
     "name": "stdout",
     "output_type": "stream",
     "text": [
      "Corr with BTC (before purification):  0.7142620448895307\n",
      "BTC Beta:  1.2950857575123802\n",
      "Corr with BTC:  -0.026540551950860466\n",
      "Average Turnover:  0.0054055477313044295\n",
      "Sharpe Ratio:  1.6665427368581687\n",
      "Max Drawdown:  0.5145624268325333\n",
      "Time Exposure Ratio:  0.5131882941855987\n",
      "Max Drawdown Duration:  130.29166666666666 days\n"
     ]
    },
    {
     "data": {
      "text/plain": [
       "(0.0054055477313044295,\n",
       " 1.6665427368581687,\n",
       " 0.5145624268325333,\n",
       " 130.29166666666666)"
      ]
     },
     "execution_count": 17,
     "metadata": {},
     "output_type": "execute_result"
    },
    {
     "data": {
      "image/png": "[encoded data removed]",
      "text/plain": [
       "<Figure size 640x480 with 1 Axes>"
      ]
     },
     "metadata": {},
     "output_type": "display_data"
    }
   ],
   "source": [
    "util.to_sharpe(port.loc['2024-01-01':], modified_ret.loc['2024-01-01':], plot=True, purify=True)"
   ]
  },
  {
   "cell_type": "code",
   "execution_count": 23,
   "metadata": {},
   "outputs": [],
   "source": [
    "import random\n",
    "import copy\n",
    "\n",
    "def split_list_equal(lt, random_seed=None):\n",
    "    \"\"\"Splits lst into three approximately equal-sized disjoint lists with a fixed random seed.\"\"\"\n",
    "    lt = list(lt)  # Ensure lst is a list\n",
    "    lst = lt.copy()\n",
    "    if random_seed is not None:\n",
    "        random.seed(random_seed)  # Set seed for reproducibility\n",
    "    \n",
    "    random.shuffle(lst)  # Shuffle in place\n",
    "    n = len(lst)\n",
    "    size1, size2 = n // 3, (n // 3) + (n % 3 > 0)  # Distribute extra elements\n",
    "    size3 = n - (size1 + size2)\n",
    "    \n",
    "    return lst[:size1], lst[size1:size1+size2], lst[size1+size2:]\n",
    "\n",
    "list1, list2, list3 = split_list_equal(all_kraken_high_prices.columns, random_seed=42)\n"
   ]
  },
  {
   "cell_type": "code",
   "execution_count": 24,
   "metadata": {},
   "outputs": [],
   "source": [
    "port = buy_high_sell_low_businesstime(all_kraken_high_prices[list3],all_kraken_low_prices[list3], log_trading_activity[list3], 2740*12, 1200)\n"
   ]
  },
  {
   "cell_type": "code",
   "execution_count": 25,
   "metadata": {},
   "outputs": [
    {
     "name": "stdout",
     "output_type": "stream",
     "text": [
      "Average Turnover:  0.012891556189476154\n",
      "Sharpe Ratio:  1.425443654364946\n",
      "Max Drawdown:  1.230917137178375\n",
      "Time Exposure Ratio:  0.3769734308817867\n",
      "Max Drawdown Duration:  71.75 days\n"
     ]
    },
    {
     "data": {
      "text/plain": [
       "(0.012891556189476154, 1.425443654364946, 1.230917137178375, 71.75)"
      ]
     },
     "execution_count": 25,
     "metadata": {},
     "output_type": "execute_result"
    },
    {
     "data": {
      "image/png": "[encoded data removed]",
      "text/plain": [
       "<Figure size 640x480 with 1 Axes>"
      ]
     },
     "metadata": {},
     "output_type": "display_data"
    }
   ],
   "source": [
    "util.to_sharpe(port.loc['2024-01-01':], modified_ret[list3].loc['2024-01-01':], purify=True, plot=True)"
   ]
  },
  {
   "cell_type": "code",
   "execution_count": null,
   "metadata": {},
   "outputs": [
    {
     "name": "stdout",
     "output_type": "stream",
     "text": [
      "Corr with BTC (before purification):  0.7423917797320007\n",
      "BTC Beta:  1.0562256888251225\n",
      "Corr with BTC (before purification):  0.742592519607623\n",
      "BTC Beta:  1.054993531707128\n",
      "Corr with BTC (before purification):  0.7429834542935371\n",
      "BTC Beta:  1.0539793166022107\n",
      "Corr with BTC (before purification):  0.743638789904104\n",
      "BTC Beta:  1.0535306394466435\n",
      "Corr with BTC (before purification):  0.7447267687015188\n",
      "BTC Beta:  1.0527092437067778\n",
      "Corr with BTC (before purification):  0.7412595953345292\n",
      "BTC Beta:  1.0566058268274838\n",
      "Corr with BTC (before purification):  0.7409637107413861\n",
      "BTC Beta:  1.0546809337461323\n",
      "Corr with BTC (before purification):  0.7410823113445922\n",
      "BTC Beta:  1.053195432149595\n",
      "Corr with BTC (before purification):  0.7415471550444667\n",
      "BTC Beta:  1.0527473321761462\n",
      "Corr with BTC (before purification):  0.7425731813991692\n",
      "BTC Beta:  1.0517900132617772\n",
      "Corr with BTC (before purification):  0.7403645894822407\n",
      "BTC Beta:  1.0558359094536165\n",
      "Corr with BTC (before purification):  0.7400144552792824\n",
      "BTC Beta:  1.0543592540131566\n",
      "Corr with BTC (before purification):  0.7402694281569243\n",
      "BTC Beta:  1.0532742447209307\n",
      "Corr with BTC (before purification):  0.740662830976851\n",
      "BTC Beta:  1.0527929605179644\n",
      "Corr with BTC (before purification):  0.7415137320508878\n",
      "BTC Beta:  1.0517137946766308\n",
      "Corr with BTC (before purification):  0.7403486164286276\n",
      "BTC Beta:  1.0553357091955706\n",
      "Corr with BTC (before purification):  0.7400115864372632\n",
      "BTC Beta:  1.0544884804309151\n",
      "Corr with BTC (before purification):  0.7399702275529422\n",
      "BTC Beta:  1.0532150019257718\n",
      "Corr with BTC (before purification):  0.7401049588647477\n",
      "BTC Beta:  1.0526809731999396\n",
      "Corr with BTC (before purification):  0.7407733420126623\n",
      "BTC Beta:  1.0518081166360174\n",
      "Corr with BTC (before purification):  0.7403894482893474\n",
      "BTC Beta:  1.055127871460572\n",
      "Corr with BTC (before purification):  0.7400100892488926\n",
      "BTC Beta:  1.0544091923145575\n",
      "Corr with BTC (before purification):  0.7399687943955127\n",
      "BTC Beta:  1.0533358676918938\n",
      "Corr with BTC (before purification):  0.7400605937289264\n",
      "BTC Beta:  1.052683309757067\n",
      "Corr with BTC (before purification):  0.7407615826417283\n",
      "BTC Beta:  1.0516708049796786\n"
     ]
    }
   ],
   "source": [
    "def grid_search_channel_breakout_businesstime(enter_prices, exit_prices, ret):\n",
    "    exit_lookback = [400, 600, 800, 1000, 1200]\n",
    "    enter_lookback = [10000, 30000, 60000, 90000, 100000]\n",
    "    results = []\n",
    "    \n",
    "    for i in enter_lookback:\n",
    "        for j in exit_lookback:\n",
    "            weightings = buy_high_sell_low_businesstime(enter_prices, exit_prices, log_trading_activity, i, j)\n",
    "            avg_to, sharpe, drawdown, drawdown_duration = util.to_sharpe(weightings, ret, plot = False, purify = True)\n",
    "            results.append((i,j,avg_to, sharpe, drawdown, drawdown_duration))\n",
    "    df = pd.DataFrame(results, columns = ['enter_lookback','exit_lookback','avg_to','sharpe', \"drawdown\", \"drawdown_duration (days)\"])\n",
    "    return df\n",
    "results = grid_search_channel_breakout_businesstime(in_sample_low_prices, in_sample_high_prices, in_sample_ret)"
   ]
  },
  {
   "cell_type": "code",
   "execution_count": null,
   "metadata": {},
   "outputs": [
    {
     "data": {
      "application/vnd.microsoft.datawrangler.viewer.v0+json": {
       "columns": [
        {
         "name": "index",
         "rawType": "int64",
         "type": "integer"
        },
        {
         "name": "enter_lookback",
         "rawType": "int64",
         "type": "integer"
        },
        {
         "name": "exit_lookback",
         "rawType": "int64",
         "type": "integer"
        },
        {
         "name": "avg_to",
         "rawType": "float64",
         "type": "float"
        },
        {
         "name": "sharpe",
         "rawType": "float64",
         "type": "float"
        },
        {
         "name": "drawdown",
         "rawType": "float64",
         "type": "float"
        },
        {
         "name": "drawdown_duration (days)",
         "rawType": "float64",
         "type": "float"
        }
       ],
       "conversionMethod": "pd.DataFrame",
       "ref": "1e94a872-1b26-4669-bc8e-c0310760764e",
       "rows": [
        [
         "19",
         "90000",
         "1200",
         "0.0015069744326301586",
         "1.4237732861124355",
         "1.3109103221671967",
         "426.4166666666667"
        ],
        [
         "14",
         "60000",
         "1200",
         "0.0016444097227200421",
         "1.4154724398235952",
         "1.311271868989948",
         "426.4166666666667"
        ],
        [
         "8",
         "30000",
         "1000",
         "0.0020176044764693224",
         "1.4133587161224395",
         "1.326916857070069",
         "428.0833333333333"
        ],
        [
         "18",
         "90000",
         "1000",
         "0.0015662275707167624",
         "1.4098862801814818",
         "1.326555310247316",
         "426.4166666666667"
        ],
        [
         "13",
         "60000",
         "1000",
         "0.0017080177992074364",
         "1.405851005248402",
         "1.3269168570700687",
         "426.4166666666667"
        ],
        [
         "24",
         "100000",
         "1200",
         "0.0014834094651183139",
         "1.4020575917224587",
         "1.3363150360619553",
         "426.4166666666667"
        ],
        [
         "9",
         "30000",
         "1200",
         "0.0019148417041921788",
         "1.4019965805579266",
         "1.3112718689899485",
         "428.0833333333333"
        ],
        [
         "7",
         "30000",
         "800",
         "0.0021537829422069747",
         "1.3951039450235063",
         "1.3282016973233073",
         "428.1666666666667"
        ],
        [
         "23",
         "100000",
         "1000",
         "0.001537501024903577",
         "1.3890383964118134",
         "1.3370701512481833",
         "426.4166666666667"
        ],
        [
         "12",
         "60000",
         "800",
         "0.0017972740048520423",
         "1.3849077201189832",
         "1.3282016973233073",
         "428.0"
        ]
       ],
       "shape": {
        "columns": 6,
        "rows": 10
       }
      },
      "text/html": [
       "<div>\n",
       "<style scoped>\n",
       "    .dataframe tbody tr th:only-of-type {\n",
       "        vertical-align: middle;\n",
       "    }\n",
       "\n",
       "    .dataframe tbody tr th {\n",
       "        vertical-align: top;\n",
       "    }\n",
       "\n",
       "    .dataframe thead th {\n",
       "        text-align: right;\n",
       "    }\n",
       "</style>\n",
       "<table border=\"1\" class=\"dataframe\">\n",
       "  <thead>\n",
       "    <tr style=\"text-align: right;\">\n",
       "      <th></th>\n",
       "      <th>enter_lookback</th>\n",
       "      <th>exit_lookback</th>\n",
       "      <th>avg_to</th>\n",
       "      <th>sharpe</th>\n",
       "      <th>drawdown</th>\n",
       "      <th>drawdown_duration (days)</th>\n",
       "    </tr>\n",
       "  </thead>\n",
       "  <tbody>\n",
       "    <tr>\n",
       "      <th>19</th>\n",
       "      <td>90000</td>\n",
       "      <td>1200</td>\n",
       "      <td>0.001507</td>\n",
       "      <td>1.423773</td>\n",
       "      <td>1.310910</td>\n",
       "      <td>426.416667</td>\n",
       "    </tr>\n",
       "    <tr>\n",
       "      <th>14</th>\n",
       "      <td>60000</td>\n",
       "      <td>1200</td>\n",
       "      <td>0.001644</td>\n",
       "      <td>1.415472</td>\n",
       "      <td>1.311272</td>\n",
       "      <td>426.416667</td>\n",
       "    </tr>\n",
       "    <tr>\n",
       "      <th>8</th>\n",
       "      <td>30000</td>\n",
       "      <td>1000</td>\n",
       "      <td>0.002018</td>\n",
       "      <td>1.413359</td>\n",
       "      <td>1.326917</td>\n",
       "      <td>428.083333</td>\n",
       "    </tr>\n",
       "    <tr>\n",
       "      <th>18</th>\n",
       "      <td>90000</td>\n",
       "      <td>1000</td>\n",
       "      <td>0.001566</td>\n",
       "      <td>1.409886</td>\n",
       "      <td>1.326555</td>\n",
       "      <td>426.416667</td>\n",
       "    </tr>\n",
       "    <tr>\n",
       "      <th>13</th>\n",
       "      <td>60000</td>\n",
       "      <td>1000</td>\n",
       "      <td>0.001708</td>\n",
       "      <td>1.405851</td>\n",
       "      <td>1.326917</td>\n",
       "      <td>426.416667</td>\n",
       "    </tr>\n",
       "    <tr>\n",
       "      <th>24</th>\n",
       "      <td>100000</td>\n",
       "      <td>1200</td>\n",
       "      <td>0.001483</td>\n",
       "      <td>1.402058</td>\n",
       "      <td>1.336315</td>\n",
       "      <td>426.416667</td>\n",
       "    </tr>\n",
       "    <tr>\n",
       "      <th>9</th>\n",
       "      <td>30000</td>\n",
       "      <td>1200</td>\n",
       "      <td>0.001915</td>\n",
       "      <td>1.401997</td>\n",
       "      <td>1.311272</td>\n",
       "      <td>428.083333</td>\n",
       "    </tr>\n",
       "    <tr>\n",
       "      <th>7</th>\n",
       "      <td>30000</td>\n",
       "      <td>800</td>\n",
       "      <td>0.002154</td>\n",
       "      <td>1.395104</td>\n",
       "      <td>1.328202</td>\n",
       "      <td>428.166667</td>\n",
       "    </tr>\n",
       "    <tr>\n",
       "      <th>23</th>\n",
       "      <td>100000</td>\n",
       "      <td>1000</td>\n",
       "      <td>0.001538</td>\n",
       "      <td>1.389038</td>\n",
       "      <td>1.337070</td>\n",
       "      <td>426.416667</td>\n",
       "    </tr>\n",
       "    <tr>\n",
       "      <th>12</th>\n",
       "      <td>60000</td>\n",
       "      <td>800</td>\n",
       "      <td>0.001797</td>\n",
       "      <td>1.384908</td>\n",
       "      <td>1.328202</td>\n",
       "      <td>428.000000</td>\n",
       "    </tr>\n",
       "  </tbody>\n",
       "</table>\n",
       "</div>"
      ],
      "text/plain": [
       "    enter_lookback  exit_lookback    avg_to    sharpe  drawdown  \\\n",
       "19           90000           1200  0.001507  1.423773  1.310910   \n",
       "14           60000           1200  0.001644  1.415472  1.311272   \n",
       "8            30000           1000  0.002018  1.413359  1.326917   \n",
       "18           90000           1000  0.001566  1.409886  1.326555   \n",
       "13           60000           1000  0.001708  1.405851  1.326917   \n",
       "24          100000           1200  0.001483  1.402058  1.336315   \n",
       "9            30000           1200  0.001915  1.401997  1.311272   \n",
       "7            30000            800  0.002154  1.395104  1.328202   \n",
       "23          100000           1000  0.001538  1.389038  1.337070   \n",
       "12           60000            800  0.001797  1.384908  1.328202   \n",
       "\n",
       "    drawdown_duration (days)  \n",
       "19                426.416667  \n",
       "14                426.416667  \n",
       "8                 428.083333  \n",
       "18                426.416667  \n",
       "13                426.416667  \n",
       "24                426.416667  \n",
       "9                 428.083333  \n",
       "7                 428.166667  \n",
       "23                426.416667  \n",
       "12                428.000000  "
      ]
     },
     "execution_count": 67,
     "metadata": {},
     "output_type": "execute_result"
    }
   ],
   "source": [
    "results.sort_values(by='sharpe', ascending=False).head(10)"
   ]
  },
  {
   "cell_type": "code",
   "execution_count": null,
   "metadata": {},
   "outputs": [
    {
     "data": {
      "text/plain": [
       "<Axes: xlabel='exit_lookback', ylabel='enter_lookback'>"
      ]
     },
     "execution_count": 68,
     "metadata": {},
     "output_type": "execute_result"
    },
    {
     "data": {
      "image/png": "[encoded data removed]",
      "text/plain": [
       "<Figure size 640x480 with 2 Axes>"
      ]
     },
     "metadata": {},
     "output_type": "display_data"
    }
   ],
   "source": [
    "import seaborn as sns\n",
    "sns.heatmap(results.pivot_table(index='enter_lookback', columns='exit_lookback', values='sharpe'))"
   ]
  },
  {
   "cell_type": "code",
   "execution_count": null,
   "metadata": {},
   "outputs": [],
   "source": [
    "def buy_high_sell_low(buy_prices, sell_prices, enter_lookback = 2760, exit_lookback = 32):\n",
    "    enter_signal = buy_prices.rolling(enter_lookback, min_periods = 1).max() == buy_prices\n",
    "    exit_signal = sell_prices.rolling(exit_lookback, min_periods = 1).min() == sell_prices\n",
    "    position = pd.DataFrame(\n",
    "        np.where(exit_signal, 0, np.where(enter_signal, 1, np.nan)),\n",
    "        index = buy_prices.index,\n",
    "        columns = buy_prices.columns\n",
    "    )\n",
    "    position = position.ffill().fillna(0)\n",
    "    return equal_weighting(position)\n",
    "\n",
    "def grid_search_blsh(enter_prices, exit_prices, ret):\n",
    "    enter_lookback = [ 2700, 2750, 2800, 2850, 2900]\n",
    "    exit_lookback = [24, 26, 28,30, 32, 34, 36, 38, 40]\n",
    "    results = []\n",
    "    \n",
    "    for i in enter_lookback:\n",
    "        for j in exit_lookback:\n",
    "            weightings = buy_high_sell_low(enter_prices, exit_prices, i, j)\n",
    "            avg_to, sharpe, drawdown, drawdown_duration = util.to_sharpe(weightings, ret, plot = False)\n",
    "            results.append((i,j,avg_to, sharpe, drawdown, drawdown_duration))\n",
    "    df = pd.DataFrame(results, columns = ['enter_lookback','exit_lookback','avg_to','sharpe', \"drawdown\", \"drawdown_duration (days)\"])\n",
    "    return df\n",
    "port = buy_high_sell_low(in_sample_low_prices, in_sample_high_prices)"
   ]
  },
  {
   "cell_type": "code",
   "execution_count": 27,
   "metadata": {},
   "outputs": [],
   "source": [
    "results = grid_search_blsh(in_sample_high_prices, in_sample_low_prices, in_sample_ret)"
   ]
  },
  {
   "cell_type": "code",
   "execution_count": null,
   "metadata": {},
   "outputs": [
    {
     "data": {
      "application/vnd.microsoft.datawrangler.viewer.v0+json": {
       "columns": [
        {
         "name": "index",
         "rawType": "int64",
         "type": "integer"
        },
        {
         "name": "enter_lookback",
         "rawType": "int64",
         "type": "integer"
        },
        {
         "name": "exit_lookback",
         "rawType": "int64",
         "type": "integer"
        },
        {
         "name": "avg_to",
         "rawType": "float64",
         "type": "float"
        },
        {
         "name": "sharpe",
         "rawType": "float64",
         "type": "float"
        },
        {
         "name": "drawdown",
         "rawType": "float64",
         "type": "float"
        },
        {
         "name": "drawdown_duration (days)",
         "rawType": "float64",
         "type": "float"
        }
       ],
       "conversionMethod": "pd.DataFrame",
       "ref": "f01f91d3-6d5a-40d5-be19-6c032ad6aea2",
       "rows": [
        [
         "13",
         "2750",
         "32",
         "0.032465274967196416",
         "2.3441635132847525",
         "1.4991159033870454",
         "263.4583333333333"
        ],
        [
         "22",
         "2800",
         "32",
         "0.03227735870302349",
         "2.343919265966166",
         "1.4991159033870454",
         "263.4583333333333"
        ],
        [
         "4",
         "2700",
         "32",
         "0.032692765269654304",
         "2.311644052731213",
         "1.4991159033870454",
         "263.4166666666667"
        ],
        [
         "11",
         "2750",
         "28",
         "0.03566983725260076",
         "2.2799723782952106",
         "1.8273788998495526",
         "368.75"
        ],
        [
         "20",
         "2800",
         "28",
         "0.03545868817307176",
         "2.2791030130250602",
         "1.8656242458870729",
         "370.2916666666667"
        ],
        [
         "40",
         "2900",
         "32",
         "0.03184940355859443",
         "2.2678763104462876",
         "1.5505270395155044",
         "264.3333333333333"
        ],
        [
         "2",
         "2700",
         "28",
         "0.035902979765150576",
         "2.2601633169494155",
         "1.862375947355165",
         "369.1666666666667"
        ],
        [
         "16",
         "2750",
         "38",
         "0.028749696600892063",
         "2.2413560392848493",
         "1.5230970196348506",
         "245.625"
        ],
        [
         "25",
         "2800",
         "38",
         "0.028594674849620073",
         "2.240075136511863",
         "1.5230970196348508",
         "245.33333333333334"
        ],
        [
         "17",
         "2750",
         "40",
         "0.0276935806160068",
         "2.238466645754763",
         "1.5337285144390074",
         "265.25"
        ],
        [
         "23",
         "2800",
         "34",
         "0.030976591668255542",
         "2.236378921715322",
         "1.5312666164057716",
         "386.6666666666667"
        ],
        [
         "14",
         "2750",
         "34",
         "0.031163741587526522",
         "2.2337991395620125",
         "1.5312666164057709",
         "299.5416666666667"
        ],
        [
         "21",
         "2800",
         "30",
         "0.03403805704010199",
         "2.2332445567994044",
         "1.9827993639224992",
         "370.25"
        ],
        [
         "12",
         "2750",
         "30",
         "0.03424764604849958",
         "2.230688962574431",
         "1.944554017884979",
         "262.9583333333333"
        ],
        [
         "26",
         "2800",
         "40",
         "0.027546132542780485",
         "2.2299310354452357",
         "1.5337285144390074",
         "265.125"
        ],
        [
         "10",
         "2750",
         "26",
         "0.037378909683437565",
         "2.2253104215299864",
         "1.8821049114922062",
         "369.1666666666667"
        ],
        [
         "8",
         "2700",
         "40",
         "0.027915633395790264",
         "2.2176372497015637",
         "1.5337285144390083",
         "266.25"
        ],
        [
         "7",
         "2700",
         "38",
         "0.02893604315108964",
         "2.217193572160863",
         "1.5230970196348508",
         "267.7083333333333"
        ],
        [
         "19",
         "2800",
         "26",
         "0.037107605617330626",
         "2.2141871850945978",
         "1.9066586037171476",
         "370.625"
        ],
        [
         "3",
         "2700",
         "30",
         "0.034480072477100346",
         "2.2135987874246825",
         "1.9795510653905986",
         "246.33333333333334"
        ]
       ],
       "shape": {
        "columns": 6,
        "rows": 20
       }
      },
      "text/html": [
       "<div>\n",
       "<style scoped>\n",
       "    .dataframe tbody tr th:only-of-type {\n",
       "        vertical-align: middle;\n",
       "    }\n",
       "\n",
       "    .dataframe tbody tr th {\n",
       "        vertical-align: top;\n",
       "    }\n",
       "\n",
       "    .dataframe thead th {\n",
       "        text-align: right;\n",
       "    }\n",
       "</style>\n",
       "<table border=\"1\" class=\"dataframe\">\n",
       "  <thead>\n",
       "    <tr style=\"text-align: right;\">\n",
       "      <th></th>\n",
       "      <th>enter_lookback</th>\n",
       "      <th>exit_lookback</th>\n",
       "      <th>avg_to</th>\n",
       "      <th>sharpe</th>\n",
       "      <th>drawdown</th>\n",
       "      <th>drawdown_duration (days)</th>\n",
       "    </tr>\n",
       "  </thead>\n",
       "  <tbody>\n",
       "    <tr>\n",
       "      <th>13</th>\n",
       "      <td>2750</td>\n",
       "      <td>32</td>\n",
       "      <td>0.032465</td>\n",
       "      <td>2.344164</td>\n",
       "      <td>1.499116</td>\n",
       "      <td>263.458333</td>\n",
       "    </tr>\n",
       "    <tr>\n",
       "      <th>22</th>\n",
       "      <td>2800</td>\n",
       "      <td>32</td>\n",
       "      <td>0.032277</td>\n",
       "      <td>2.343919</td>\n",
       "      <td>1.499116</td>\n",
       "      <td>263.458333</td>\n",
       "    </tr>\n",
       "    <tr>\n",
       "      <th>4</th>\n",
       "      <td>2700</td>\n",
       "      <td>32</td>\n",
       "      <td>0.032693</td>\n",
       "      <td>2.311644</td>\n",
       "      <td>1.499116</td>\n",
       "      <td>263.416667</td>\n",
       "    </tr>\n",
       "    <tr>\n",
       "      <th>11</th>\n",
       "      <td>2750</td>\n",
       "      <td>28</td>\n",
       "      <td>0.035670</td>\n",
       "      <td>2.279972</td>\n",
       "      <td>1.827379</td>\n",
       "      <td>368.750000</td>\n",
       "    </tr>\n",
       "    <tr>\n",
       "      <th>20</th>\n",
       "      <td>2800</td>\n",
       "      <td>28</td>\n",
       "      <td>0.035459</td>\n",
       "      <td>2.279103</td>\n",
       "      <td>1.865624</td>\n",
       "      <td>370.291667</td>\n",
       "    </tr>\n",
       "    <tr>\n",
       "      <th>40</th>\n",
       "      <td>2900</td>\n",
       "      <td>32</td>\n",
       "      <td>0.031849</td>\n",
       "      <td>2.267876</td>\n",
       "      <td>1.550527</td>\n",
       "      <td>264.333333</td>\n",
       "    </tr>\n",
       "    <tr>\n",
       "      <th>2</th>\n",
       "      <td>2700</td>\n",
       "      <td>28</td>\n",
       "      <td>0.035903</td>\n",
       "      <td>2.260163</td>\n",
       "      <td>1.862376</td>\n",
       "      <td>369.166667</td>\n",
       "    </tr>\n",
       "    <tr>\n",
       "      <th>16</th>\n",
       "      <td>2750</td>\n",
       "      <td>38</td>\n",
       "      <td>0.028750</td>\n",
       "      <td>2.241356</td>\n",
       "      <td>1.523097</td>\n",
       "      <td>245.625000</td>\n",
       "    </tr>\n",
       "    <tr>\n",
       "      <th>25</th>\n",
       "      <td>2800</td>\n",
       "      <td>38</td>\n",
       "      <td>0.028595</td>\n",
       "      <td>2.240075</td>\n",
       "      <td>1.523097</td>\n",
       "      <td>245.333333</td>\n",
       "    </tr>\n",
       "    <tr>\n",
       "      <th>17</th>\n",
       "      <td>2750</td>\n",
       "      <td>40</td>\n",
       "      <td>0.027694</td>\n",
       "      <td>2.238467</td>\n",
       "      <td>1.533729</td>\n",
       "      <td>265.250000</td>\n",
       "    </tr>\n",
       "    <tr>\n",
       "      <th>23</th>\n",
       "      <td>2800</td>\n",
       "      <td>34</td>\n",
       "      <td>0.030977</td>\n",
       "      <td>2.236379</td>\n",
       "      <td>1.531267</td>\n",
       "      <td>386.666667</td>\n",
       "    </tr>\n",
       "    <tr>\n",
       "      <th>14</th>\n",
       "      <td>2750</td>\n",
       "      <td>34</td>\n",
       "      <td>0.031164</td>\n",
       "      <td>2.233799</td>\n",
       "      <td>1.531267</td>\n",
       "      <td>299.541667</td>\n",
       "    </tr>\n",
       "    <tr>\n",
       "      <th>21</th>\n",
       "      <td>2800</td>\n",
       "      <td>30</td>\n",
       "      <td>0.034038</td>\n",
       "      <td>2.233245</td>\n",
       "      <td>1.982799</td>\n",
       "      <td>370.250000</td>\n",
       "    </tr>\n",
       "    <tr>\n",
       "      <th>12</th>\n",
       "      <td>2750</td>\n",
       "      <td>30</td>\n",
       "      <td>0.034248</td>\n",
       "      <td>2.230689</td>\n",
       "      <td>1.944554</td>\n",
       "      <td>262.958333</td>\n",
       "    </tr>\n",
       "    <tr>\n",
       "      <th>26</th>\n",
       "      <td>2800</td>\n",
       "      <td>40</td>\n",
       "      <td>0.027546</td>\n",
       "      <td>2.229931</td>\n",
       "      <td>1.533729</td>\n",
       "      <td>265.125000</td>\n",
       "    </tr>\n",
       "    <tr>\n",
       "      <th>10</th>\n",
       "      <td>2750</td>\n",
       "      <td>26</td>\n",
       "      <td>0.037379</td>\n",
       "      <td>2.225310</td>\n",
       "      <td>1.882105</td>\n",
       "      <td>369.166667</td>\n",
       "    </tr>\n",
       "    <tr>\n",
       "      <th>8</th>\n",
       "      <td>2700</td>\n",
       "      <td>40</td>\n",
       "      <td>0.027916</td>\n",
       "      <td>2.217637</td>\n",
       "      <td>1.533729</td>\n",
       "      <td>266.250000</td>\n",
       "    </tr>\n",
       "    <tr>\n",
       "      <th>7</th>\n",
       "      <td>2700</td>\n",
       "      <td>38</td>\n",
       "      <td>0.028936</td>\n",
       "      <td>2.217194</td>\n",
       "      <td>1.523097</td>\n",
       "      <td>267.708333</td>\n",
       "    </tr>\n",
       "    <tr>\n",
       "      <th>19</th>\n",
       "      <td>2800</td>\n",
       "      <td>26</td>\n",
       "      <td>0.037108</td>\n",
       "      <td>2.214187</td>\n",
       "      <td>1.906659</td>\n",
       "      <td>370.625000</td>\n",
       "    </tr>\n",
       "    <tr>\n",
       "      <th>3</th>\n",
       "      <td>2700</td>\n",
       "      <td>30</td>\n",
       "      <td>0.034480</td>\n",
       "      <td>2.213599</td>\n",
       "      <td>1.979551</td>\n",
       "      <td>246.333333</td>\n",
       "    </tr>\n",
       "  </tbody>\n",
       "</table>\n",
       "</div>"
      ],
      "text/plain": [
       "    enter_lookback  exit_lookback    avg_to    sharpe  drawdown  \\\n",
       "13            2750             32  0.032465  2.344164  1.499116   \n",
       "22            2800             32  0.032277  2.343919  1.499116   \n",
       "4             2700             32  0.032693  2.311644  1.499116   \n",
       "11            2750             28  0.035670  2.279972  1.827379   \n",
       "20            2800             28  0.035459  2.279103  1.865624   \n",
       "40            2900             32  0.031849  2.267876  1.550527   \n",
       "2             2700             28  0.035903  2.260163  1.862376   \n",
       "16            2750             38  0.028750  2.241356  1.523097   \n",
       "25            2800             38  0.028595  2.240075  1.523097   \n",
       "17            2750             40  0.027694  2.238467  1.533729   \n",
       "23            2800             34  0.030977  2.236379  1.531267   \n",
       "14            2750             34  0.031164  2.233799  1.531267   \n",
       "21            2800             30  0.034038  2.233245  1.982799   \n",
       "12            2750             30  0.034248  2.230689  1.944554   \n",
       "26            2800             40  0.027546  2.229931  1.533729   \n",
       "10            2750             26  0.037379  2.225310  1.882105   \n",
       "8             2700             40  0.027916  2.217637  1.533729   \n",
       "7             2700             38  0.028936  2.217194  1.523097   \n",
       "19            2800             26  0.037108  2.214187  1.906659   \n",
       "3             2700             30  0.034480  2.213599  1.979551   \n",
       "\n",
       "    drawdown_duration (days)  \n",
       "13                263.458333  \n",
       "22                263.458333  \n",
       "4                 263.416667  \n",
       "11                368.750000  \n",
       "20                370.291667  \n",
       "40                264.333333  \n",
       "2                 369.166667  \n",
       "16                245.625000  \n",
       "25                245.333333  \n",
       "17                265.250000  \n",
       "23                386.666667  \n",
       "14                299.541667  \n",
       "21                370.250000  \n",
       "12                262.958333  \n",
       "26                265.125000  \n",
       "10                369.166667  \n",
       "8                 266.250000  \n",
       "7                 267.708333  \n",
       "19                370.625000  \n",
       "3                 246.333333  "
      ]
     },
     "execution_count": 301,
     "metadata": {},
     "output_type": "execute_result"
    }
   ],
   "source": [
    "results.sort_values('sharpe', ascending=False).where(lambda x: x['avg_to'] > 0.01).dropna().head(20)"
   ]
  },
  {
   "cell_type": "code",
   "execution_count": null,
   "metadata": {},
   "outputs": [
    {
     "name": "stdout",
     "output_type": "stream",
     "text": [
      "Corr with BTC (before purification):  0.16134215738538263\n",
      "BTC Beta:  0.5733286150139952\n",
      "Corr with BTC:  -0.009530470757076541\n",
      "Average Turnover:  0.03239718693604279\n",
      "Sharpe Ratio:  2.1514864443166672\n",
      "Max Drawdown:  1.916936928157273\n",
      "Time Exposure Ratio:  0.2772091748149502\n",
      "Max Drawdown Duration:  263.2916666666667 days\n"
     ]
    },
    {
     "data": {
      "text/plain": [
       "(0.03239718693604279, 2.1514864443166672, 1.916936928157273, 263.2916666666667)"
      ]
     },
     "execution_count": 453,
     "metadata": {},
     "output_type": "execute_result"
    },
    {
     "data": {
      "image/png": "[encoded data removed]",
      "text/plain": [
       "<Figure size 640x480 with 1 Axes>"
      ]
     },
     "metadata": {},
     "output_type": "display_data"
    }
   ],
   "source": [
    "reload(util)\n",
    "util.to_sharpe(buy_high_sell_low(in_sample_high_prices, in_sample_low_prices, 2760, 32), in_sample_ret, plot=True, purify=True)"
   ]
  },
  {
   "cell_type": "code",
   "execution_count": null,
   "metadata": {},
   "outputs": [
    {
     "name": "stdout",
     "output_type": "stream",
     "text": [
      "Corr with BTC (before purification):  0.18254965156127154\n",
      "BTC Beta:  1.0035861850773724\n",
      "Corr with BTC:  -0.006068596894807587\n",
      "Average Turnover:  0.052363688253238304\n",
      "Sharpe Ratio:  1.231317648204317\n",
      "Max Drawdown:  2.232722695272162\n",
      "Time Exposure Ratio:  0.39670773969965345\n",
      "Max Drawdown Duration:  146.20833333333334 days\n"
     ]
    },
    {
     "data": {
      "text/plain": [
       "(0.052363688253238304,\n",
       " 1.231317648204317,\n",
       " 2.232722695272162,\n",
       " 146.20833333333334)"
      ]
     },
     "execution_count": 452,
     "metadata": {},
     "output_type": "execute_result"
    },
    {
     "data": {
      "image/png": "[encoded data removed]",
      "text/plain": [
       "<Figure size 640x480 with 1 Axes>"
      ]
     },
     "metadata": {},
     "output_type": "display_data"
    }
   ],
   "source": [
    "util.to_sharpe(buy_high_sell_low(out_of_sample_high_prices, out_of_sample_low_prices, 2760, 32), out_of_sample_ret, plot=True, purify=True)"
   ]
  },
  {
   "cell_type": "code",
   "execution_count": null,
   "metadata": {},
   "outputs": [
    {
     "data": {
      "text/plain": [
       "<Axes: xlabel='exit_lookback', ylabel='enter_lookback'>"
      ]
     },
     "execution_count": 293,
     "metadata": {},
     "output_type": "execute_result"
    },
    {
     "data": {
      "image/png": "[encoded data removed]",
      "text/plain": [
       "<Figure size 640x480 with 2 Axes>"
      ]
     },
     "metadata": {},
     "output_type": "display_data"
    }
   ],
   "source": [
    "import seaborn as sns\n",
    "sns.heatmap(results.pivot_table(index='enter_lookback', columns='exit_lookback', values='sharpe'))"
   ]
  },
  {
   "cell_type": "code",
   "execution_count": null,
   "metadata": {},
   "outputs": [],
   "source": [
    "def zscore_reversal_long(ret, enter_lookback=1344, exit_lookback=12, enter_zscore = -3, exit_zscore = 1 ):\n",
    "\n",
    "    long_enter_zscore= (ret-ret.rolling(window=enter_lookback, min_periods=1).mean()).divide(ret.rolling(window=enter_lookback, min_periods=1).std())\n",
    "    long_exit_zscore  = (ret-ret.rolling(window=exit_lookback, min_periods=1).mean()).divide(ret.rolling(window=exit_lookback, min_periods=1).std())\n",
    "\n",
    "\n",
    "    position = pd.DataFrame(\n",
    "        np.where(long_enter_zscore <= enter_zscore, 1, np.where(long_exit_zscore > exit_zscore, 0, np.nan)),\n",
    "        # np.where(long_exit_zscore > exit_zscore, 0, np.where(long_enter_zscore <= enter_zscore, 1, np.nan)),\n",
    "        index=ret.index,\n",
    "        columns=ret.columns\n",
    "    )\n",
    "    position = position.ffill().fillna(0)\n",
    "    \n",
    "    return equal_weighting(position)\n",
    "\n",
    "port = zscore_reversal_long(in_sample_ret)"
   ]
  },
  {
   "cell_type": "code",
   "execution_count": null,
   "metadata": {},
   "outputs": [],
   "source": [
    "\n",
    "def zscore_reversal_long_gridsearch(ret):\n",
    "    enter_lookback = [12, 15, 1344]\n",
    "    exit_lookback = [12, 15, 24, 168, 672, 1344, 1500]\n",
    "    enter_zscore = [-3, -2.5]\n",
    "    exit_zscore = [0.5, 1]\n",
    "    results = []\n",
    "    \n",
    "    for i in enter_lookback:\n",
    "        for j in exit_lookback:\n",
    "            for k in enter_zscore:\n",
    "                for l in exit_zscore:\n",
    "                    if enter_zscore > exit_zscore:\n",
    "                        continue\n",
    "                    weightings = zscore_reversal_long(ret,i,j,k,l)\n",
    "                    avg_to, sharpe, drawdown, drawdown_duration = util.to_sharpe(weightings, ret, plot = False)\n",
    "                    results.append((i,j,k,l,avg_to, sharpe, drawdown, drawdown_duration))\n",
    "    df = pd.DataFrame(results, columns = ['enter_lookback','exit_lookback','enter_zscore','exit_zscore','avg_to','sharpe', \"drawdown\", \"drawdown_duration (days)\"])\n",
    "    return df\n",
    "results = zscore_reversal_long_gridsearch(in_sample_ret)"
   ]
  },
  {
   "cell_type": "code",
   "execution_count": null,
   "metadata": {},
   "outputs": [
    {
     "data": {
      "application/vnd.microsoft.datawrangler.viewer.v0+json": {
       "columns": [
        {
         "name": "index",
         "rawType": "int64",
         "type": "integer"
        },
        {
         "name": "enter_lookback",
         "rawType": "int64",
         "type": "integer"
        },
        {
         "name": "exit_lookback",
         "rawType": "int64",
         "type": "integer"
        },
        {
         "name": "enter_zscore",
         "rawType": "float64",
         "type": "float"
        },
        {
         "name": "exit_zscore",
         "rawType": "float64",
         "type": "float"
        },
        {
         "name": "avg_to",
         "rawType": "float64",
         "type": "float"
        },
        {
         "name": "sharpe",
         "rawType": "float64",
         "type": "float"
        },
        {
         "name": "drawdown",
         "rawType": "float64",
         "type": "float"
        },
        {
         "name": "drawdown_duration (days)",
         "rawType": "float64",
         "type": "float"
        }
       ],
       "conversionMethod": "pd.DataFrame",
       "ref": "50f04fdc-708b-40b2-8439-ec0c93955f8e",
       "rows": [
        [
         "61",
         "1344",
         "15",
         "-3.0",
         "1.0",
         "0.19855183019363037",
         "0.13373552846228814",
         "12.59746407623999",
         "799.1666666666666"
        ],
        [
         "65",
         "1344",
         "24",
         "-3.0",
         "1.0",
         "0.19414218146597567",
         "-0.05827652658930854",
         "11.860407567627107",
         "802.8333333333334"
        ],
        [
         "57",
         "1344",
         "12",
         "-3.0",
         "1.0",
         "0.20157673810276727",
         "-0.20325088185079287",
         "13.356996703828173",
         "875.0"
        ],
        [
         "25",
         "12",
         "1500",
         "-3.0",
         "1.0",
         "0.02114054641527169",
         "-0.7122173257939024",
         "3.939533390946339",
         "1712.125"
        ],
        [
         "69",
         "1344",
         "168",
         "-3.0",
         "1.0",
         "0.2074148095838529",
         "-0.8056569807320432",
         "13.232820293338351",
         "962.9166666666666"
        ],
        [
         "21",
         "12",
         "1344",
         "-3.0",
         "1.0",
         "0.021144372243273344",
         "-0.8224402273976364",
         "3.630716009166572",
         "1725.5833333333333"
        ],
        [
         "63",
         "1344",
         "15",
         "-2.5",
         "1.0",
         "0.27316766184465546",
         "-0.8368169048227974",
         "16.69243358813527",
         "873.5416666666666"
        ],
        [
         "20",
         "12",
         "1344",
         "-3.0",
         "0.5",
         "0.022772416179009585",
         "-0.9005233919267679",
         "3.9037239419592566",
         "1725.5833333333333"
        ],
        [
         "60",
         "1344",
         "15",
         "-3.0",
         "0.5",
         "0.24058239235523973",
         "-0.9071538168457349",
         "15.820875334821306",
         "981.5"
        ],
        [
         "67",
         "1344",
         "24",
         "-2.5",
         "1.0",
         "0.2651476256582878",
         "-0.9104674527279802",
         "16.208044597943562",
         "873.5416666666666"
        ]
       ],
       "shape": {
        "columns": 8,
        "rows": 10
       }
      },
      "text/html": [
       "<div>\n",
       "<style scoped>\n",
       "    .dataframe tbody tr th:only-of-type {\n",
       "        vertical-align: middle;\n",
       "    }\n",
       "\n",
       "    .dataframe tbody tr th {\n",
       "        vertical-align: top;\n",
       "    }\n",
       "\n",
       "    .dataframe thead th {\n",
       "        text-align: right;\n",
       "    }\n",
       "</style>\n",
       "<table border=\"1\" class=\"dataframe\">\n",
       "  <thead>\n",
       "    <tr style=\"text-align: right;\">\n",
       "      <th></th>\n",
       "      <th>enter_lookback</th>\n",
       "      <th>exit_lookback</th>\n",
       "      <th>enter_zscore</th>\n",
       "      <th>exit_zscore</th>\n",
       "      <th>avg_to</th>\n",
       "      <th>sharpe</th>\n",
       "      <th>drawdown</th>\n",
       "      <th>drawdown_duration (days)</th>\n",
       "    </tr>\n",
       "  </thead>\n",
       "  <tbody>\n",
       "    <tr>\n",
       "      <th>61</th>\n",
       "      <td>1344</td>\n",
       "      <td>15</td>\n",
       "      <td>-3.0</td>\n",
       "      <td>1.0</td>\n",
       "      <td>0.198552</td>\n",
       "      <td>0.133736</td>\n",
       "      <td>12.597464</td>\n",
       "      <td>799.166667</td>\n",
       "    </tr>\n",
       "    <tr>\n",
       "      <th>65</th>\n",
       "      <td>1344</td>\n",
       "      <td>24</td>\n",
       "      <td>-3.0</td>\n",
       "      <td>1.0</td>\n",
       "      <td>0.194142</td>\n",
       "      <td>-0.058277</td>\n",
       "      <td>11.860408</td>\n",
       "      <td>802.833333</td>\n",
       "    </tr>\n",
       "    <tr>\n",
       "      <th>57</th>\n",
       "      <td>1344</td>\n",
       "      <td>12</td>\n",
       "      <td>-3.0</td>\n",
       "      <td>1.0</td>\n",
       "      <td>0.201577</td>\n",
       "      <td>-0.203251</td>\n",
       "      <td>13.356997</td>\n",
       "      <td>875.000000</td>\n",
       "    </tr>\n",
       "    <tr>\n",
       "      <th>25</th>\n",
       "      <td>12</td>\n",
       "      <td>1500</td>\n",
       "      <td>-3.0</td>\n",
       "      <td>1.0</td>\n",
       "      <td>0.021141</td>\n",
       "      <td>-0.712217</td>\n",
       "      <td>3.939533</td>\n",
       "      <td>1712.125000</td>\n",
       "    </tr>\n",
       "    <tr>\n",
       "      <th>69</th>\n",
       "      <td>1344</td>\n",
       "      <td>168</td>\n",
       "      <td>-3.0</td>\n",
       "      <td>1.0</td>\n",
       "      <td>0.207415</td>\n",
       "      <td>-0.805657</td>\n",
       "      <td>13.232820</td>\n",
       "      <td>962.916667</td>\n",
       "    </tr>\n",
       "    <tr>\n",
       "      <th>21</th>\n",
       "      <td>12</td>\n",
       "      <td>1344</td>\n",
       "      <td>-3.0</td>\n",
       "      <td>1.0</td>\n",
       "      <td>0.021144</td>\n",
       "      <td>-0.822440</td>\n",
       "      <td>3.630716</td>\n",
       "      <td>1725.583333</td>\n",
       "    </tr>\n",
       "    <tr>\n",
       "      <th>63</th>\n",
       "      <td>1344</td>\n",
       "      <td>15</td>\n",
       "      <td>-2.5</td>\n",
       "      <td>1.0</td>\n",
       "      <td>0.273168</td>\n",
       "      <td>-0.836817</td>\n",
       "      <td>16.692434</td>\n",
       "      <td>873.541667</td>\n",
       "    </tr>\n",
       "    <tr>\n",
       "      <th>20</th>\n",
       "      <td>12</td>\n",
       "      <td>1344</td>\n",
       "      <td>-3.0</td>\n",
       "      <td>0.5</td>\n",
       "      <td>0.022772</td>\n",
       "      <td>-0.900523</td>\n",
       "      <td>3.903724</td>\n",
       "      <td>1725.583333</td>\n",
       "    </tr>\n",
       "    <tr>\n",
       "      <th>60</th>\n",
       "      <td>1344</td>\n",
       "      <td>15</td>\n",
       "      <td>-3.0</td>\n",
       "      <td>0.5</td>\n",
       "      <td>0.240582</td>\n",
       "      <td>-0.907154</td>\n",
       "      <td>15.820875</td>\n",
       "      <td>981.500000</td>\n",
       "    </tr>\n",
       "    <tr>\n",
       "      <th>67</th>\n",
       "      <td>1344</td>\n",
       "      <td>24</td>\n",
       "      <td>-2.5</td>\n",
       "      <td>1.0</td>\n",
       "      <td>0.265148</td>\n",
       "      <td>-0.910467</td>\n",
       "      <td>16.208045</td>\n",
       "      <td>873.541667</td>\n",
       "    </tr>\n",
       "  </tbody>\n",
       "</table>\n",
       "</div>"
      ],
      "text/plain": [
       "    enter_lookback  exit_lookback  enter_zscore  exit_zscore    avg_to  \\\n",
       "61            1344             15          -3.0          1.0  0.198552   \n",
       "65            1344             24          -3.0          1.0  0.194142   \n",
       "57            1344             12          -3.0          1.0  0.201577   \n",
       "25              12           1500          -3.0          1.0  0.021141   \n",
       "69            1344            168          -3.0          1.0  0.207415   \n",
       "21              12           1344          -3.0          1.0  0.021144   \n",
       "63            1344             15          -2.5          1.0  0.273168   \n",
       "20              12           1344          -3.0          0.5  0.022772   \n",
       "60            1344             15          -3.0          0.5  0.240582   \n",
       "67            1344             24          -2.5          1.0  0.265148   \n",
       "\n",
       "      sharpe   drawdown  drawdown_duration (days)  \n",
       "61  0.133736  12.597464                799.166667  \n",
       "65 -0.058277  11.860408                802.833333  \n",
       "57 -0.203251  13.356997                875.000000  \n",
       "25 -0.712217   3.939533               1712.125000  \n",
       "69 -0.805657  13.232820                962.916667  \n",
       "21 -0.822440   3.630716               1725.583333  \n",
       "63 -0.836817  16.692434                873.541667  \n",
       "20 -0.900523   3.903724               1725.583333  \n",
       "60 -0.907154  15.820875                981.500000  \n",
       "67 -0.910467  16.208045                873.541667  "
      ]
     },
     "execution_count": 361,
     "metadata": {},
     "output_type": "execute_result"
    }
   ],
   "source": [
    "results.sort_values('sharpe', ascending=False).where(lambda x: x['avg_to'] > 0.01).dropna().head(10)"
   ]
  },
  {
   "cell_type": "markdown",
   "metadata": {},
   "source": [
    "## Mean Reversion"
   ]
  },
  {
   "cell_type": "code",
   "execution_count": 53,
   "metadata": {},
   "outputs": [],
   "source": [
    "def buy_low_sell_high(buy_prices, sell_prices, enter_lookback = 12, exit_lookback = 12):\n",
    "    enter_signal = buy_prices.rolling(enter_lookback, min_periods = 1).min() == buy_prices\n",
    "    exit_signal = sell_prices.rolling(exit_lookback, min_periods = 1).max() == sell_prices\n",
    "    position = pd.DataFrame(\n",
    "        np.where(exit_signal, 0, np.where(enter_signal, 1, np.nan)),\n",
    "        index = buy_prices.index,\n",
    "        columns = buy_prices.columns\n",
    "    )\n",
    "    position = position.ffill().fillna(0)\n",
    "    return equal_weighting(position)\n",
    "def grid_search_mr(enter_prices, exit_prices, ret):\n",
    "    enter_lookback = [1000, 1800,  2400, 3200, 4800]\n",
    "    exit_lookback = [24, 80, 100, 160, 240]\n",
    "    results = []\n",
    "    \n",
    "    for i in enter_lookback:\n",
    "        for j in exit_lookback:\n",
    "            weightings = buy_low_sell_high(enter_prices, exit_prices, i, j)\n",
    "            avg_to, sharpe, drawdown, drawdown_duration = util.to_sharpe(weightings, ret, plot = False, purify=True)\n",
    "            results.append((i,j,avg_to, sharpe, drawdown, drawdown_duration))\n",
    "    df = pd.DataFrame(results, columns = ['enter_lookback','exit_lookback','avg_to','sharpe', \"drawdown\", \"drawdown_duration (days)\"])\n",
    "    return df\n",
    "results = grid_search_mr(in_sample_low_prices, in_sample_high_prices, in_sample_ret)"
   ]
  },
  {
   "cell_type": "code",
   "execution_count": 54,
   "metadata": {},
   "outputs": [
    {
     "data": {
      "application/vnd.microsoft.datawrangler.viewer.v0+json": {
       "columns": [
        {
         "name": "index",
         "rawType": "int64",
         "type": "integer"
        },
        {
         "name": "enter_lookback",
         "rawType": "float64",
         "type": "float"
        },
        {
         "name": "exit_lookback",
         "rawType": "float64",
         "type": "float"
        },
        {
         "name": "avg_to",
         "rawType": "float64",
         "type": "float"
        },
        {
         "name": "sharpe",
         "rawType": "float64",
         "type": "float"
        },
        {
         "name": "drawdown",
         "rawType": "float64",
         "type": "float"
        },
        {
         "name": "drawdown_duration (days)",
         "rawType": "float64",
         "type": "float"
        }
       ],
       "conversionMethod": "pd.DataFrame",
       "ref": "237c046a-6ba1-486c-afc0-78d50fa31a9b",
       "rows": [
        [
         "21",
         "4800.0",
         "80.0",
         "0.015685090716868504",
         "0.2691314426717459",
         "6.9641005120110995",
         "1306.7083333333333"
        ],
        [
         "22",
         "4800.0",
         "100.0",
         "0.013649247015137672",
         "0.2618249980008235",
         "7.169433074093773",
         "1308.4583333333333"
        ],
        [
         "12",
         "2400.0",
         "100.0",
         "0.015836155628852867",
         "0.2551889978068154",
         "6.519443422138065",
         "1308.4583333333333"
        ],
        [
         "11",
         "2400.0",
         "80.0",
         "0.018229199521388663",
         "0.2373928060006829",
         "6.939738779108414",
         "1306.7083333333333"
        ],
        [
         "16",
         "3200.0",
         "80.0",
         "0.01703118292315466",
         "0.23656988196844736",
         "7.010876372921672",
         "1306.7083333333333"
        ],
        [
         "17",
         "3200.0",
         "100.0",
         "0.014780638014016592",
         "0.23423031344425763",
         "7.101188889494983",
         "1308.4583333333333"
        ],
        [
         "1",
         "1000.0",
         "80.0",
         "0.02319858592894884",
         "0.22996669456594004",
         "6.105118912071019",
         "1233.7083333333333"
        ],
        [
         "2",
         "1000.0",
         "100.0",
         "0.020165347792581924",
         "0.19989433623020425",
         "4.468443580804917",
         "1233.7083333333333"
        ],
        [
         "7",
         "1800.0",
         "100.0",
         "0.017133803029744144",
         "0.187176614405623",
         "5.959637168432984",
         "1308.4583333333333"
        ],
        [
         "6",
         "1800.0",
         "80.0",
         "0.019705772072348977",
         "0.14887359012419876",
         "6.61231508250226",
         "1306.7083333333333"
        ]
       ],
       "shape": {
        "columns": 6,
        "rows": 10
       }
      },
      "text/html": [
       "<div>\n",
       "<style scoped>\n",
       "    .dataframe tbody tr th:only-of-type {\n",
       "        vertical-align: middle;\n",
       "    }\n",
       "\n",
       "    .dataframe tbody tr th {\n",
       "        vertical-align: top;\n",
       "    }\n",
       "\n",
       "    .dataframe thead th {\n",
       "        text-align: right;\n",
       "    }\n",
       "</style>\n",
       "<table border=\"1\" class=\"dataframe\">\n",
       "  <thead>\n",
       "    <tr style=\"text-align: right;\">\n",
       "      <th></th>\n",
       "      <th>enter_lookback</th>\n",
       "      <th>exit_lookback</th>\n",
       "      <th>avg_to</th>\n",
       "      <th>sharpe</th>\n",
       "      <th>drawdown</th>\n",
       "      <th>drawdown_duration (days)</th>\n",
       "    </tr>\n",
       "  </thead>\n",
       "  <tbody>\n",
       "    <tr>\n",
       "      <th>21</th>\n",
       "      <td>4800.0</td>\n",
       "      <td>80.0</td>\n",
       "      <td>0.015685</td>\n",
       "      <td>0.269131</td>\n",
       "      <td>6.964101</td>\n",
       "      <td>1306.708333</td>\n",
       "    </tr>\n",
       "    <tr>\n",
       "      <th>22</th>\n",
       "      <td>4800.0</td>\n",
       "      <td>100.0</td>\n",
       "      <td>0.013649</td>\n",
       "      <td>0.261825</td>\n",
       "      <td>7.169433</td>\n",
       "      <td>1308.458333</td>\n",
       "    </tr>\n",
       "    <tr>\n",
       "      <th>12</th>\n",
       "      <td>2400.0</td>\n",
       "      <td>100.0</td>\n",
       "      <td>0.015836</td>\n",
       "      <td>0.255189</td>\n",
       "      <td>6.519443</td>\n",
       "      <td>1308.458333</td>\n",
       "    </tr>\n",
       "    <tr>\n",
       "      <th>11</th>\n",
       "      <td>2400.0</td>\n",
       "      <td>80.0</td>\n",
       "      <td>0.018229</td>\n",
       "      <td>0.237393</td>\n",
       "      <td>6.939739</td>\n",
       "      <td>1306.708333</td>\n",
       "    </tr>\n",
       "    <tr>\n",
       "      <th>16</th>\n",
       "      <td>3200.0</td>\n",
       "      <td>80.0</td>\n",
       "      <td>0.017031</td>\n",
       "      <td>0.236570</td>\n",
       "      <td>7.010876</td>\n",
       "      <td>1306.708333</td>\n",
       "    </tr>\n",
       "    <tr>\n",
       "      <th>17</th>\n",
       "      <td>3200.0</td>\n",
       "      <td>100.0</td>\n",
       "      <td>0.014781</td>\n",
       "      <td>0.234230</td>\n",
       "      <td>7.101189</td>\n",
       "      <td>1308.458333</td>\n",
       "    </tr>\n",
       "    <tr>\n",
       "      <th>1</th>\n",
       "      <td>1000.0</td>\n",
       "      <td>80.0</td>\n",
       "      <td>0.023199</td>\n",
       "      <td>0.229967</td>\n",
       "      <td>6.105119</td>\n",
       "      <td>1233.708333</td>\n",
       "    </tr>\n",
       "    <tr>\n",
       "      <th>2</th>\n",
       "      <td>1000.0</td>\n",
       "      <td>100.0</td>\n",
       "      <td>0.020165</td>\n",
       "      <td>0.199894</td>\n",
       "      <td>4.468444</td>\n",
       "      <td>1233.708333</td>\n",
       "    </tr>\n",
       "    <tr>\n",
       "      <th>7</th>\n",
       "      <td>1800.0</td>\n",
       "      <td>100.0</td>\n",
       "      <td>0.017134</td>\n",
       "      <td>0.187177</td>\n",
       "      <td>5.959637</td>\n",
       "      <td>1308.458333</td>\n",
       "    </tr>\n",
       "    <tr>\n",
       "      <th>6</th>\n",
       "      <td>1800.0</td>\n",
       "      <td>80.0</td>\n",
       "      <td>0.019706</td>\n",
       "      <td>0.148874</td>\n",
       "      <td>6.612315</td>\n",
       "      <td>1306.708333</td>\n",
       "    </tr>\n",
       "  </tbody>\n",
       "</table>\n",
       "</div>"
      ],
      "text/plain": [
       "    enter_lookback  exit_lookback    avg_to    sharpe  drawdown  \\\n",
       "21          4800.0           80.0  0.015685  0.269131  6.964101   \n",
       "22          4800.0          100.0  0.013649  0.261825  7.169433   \n",
       "12          2400.0          100.0  0.015836  0.255189  6.519443   \n",
       "11          2400.0           80.0  0.018229  0.237393  6.939739   \n",
       "16          3200.0           80.0  0.017031  0.236570  7.010876   \n",
       "17          3200.0          100.0  0.014781  0.234230  7.101189   \n",
       "1           1000.0           80.0  0.023199  0.229967  6.105119   \n",
       "2           1000.0          100.0  0.020165  0.199894  4.468444   \n",
       "7           1800.0          100.0  0.017134  0.187177  5.959637   \n",
       "6           1800.0           80.0  0.019706  0.148874  6.612315   \n",
       "\n",
       "    drawdown_duration (days)  \n",
       "21               1306.708333  \n",
       "22               1308.458333  \n",
       "12               1308.458333  \n",
       "11               1306.708333  \n",
       "16               1306.708333  \n",
       "17               1308.458333  \n",
       "1                1233.708333  \n",
       "2                1233.708333  \n",
       "7                1308.458333  \n",
       "6                1306.708333  "
      ]
     },
     "execution_count": 54,
     "metadata": {},
     "output_type": "execute_result"
    }
   ],
   "source": [
    "results.sort_values('sharpe', ascending=False).where(lambda x: x['avg_to'] > 0.01).dropna().head(10)"
   ]
  },
  {
   "cell_type": "code",
   "execution_count": 55,
   "metadata": {},
   "outputs": [
    {
     "data": {
      "text/plain": [
       "<Axes: xlabel='exit_lookback', ylabel='enter_lookback'>"
      ]
     },
     "execution_count": 55,
     "metadata": {},
     "output_type": "execute_result"
    },
    {
     "data": {
      "image/png": "[encoded data removed]",
      "text/plain": [
       "<Figure size 640x480 with 2 Axes>"
      ]
     },
     "metadata": {},
     "output_type": "display_data"
    }
   ],
   "source": [
    "import seaborn as sns\n",
    "sns.heatmap(results.pivot_table(index='enter_lookback', columns='exit_lookback', values='sharpe'))"
   ]
  }
 ],
 "metadata": {
  "kernelspec": {
   "display_name": "financial_research",
   "language": "python",
   "name": "python3"
  },
  "language_info": {
   "codemirror_mode": {
    "name": "ipython",
    "version": 3
   },
   "file_extension": ".py",
   "mimetype": "text/x-python",
   "name": "python",
   "nbconvert_exporter": "python",
   "pygments_lexer": "ipython3",
   "version": "3.12.3"
  }
 },
 "nbformat": 4,
 "nbformat_minor": 2
}
