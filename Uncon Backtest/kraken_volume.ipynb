{
 "cells": [
  {
   "cell_type": "code",
   "execution_count": 29,
   "metadata": {},
   "outputs": [
    {
     "data": {
      "text/plain": [
       "<module 'util' from 'c:\\\\Users\\\\joshu\\\\Documents\\\\Github\\\\Trading-Bot\\\\Uncon Backtest\\\\util.py'>"
      ]
     },
     "execution_count": 29,
     "metadata": {},
     "output_type": "execute_result"
    }
   ],
   "source": [
    "import os\n",
    "import requests\n",
    "import sqlite3\n",
    "import pickle\n",
    "from datetime import datetime, timedelta\n",
    "from datetime import timezone\n",
    "import pandas as pd\n",
    "import numpy as np\n",
    "import matplotlib.pyplot as plt\n",
    "import math\n",
    "from dotenv import load_dotenv\n",
    "from IPython.display import clear_output\n",
    "import util\n",
    "import strategies\n",
    "from importlib import reload\n",
    "load_dotenv()\n",
    "reload(util)"
   ]
  },
  {
   "cell_type": "code",
   "execution_count": 4,
   "metadata": {},
   "outputs": [],
   "source": [
    "\n",
    "kraken_coin_data = util.get_exchange_coins('kraken')\n",
    "kraken_coin_ids = [coin['coin_id'] for coin in kraken_coin_data]\n",
    "kraken_symbols = [coin['base'].lower() for coin in kraken_coin_data]\n",
    "tradable_kraken_coins = util.get_tradable_kraken_coins()\n",
    "all_data = util.get_all_ochl()\n",
    "\n",
    "kraken_data = all_data[all_data['coin_id'].isin(kraken_coin_ids)]\n",
    "coins_to_exclude = [\n",
    "        'tether', \n",
    "        'usd-coin', \n",
    "        'true-usd', \n",
    "        'wrapped-bitcoin',\n",
    "        'dai',\n",
    "        'terra-luna',\n",
    "        'ftx-token',\n",
    "        'bora',\n",
    "        'theta-fuel',\n",
    "        'gifto',\n",
    "        'amber',\n",
    "        'cocos-bcx',\n",
    "        'beldex',\n",
    "        'usdc',\n",
    "    ]\n",
    "exclude_coins_symbol = [coin['base'].lower() for coin in kraken_coin_data if coin['coin_id'] in coins_to_exclude]\n",
    "all_close_prices = util.get_col_pivot_from_all_ochl(type ='close',volume_threshold= 100000)\n",
    "all_high_prices = util.get_col_pivot_from_all_ochl(type ='high', volume_threshold=100000)\n",
    "all_low_prices = util.get_col_pivot_from_all_ochl(type ='low', volume_threshold=100000)\n",
    "all_vol = util.get_col_pivot_from_all_ochl(type='volume' ,volume_threshold=100000)\n",
    "kraken_columns = list(set(all_close_prices.columns).intersection(set(kraken_symbols))-set(exclude_coins_symbol))\n",
    "all_kraken_close_prices = np.log(all_close_prices[kraken_columns])\n",
    "all_kraken_high_prices = np.log(all_high_prices[kraken_columns])\n",
    "all_kraken_low_prices = np.log(all_low_prices[kraken_columns])\n",
    "all_kraken_vol = all_vol[kraken_columns]\n",
    "kraken_ret = (util.transform_returns(kraken_data, volume_threshold=100000))\n",
    "modified_ret = util.modify_extreme_ret(kraken_ret)[kraken_columns]\n",
    "kraken_trading_activity = np.power(modified_ret.rolling(24, min_periods=1).std()*all_kraken_vol, 2/3)\n",
    "log_trading_activity = np.log1p(kraken_trading_activity)\n",
    "start_date_in_sample = '2019-01-01'\n",
    "end_date_in_sample = '2023-12-31'\n",
    "start_date_out_of_sample = '2024-01-01'\n",
    "def get_in_sample(df):\n",
    "    return df.loc[start_date_in_sample:end_date_in_sample]\n",
    "def get_out_of_sample(df):\n",
    "    return df.loc[start_date_out_of_sample:]\n",
    "in_sample_ret = get_in_sample(modified_ret)\n",
    "in_sample_close_prices = get_in_sample(all_kraken_close_prices)\n",
    "in_sample_high_prices = get_in_sample(all_kraken_high_prices)\n",
    "in_sample_low_prices = get_in_sample(all_kraken_close_prices)\n",
    "in_sample_vol = get_in_sample(all_kraken_vol)\n",
    "out_of_sample_ret = get_out_of_sample(modified_ret)\n",
    "out_of_sample_close_prices = get_out_of_sample(all_kraken_close_prices)\n",
    "out_of_sample_high_prices = get_out_of_sample(all_kraken_high_prices)\n",
    "out_of_sample_low_prices = get_out_of_sample(all_kraken_low_prices)\n",
    "out_of_sample_vol = get_out_of_sample(all_kraken_vol)"
   ]
  },
  {
   "cell_type": "markdown",
   "metadata": {},
   "source": [
    "## Vol EDA"
   ]
  },
  {
   "cell_type": "code",
   "execution_count": 27,
   "metadata": {},
   "outputs": [],
   "source": [
    "analysis_vol = (in_sample_vol-in_sample_vol.rolling(3000, min_periods=1).mean())/in_sample_vol.rolling(3000, min_periods= 1).std()"
   ]
  },
  {
   "cell_type": "code",
   "execution_count": 19,
   "metadata": {},
   "outputs": [
    {
     "data": {
      "text/plain": [
       "92"
      ]
     },
     "execution_count": 19,
     "metadata": {},
     "output_type": "execute_result"
    }
   ],
   "source": [
    "len(in_sample_vol.columns)"
   ]
  },
  {
   "cell_type": "markdown",
   "metadata": {},
   "source": [
    "## Strategy Testing"
   ]
  },
  {
   "cell_type": "code",
   "execution_count": 30,
   "metadata": {},
   "outputs": [],
   "source": [
    "def persistent_market_buy(volume, ret):\n",
    "    enter_signal = (volume > 1).astype(int)\n",
    "    enter_signal2 = (ret > 0).astype(int)\n",
    "    enter_signal = enter_signal.where(enter_signal2 == 1, 0)\n",
    "    \n",
    "    position = pd.DataFrame(enter_signal, index=volume.index, columns=volume.columns)\n",
    "    return strategies.equal_weighting(position)\n",
    "\n",
    "port = persistent_market_buy(analysis_vol, in_sample_ret)"
   ]
  },
  {
   "cell_type": "code",
   "execution_count": 33,
   "metadata": {},
   "outputs": [
    {
     "name": "stdout",
     "output_type": "stream",
     "text": [
      "Corr with BTC:  0.30171640303881647\n",
      "Average Turnover:  1.002998078763815\n",
      "Sharpe Ratio:  0.4673000899584313\n",
      "Max Drawdown:  7.1684959377558295\n",
      "Time Exposure Ratio:  0.3647544724351953\n",
      "Max Drawdown Duration:  922.625 days\n"
     ]
    },
    {
     "data": {
      "text/plain": [
       "(1.002998078763815, 0.4673000899584313, 7.1684959377558295, 922.625)"
      ]
     },
     "execution_count": 33,
     "metadata": {},
     "output_type": "execute_result"
    },
    {
     "data": {
      "image/png": "[encoded data removed]",
      "text/plain": [
       "<Figure size 640x480 with 1 Axes>"
      ]
     },
     "metadata": {},
     "output_type": "display_data"
    }
   ],
   "source": [
    "util.to_sharpe(port, in_sample_ret, plot = True, to_off=True)"
   ]
  },
  {
   "cell_type": "code",
   "execution_count": null,
   "metadata": {},
   "outputs": [],
   "source": []
  }
 ],
 "metadata": {
  "kernelspec": {
   "display_name": "financial_research",
   "language": "python",
   "name": "python3"
  },
  "language_info": {
   "codemirror_mode": {
    "name": "ipython",
    "version": 3
   },
   "file_extension": ".py",
   "mimetype": "text/x-python",
   "name": "python",
   "nbconvert_exporter": "python",
   "pygments_lexer": "ipython3",
   "version": "3.12.3"
  }
 },
 "nbformat": 4,
 "nbformat_minor": 2
}
