{
 "cells": [
  {
   "cell_type": "markdown",
   "metadata": {},
   "source": [
    "# Setup"
   ]
  },
  {
   "cell_type": "code",
   "execution_count": null,
   "metadata": {},
   "outputs": [
    {
     "data": {
      "text/plain": [
       "<module 'util' from 'c:\\\\Users\\\\joshu\\\\Documents\\\\Github\\\\Trading-Bot\\\\Uncon Backtest\\\\util.py'>"
      ]
     },
     "execution_count": 2,
     "metadata": {},
     "output_type": "execute_result"
    },
    {
     "ename": "",
     "evalue": "",
     "output_type": "error",
     "traceback": [
      "\u001b[1;31mThe Kernel crashed while executing code in the current cell or a previous cell. \n",
      "\u001b[1;31mPlease review the code in the cell(s) to identify a possible cause of the failure. \n",
      "\u001b[1;31mClick <a href='https://aka.ms/vscodeJupyterKernelCrash'>here</a> for more info. \n",
      "\u001b[1;31mView Jupyter <a href='command:jupyter.viewOutput'>log</a> for further details."
     ]
    }
   ],
   "source": [
    "import os\n",
    "import requests\n",
    "import sqlite3\n",
    "import pickle\n",
    "from datetime import datetime, timedelta\n",
    "from datetime import timezone\n",
    "import pandas as pd\n",
    "import numpy as np\n",
    "import matplotlib.pyplot as plt\n",
    "import math\n",
    "from dotenv import load_dotenv\n",
    "from IPython.display import clear_output\n",
    "import util\n",
    "from importlib import reload\n",
    "load_dotenv()\n",
    "reload(util)"
   ]
  },
  {
   "cell_type": "code",
   "execution_count": 63,
   "metadata": {},
   "outputs": [],
   "source": [
    "COINGECKO_API = os.getenv(\"COINGECKO_API_KEY\")\n",
    "HEADERS = {\"x-cg-pro-api-key\": COINGECKO_API,\n",
    "           \"accept\": \"application/json\"}\n",
    "\n",
    "kraken_coin_data = util.get_exchange_coins('kraken')\n",
    "kraken_coin_ids = [coin['coin_id'] for coin in kraken_coin_data]\n",
    "kraken_symbols = [coin['base'].lower() for coin in kraken_coin_data]\n",
    "tradable_kraken_coins = util.get_tradable_kraken_coins()\n",
    "all_data = util.get_all_ochl()\n",
    "kraken_data = all_data[all_data['coin_id'].isin(kraken_coin_ids)]\n",
    "coins_to_exclude = [\n",
    "        'tether', \n",
    "        'usd-coin', \n",
    "        'true-usd', \n",
    "        'wrapped-bitcoin',\n",
    "        'dai',\n",
    "        'terra-luna',\n",
    "        'ftx-token',\n",
    "        'bora',\n",
    "        'theta-fuel',\n",
    "        'gifto',\n",
    "        'amber',\n",
    "        'cocos-bcx',\n",
    "        'beldex',\n",
    "        'usdc',\n",
    "    ]\n",
    "exclude_coins_symbol = [coin['base'].lower() for coin in kraken_coin_data if coin['coin_id'] in coins_to_exclude]\n",
    "all_close_prices = util.get_col_pivot_from_all_ochl(type ='close',volume_threshold= 100000)\n",
    "all_high_prices = util.get_col_pivot_from_all_ochl(type ='high', volume_threshold=100000)\n",
    "all_low_prices = util.get_col_pivot_from_all_ochl(type ='low', volume_threshold=100000)\n",
    "all_vol = util.get_col_pivot_from_all_ochl(type='volume' ,volume_threshold=100000)\n",
    "kraken_columns = list(set(all_close_prices.columns).intersection(set(kraken_symbols))-set(exclude_coins_symbol))\n",
    "all_kraken_close_prices = np.log(all_close_prices[kraken_columns])\n",
    "all_kraken_high_prices = np.log(all_high_prices[kraken_columns])\n",
    "all_kraken_low_prices = np.log(all_low_prices[kraken_columns])\n",
    "all_kraken_vol = all_vol[kraken_columns]\n"
   ]
  },
  {
   "cell_type": "code",
   "execution_count": 65,
   "metadata": {},
   "outputs": [],
   "source": [
    "kraken_ret = (util.transform_returns(kraken_data, volume_threshold=100000))"
   ]
  },
  {
   "cell_type": "code",
   "execution_count": 1,
   "metadata": {},
   "outputs": [
    {
     "ename": "NameError",
     "evalue": "name 'util' is not defined",
     "output_type": "error",
     "traceback": [
      "\u001b[1;31m---------------------------------------------------------------------------\u001b[0m",
      "\u001b[1;31mNameError\u001b[0m                                 Traceback (most recent call last)",
      "Cell \u001b[1;32mIn[1], line 1\u001b[0m\n\u001b[1;32m----> 1\u001b[0m modified_ret \u001b[38;5;241m=\u001b[39m \u001b[43mutil\u001b[49m\u001b[38;5;241m.\u001b[39mmodify_extreme_ret(kraken_ret)[kraken_columns]\n\u001b[0;32m      2\u001b[0m kraken_trading_activity \u001b[38;5;241m=\u001b[39m np\u001b[38;5;241m.\u001b[39mpower(modified_ret\u001b[38;5;241m.\u001b[39mrolling(\u001b[38;5;241m24\u001b[39m, min_periods\u001b[38;5;241m=\u001b[39m\u001b[38;5;241m1\u001b[39m)\u001b[38;5;241m.\u001b[39mstd()\u001b[38;5;241m*\u001b[39mall_kraken_vol, \u001b[38;5;241m2\u001b[39m\u001b[38;5;241m/\u001b[39m\u001b[38;5;241m3\u001b[39m)\n\u001b[0;32m      3\u001b[0m log_trading_activity \u001b[38;5;241m=\u001b[39m np\u001b[38;5;241m.\u001b[39mlog1p(kraken_trading_activity)\n",
      "\u001b[1;31mNameError\u001b[0m: name 'util' is not defined"
     ]
    }
   ],
   "source": [
    "modified_ret = util.modify_extreme_ret(kraken_ret)[kraken_columns]\n",
    "kraken_trading_activity = np.power(modified_ret.rolling(24, min_periods=1).std()*all_kraken_vol, 2/3)\n",
    "log_trading_activity = np.log1p(kraken_trading_activity)"
   ]
  },
  {
   "cell_type": "code",
   "execution_count": 68,
   "metadata": {},
   "outputs": [],
   "source": [
    "start_date_in_sample = '2019-01-01'\n",
    "end_date_in_sample = '2023-12-31'\n",
    "start_date_out_of_sample = '2024-01-01'\n",
    "def get_in_sample(df):\n",
    "    return df.loc[start_date_in_sample:end_date_in_sample]\n",
    "def get_out_of_sample(df):\n",
    "    return df.loc[start_date_out_of_sample:]\n",
    "in_sample_ret = get_in_sample(modified_ret)\n",
    "in_sample_close_prices = get_in_sample(all_kraken_close_prices)\n",
    "in_sample_high_prices = get_in_sample(all_kraken_high_prices)\n",
    "in_sample_low_prices = get_in_sample(all_kraken_close_prices)\n",
    "out_of_sample_ret = get_out_of_sample(modified_ret)\n",
    "out_of_sample_close_prices = get_out_of_sample(all_kraken_close_prices)\n",
    "out_of_sample_high_prices = get_out_of_sample(all_kraken_high_prices)\n",
    "out_of_sample_low_prices = get_out_of_sample(all_kraken_low_prices)"
   ]
  },
  {
   "cell_type": "code",
   "execution_count": 70,
   "metadata": {},
   "outputs": [],
   "source": [
    "def equal_weighting(signal):\n",
    "    '''equal weighting of returns'''\n",
    "    port = signal.div(signal.abs().sum(axis=1),axis=0)\n",
    "    return port.fillna(0)"
   ]
  },
  {
   "cell_type": "markdown",
   "metadata": {},
   "source": [
    "# Testing"
   ]
  },
  {
   "cell_type": "code",
   "execution_count": 115,
   "metadata": {},
   "outputs": [],
   "source": [
    "\n",
    "def shock_reversal(returns, close_prices, entry_z_score_threshold = -1, exit_zscore_threshold = 1, entry_lookback = 15, exit_lookback = 15):\n",
    "    '''shock reversal strategy'''\n",
    "    z_scores = (returns - returns.rolling(window=entry_lookback, min_periods = 1).mean()).divide(returns.rolling(window=entry_lookback, min_periods = 1).std())\n",
    "    entry_signal = (z_scores < entry_z_score_threshold).astype(int)\n",
    "\n",
    "    close_zscores = (close_prices - close_prices.rolling(window=exit_lookback, min_periods = 1).mean()).divide(close_prices.rolling(window=exit_lookback, min_periods = 1).std())\n",
    "    entry_signal2 = (close_zscores < 0).astype(int)\n",
    "    exit_signal = (close_zscores > exit_zscore_threshold).astype(int)\n",
    "\n",
    "    entry_signal = entry_signal.where(entry_signal2 == 1, 0)\n",
    "    position = pd.DataFrame(\n",
    "        np.where(exit_signal, 0, np.where(entry_signal, 1, np.nan)),\n",
    "        index = returns.index,\n",
    "        columns = returns.columns\n",
    "    )\n",
    "    position = position.ffill().fillna(0)\n",
    "    return equal_weighting(position)"
   ]
  },
  {
   "cell_type": "code",
   "execution_count": 121,
   "metadata": {},
   "outputs": [],
   "source": [
    "def grid_search_return_reversal(returns, close_prices):\n",
    "    entry_z = [-1]\n",
    "    exit_z = [1]\n",
    "    entry_lookback = [100, 200]\n",
    "    exit_lookback = [800, 1500, 2000, 2700]\n",
    "    results = []\n",
    "    for i in entry_lookback:\n",
    "        for j in exit_lookback:\n",
    "            for k in entry_z:\n",
    "                for l in exit_z:\n",
    "                    weightings = shock_reversal(returns=returns, close_prices=close_prices, entry_z_score_threshold = k, exit_zscore_threshold = l, entry_lookback = i, exit_lookback = j)\n",
    "                    avg_to, sharpe, drawdown, drawdown_duration = util.to_sharpe(weightings, returns, plot = False, purify=True)\n",
    "                    results.append((i,j,k,l,avg_to, sharpe, drawdown, drawdown_duration))\n",
    "    df = pd.DataFrame(results, columns = ['enter_lookback','exit_lookback','enter_z', 'exit_z','avg_to','sharpe', \"drawdown\", \"drawdown_duration (days)\"])\n",
    "    return df\n",
    "results = grid_search_return_reversal(in_sample_ret,in_sample_close_prices)"
   ]
  },
  {
   "cell_type": "code",
   "execution_count": 122,
   "metadata": {},
   "outputs": [
    {
     "data": {
      "application/vnd.microsoft.datawrangler.viewer.v0+json": {
       "columns": [
        {
         "name": "index",
         "rawType": "int64",
         "type": "integer"
        },
        {
         "name": "enter_lookback",
         "rawType": "int64",
         "type": "integer"
        },
        {
         "name": "exit_lookback",
         "rawType": "int64",
         "type": "integer"
        },
        {
         "name": "enter_z",
         "rawType": "int64",
         "type": "integer"
        },
        {
         "name": "exit_z",
         "rawType": "int64",
         "type": "integer"
        },
        {
         "name": "avg_to",
         "rawType": "float64",
         "type": "float"
        },
        {
         "name": "sharpe",
         "rawType": "float64",
         "type": "float"
        },
        {
         "name": "drawdown",
         "rawType": "float64",
         "type": "float"
        },
        {
         "name": "drawdown_duration (days)",
         "rawType": "float64",
         "type": "float"
        }
       ],
       "conversionMethod": "pd.DataFrame",
       "ref": "f5289c43-3e6d-487b-a7d7-a453e5d23013",
       "rows": [
        [
         "6",
         "200",
         "2000",
         "-1",
         "1",
         "0.007679630092154458",
         "0.7149701480541716",
         "1.2752031293168726",
         "571.2916666666666"
        ],
        [
         "2",
         "100",
         "2000",
         "-1",
         "1",
         "0.00763875552661618",
         "0.6543830787688337",
         "1.2838546236359787",
         "656.0416666666666"
        ],
        [
         "5",
         "200",
         "1500",
         "-1",
         "1",
         "0.009571432772417258",
         "0.5495573615075886",
         "1.2285671459293197",
         "574.0416666666666"
        ],
        [
         "1",
         "100",
         "1500",
         "-1",
         "1",
         "0.009454313666496175",
         "0.4682331560149676",
         "1.2396153522464235",
         "591.875"
        ],
        [
         "7",
         "200",
         "2700",
         "-1",
         "1",
         "0.005841921739917847",
         "0.2886703385637383",
         "1.467403408390507",
         "1664.4583333333333"
        ],
        [
         "3",
         "100",
         "2700",
         "-1",
         "1",
         "0.005824628618063313",
         "0.26427769317088184",
         "1.5020579810764765",
         "1664.4583333333333"
        ],
        [
         "4",
         "200",
         "800",
         "-1",
         "1",
         "0.01307634102408598",
         "0.04666610101132385",
         "2.0255308660294347",
         "1215.7083333333333"
        ],
        [
         "0",
         "100",
         "800",
         "-1",
         "1",
         "0.013051413433047936",
         "0.023293429467804497",
         "2.057676779012986",
         "1215.7083333333333"
        ]
       ],
       "shape": {
        "columns": 8,
        "rows": 8
       }
      },
      "text/html": [
       "<div>\n",
       "<style scoped>\n",
       "    .dataframe tbody tr th:only-of-type {\n",
       "        vertical-align: middle;\n",
       "    }\n",
       "\n",
       "    .dataframe tbody tr th {\n",
       "        vertical-align: top;\n",
       "    }\n",
       "\n",
       "    .dataframe thead th {\n",
       "        text-align: right;\n",
       "    }\n",
       "</style>\n",
       "<table border=\"1\" class=\"dataframe\">\n",
       "  <thead>\n",
       "    <tr style=\"text-align: right;\">\n",
       "      <th></th>\n",
       "      <th>enter_lookback</th>\n",
       "      <th>exit_lookback</th>\n",
       "      <th>enter_z</th>\n",
       "      <th>exit_z</th>\n",
       "      <th>avg_to</th>\n",
       "      <th>sharpe</th>\n",
       "      <th>drawdown</th>\n",
       "      <th>drawdown_duration (days)</th>\n",
       "    </tr>\n",
       "  </thead>\n",
       "  <tbody>\n",
       "    <tr>\n",
       "      <th>6</th>\n",
       "      <td>200</td>\n",
       "      <td>2000</td>\n",
       "      <td>-1</td>\n",
       "      <td>1</td>\n",
       "      <td>0.007680</td>\n",
       "      <td>0.714970</td>\n",
       "      <td>1.275203</td>\n",
       "      <td>571.291667</td>\n",
       "    </tr>\n",
       "    <tr>\n",
       "      <th>2</th>\n",
       "      <td>100</td>\n",
       "      <td>2000</td>\n",
       "      <td>-1</td>\n",
       "      <td>1</td>\n",
       "      <td>0.007639</td>\n",
       "      <td>0.654383</td>\n",
       "      <td>1.283855</td>\n",
       "      <td>656.041667</td>\n",
       "    </tr>\n",
       "    <tr>\n",
       "      <th>5</th>\n",
       "      <td>200</td>\n",
       "      <td>1500</td>\n",
       "      <td>-1</td>\n",
       "      <td>1</td>\n",
       "      <td>0.009571</td>\n",
       "      <td>0.549557</td>\n",
       "      <td>1.228567</td>\n",
       "      <td>574.041667</td>\n",
       "    </tr>\n",
       "    <tr>\n",
       "      <th>1</th>\n",
       "      <td>100</td>\n",
       "      <td>1500</td>\n",
       "      <td>-1</td>\n",
       "      <td>1</td>\n",
       "      <td>0.009454</td>\n",
       "      <td>0.468233</td>\n",
       "      <td>1.239615</td>\n",
       "      <td>591.875000</td>\n",
       "    </tr>\n",
       "    <tr>\n",
       "      <th>7</th>\n",
       "      <td>200</td>\n",
       "      <td>2700</td>\n",
       "      <td>-1</td>\n",
       "      <td>1</td>\n",
       "      <td>0.005842</td>\n",
       "      <td>0.288670</td>\n",
       "      <td>1.467403</td>\n",
       "      <td>1664.458333</td>\n",
       "    </tr>\n",
       "    <tr>\n",
       "      <th>3</th>\n",
       "      <td>100</td>\n",
       "      <td>2700</td>\n",
       "      <td>-1</td>\n",
       "      <td>1</td>\n",
       "      <td>0.005825</td>\n",
       "      <td>0.264278</td>\n",
       "      <td>1.502058</td>\n",
       "      <td>1664.458333</td>\n",
       "    </tr>\n",
       "    <tr>\n",
       "      <th>4</th>\n",
       "      <td>200</td>\n",
       "      <td>800</td>\n",
       "      <td>-1</td>\n",
       "      <td>1</td>\n",
       "      <td>0.013076</td>\n",
       "      <td>0.046666</td>\n",
       "      <td>2.025531</td>\n",
       "      <td>1215.708333</td>\n",
       "    </tr>\n",
       "    <tr>\n",
       "      <th>0</th>\n",
       "      <td>100</td>\n",
       "      <td>800</td>\n",
       "      <td>-1</td>\n",
       "      <td>1</td>\n",
       "      <td>0.013051</td>\n",
       "      <td>0.023293</td>\n",
       "      <td>2.057677</td>\n",
       "      <td>1215.708333</td>\n",
       "    </tr>\n",
       "  </tbody>\n",
       "</table>\n",
       "</div>"
      ],
      "text/plain": [
       "   enter_lookback  exit_lookback  enter_z  exit_z    avg_to    sharpe  \\\n",
       "6             200           2000       -1       1  0.007680  0.714970   \n",
       "2             100           2000       -1       1  0.007639  0.654383   \n",
       "5             200           1500       -1       1  0.009571  0.549557   \n",
       "1             100           1500       -1       1  0.009454  0.468233   \n",
       "7             200           2700       -1       1  0.005842  0.288670   \n",
       "3             100           2700       -1       1  0.005825  0.264278   \n",
       "4             200            800       -1       1  0.013076  0.046666   \n",
       "0             100            800       -1       1  0.013051  0.023293   \n",
       "\n",
       "   drawdown  drawdown_duration (days)  \n",
       "6  1.275203                571.291667  \n",
       "2  1.283855                656.041667  \n",
       "5  1.228567                574.041667  \n",
       "1  1.239615                591.875000  \n",
       "7  1.467403               1664.458333  \n",
       "3  1.502058               1664.458333  \n",
       "4  2.025531               1215.708333  \n",
       "0  2.057677               1215.708333  "
      ]
     },
     "execution_count": 122,
     "metadata": {},
     "output_type": "execute_result"
    }
   ],
   "source": [
    "results.sort_values(by='sharpe', ascending=False).dropna().head(10)"
   ]
  },
  {
   "cell_type": "code",
   "execution_count": 125,
   "metadata": {},
   "outputs": [
    {
     "name": "stdout",
     "output_type": "stream",
     "text": [
      "Corr with BTC (before purification):  0.6377079373288248\n",
      "BTC Beta:  0.9307376083076293\n",
      "Corr with BTC:  -0.02259966018795479\n",
      "Average Turnover:  0.007679630092154458\n",
      "Sharpe Ratio:  0.7149701480541716\n",
      "Max Drawdown:  1.2752031293168726\n",
      "Time Exposure Ratio:  0.5170682730923695\n",
      "Max Drawdown Duration:  571.2916666666666 days\n"
     ]
    },
    {
     "data": {
      "text/plain": [
       "(0.007679630092154458,\n",
       " 0.7149701480541716,\n",
       " 1.2752031293168726,\n",
       " 571.2916666666666)"
      ]
     },
     "execution_count": 125,
     "metadata": {},
     "output_type": "execute_result"
    },
    {
     "data": {
      "image/png": "[encoded data removed]",
      "text/plain": [
       "<Figure size 640x480 with 1 Axes>"
      ]
     },
     "metadata": {},
     "output_type": "display_data"
    }
   ],
   "source": [
    "util.to_sharpe(shock_reversal(in_sample_ret,in_sample_close_prices, entry_z_score_threshold = -1, exit_zscore_threshold = 1, entry_lookback = 200, exit_lookback = 2000), in_sample_ret ,plot = True, purify = True)"
   ]
  }
 ],
 "metadata": {
  "kernelspec": {
   "display_name": "financial_research",
   "language": "python",
   "name": "python3"
  },
  "language_info": {
   "codemirror_mode": {
    "name": "ipython",
    "version": 3
   },
   "file_extension": ".py",
   "mimetype": "text/x-python",
   "name": "python",
   "nbconvert_exporter": "python",
   "pygments_lexer": "ipython3",
   "version": "3.12.3"
  }
 },
 "nbformat": 4,
 "nbformat_minor": 2
}
