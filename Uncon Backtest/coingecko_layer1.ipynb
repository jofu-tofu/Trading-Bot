{
 "cells": [
  {
   "cell_type": "code",
   "execution_count": 129,
   "metadata": {},
   "outputs": [],
   "source": [
    "import util\n",
    "from importlib import reload\n",
    "import pandas as pd\n",
    "import numpy as np\n",
    "import matplotlib.pyplot as plt\n",
    "from datetime import timezone\n",
    "\n",
    "# reset util library in case of updates\n",
    "\n",
    "util = reload(util)"
   ]
  },
  {
   "cell_type": "code",
   "execution_count": 103,
   "metadata": {},
   "outputs": [
    {
     "name": "stdout",
     "output_type": "stream",
     "text": [
      "File not found. Fetching from database.\n"
     ]
    }
   ],
   "source": [
    "ochl = util.get_layer1_ochl()\n",
    "ret = util.get_layer1_returns(0)"
   ]
  },
  {
   "cell_type": "code",
   "execution_count": 105,
   "metadata": {},
   "outputs": [
    {
     "data": {
      "text/plain": [
       "289"
      ]
     },
     "execution_count": 105,
     "metadata": {},
     "output_type": "execute_result"
    }
   ],
   "source": [
    "len(ret.columns)"
   ]
  },
  {
   "cell_type": "code",
   "execution_count": 106,
   "metadata": {},
   "outputs": [],
   "source": [
    "in_sample_ret = ret.loc['2019-01-01':'2023-12-31']\n",
    "out_of_sample_ret = ret.loc['2024-01-01':]"
   ]
  },
  {
   "cell_type": "code",
   "execution_count": 107,
   "metadata": {},
   "outputs": [],
   "source": [
    "def equal_weighting(ret):\n",
    "    '''equal weighting of returns'''\n",
    "    ret = ret.div(ret.abs().sum(axis=1),axis=0)\n",
    "    return ret.fillna(0)\n",
    "\n",
    "def zscore_reversal_long(ret, enter_lookback=12, exit_lookback=15, enter_zscore = -3, exit_zscore = 1 ):\n",
    "    \"\"\"\n",
    "    Generate long positions for momentum strategy based on zscore\n",
    "\n",
    "    Parameters:\n",
    "      ret : pandas.DataFrame\n",
    "          DataFrame of asset returns (or prices) with a DateTime index and assets as columns.\n",
    "      short_lookback : int, optional\n",
    "          Lookback period for short-term high/low calculations.\n",
    "      enter_lookback : int, optional\n",
    "          Lookback period for the entry threshold (long-term high).\n",
    "      exit_lookback : int, optional\n",
    "          Lookback period for the exit threshold (long-term low).\n",
    "\n",
    "    Returns:\n",
    "    \"\"\"\n",
    "    long_enter_zscore= (ret-ret.rolling(window=enter_lookback, min_periods=1).mean()).divide(ret.rolling(window=enter_lookback, min_periods=1).std())\n",
    "    long_exit_zscore  = (ret-ret.rolling(window=exit_lookback, min_periods=1).mean()).divide(ret.rolling(window=exit_lookback, min_periods=1).std())\n",
    "\n",
    "\n",
    "    position = pd.DataFrame(\n",
    "        np.where(long_enter_zscore <= enter_zscore, 1, np.where(long_exit_zscore > exit_zscore, 0, np.nan)),\n",
    "        index=ret.index,\n",
    "        columns=ret.columns\n",
    "    )\n",
    "    position = position.ffill().fillna(0)\n",
    "    \n",
    "    return position\n",
    "\n",
    "signal = equal_weighting(zscore_reversal_long(out_of_sample_ret))"
   ]
  },
  {
   "cell_type": "code",
   "execution_count": 112,
   "metadata": {},
   "outputs": [
    {
     "data": {
      "application/vnd.microsoft.datawrangler.viewer.v0+json": {
       "columns": [
        {
         "name": "date",
         "rawType": "datetime64[ns, UTC]",
         "type": "unknown"
        },
        {
         "name": "positive_columns",
         "rawType": "object",
         "type": "unknown"
        }
       ],
       "conversionMethod": "pd.DataFrame",
       "ref": "8167f50c-dd46-49a8-8dbb-0519781788f2",
       "rows": [
        [
         "2025-01-24 06:00:00+00:00",
         "['c4e']"
        ],
        [
         "2025-01-24 07:00:00+00:00",
         "['c4e', 'cacao']"
        ],
        [
         "2025-01-24 08:00:00+00:00",
         "['c4e', 'epic', 'sha']"
        ],
        [
         "2025-01-24 09:00:00+00:00",
         "['c4e', 'dentx', 'epic', 'sha', 'zth']"
        ],
        [
         "2025-01-24 10:00:00+00:00",
         "['arthera', 'c4e', 'dentx', 'sha']"
        ],
        [
         "2025-01-24 11:00:00+00:00",
         "['c4e', 'dentx', 'sha']"
        ],
        [
         "2025-01-24 12:00:00+00:00",
         "['c4e', 'dentx', 'kru', 'sha', 'wit']"
        ],
        [
         "2025-01-24 13:00:00+00:00",
         "['c4e', 'kru', 'sha', 'tet', 'wit']"
        ],
        [
         "2025-01-24 14:00:00+00:00",
         "['c4e', 'kru', 'sha', 'tet', 'wit']"
        ],
        [
         "2025-01-24 15:00:00+00:00",
         "['c4e', 'mpc', 'sha', 'tet', 'wit', 'zcd']"
        ],
        [
         "2025-01-24 16:00:00+00:00",
         "['c4e', 'mpc', 'sha', 'tet', 'wit', 'zcd']"
        ],
        [
         "2025-01-24 17:00:00+00:00",
         "['c4e', 'mpc', 'sha', 'tet', 'zcd']"
        ],
        [
         "2025-01-24 18:00:00+00:00",
         "['c4e', 'mpc', 'sha', 'tet', 'zcd']"
        ],
        [
         "2025-01-24 19:00:00+00:00",
         "['c4e', 'mpc', 'sha', 'tet', 'zcd']"
        ],
        [
         "2025-01-24 20:00:00+00:00",
         "['c4e', 'mpc', 'sha', 'tet', 'zcd']"
        ],
        [
         "2025-01-24 21:00:00+00:00",
         "['c4e', 'mpc', 'sha', 'tet', 'zcd']"
        ],
        [
         "2025-01-24 22:00:00+00:00",
         "['c4e', 'mpc', 'sha', 'tet', 'zcd']"
        ],
        [
         "2025-01-24 23:00:00+00:00",
         "['c4e', 'mpc', 'tet', 'zcd']"
        ],
        [
         "2025-01-25 00:00:00+00:00",
         "['c4e', 'mpc', 'tet', 'zcd']"
        ],
        [
         "2025-01-25 01:00:00+00:00",
         "['c4e', 'mpc', 'tet', 'zcd']"
        ],
        [
         "2025-01-25 02:00:00+00:00",
         "['c4e', 'mpc', 'tet', 'zcd']"
        ],
        [
         "2025-01-25 03:00:00+00:00",
         "['laos', 'mpc', 'tet', 'zcd']"
        ],
        [
         "2025-01-25 04:00:00+00:00",
         "['laos', 'mpc', 'tet', 'zcd']"
        ],
        [
         "2025-01-25 05:00:00+00:00",
         "['mpc', 'tet', 'zcd']"
        ],
        [
         "2025-01-25 06:00:00+00:00",
         "['mpc', 'tet', 'zcd']"
        ],
        [
         "2025-01-25 07:00:00+00:00",
         "['mpc', 'tet']"
        ],
        [
         "2025-01-25 08:00:00+00:00",
         "['mpc', 'tet']"
        ],
        [
         "2025-01-25 09:00:00+00:00",
         "['mpc', 'tet']"
        ],
        [
         "2025-01-25 10:00:00+00:00",
         "['kex', 'mpc']"
        ],
        [
         "2025-01-25 11:00:00+00:00",
         "['mpc', 'wit']"
        ],
        [
         "2025-01-25 12:00:00+00:00",
         "['mpc', 'wit']"
        ],
        [
         "2025-01-25 13:00:00+00:00",
         "['mpc', 'wit']"
        ],
        [
         "2025-01-25 14:00:00+00:00",
         "['mpc', 'omnit', 'wit']"
        ],
        [
         "2025-01-25 15:00:00+00:00",
         "['mpc', 'wit']"
        ],
        [
         "2025-01-25 16:00:00+00:00",
         "['mpc', 'wit']"
        ],
        [
         "2025-01-25 17:00:00+00:00",
         "['mpc', 'wit']"
        ],
        [
         "2025-01-25 18:00:00+00:00",
         "['mpc', 'om']"
        ],
        [
         "2025-01-25 19:00:00+00:00",
         "['mpc']"
        ],
        [
         "2025-01-25 20:00:00+00:00",
         "['mpc']"
        ],
        [
         "2025-01-25 21:00:00+00:00",
         "['mpc']"
        ],
        [
         "2025-01-25 22:00:00+00:00",
         "[]"
        ],
        [
         "2025-01-25 23:00:00+00:00",
         "[]"
        ],
        [
         "2025-01-26 00:00:00+00:00",
         "[]"
        ],
        [
         "2025-01-26 01:00:00+00:00",
         "[]"
        ],
        [
         "2025-01-26 02:00:00+00:00",
         "['epic']"
        ],
        [
         "2025-01-26 03:00:00+00:00",
         "['acg', 'epic']"
        ],
        [
         "2025-01-26 04:00:00+00:00",
         "['acg']"
        ],
        [
         "2025-01-26 05:00:00+00:00",
         "['acg', 'man']"
        ],
        [
         "2025-01-26 06:00:00+00:00",
         "['acg', 'man', 'sha']"
        ],
        [
         "2025-01-26 07:00:00+00:00",
         "['acg', 'man', 'sha']"
        ]
       ],
       "shape": {
        "columns": 1,
        "rows": 1000
       }
      },
      "text/html": [
       "<div>\n",
       "<style scoped>\n",
       "    .dataframe tbody tr th:only-of-type {\n",
       "        vertical-align: middle;\n",
       "    }\n",
       "\n",
       "    .dataframe tbody tr th {\n",
       "        vertical-align: top;\n",
       "    }\n",
       "\n",
       "    .dataframe thead th {\n",
       "        text-align: right;\n",
       "    }\n",
       "</style>\n",
       "<table border=\"1\" class=\"dataframe\">\n",
       "  <thead>\n",
       "    <tr style=\"text-align: right;\">\n",
       "      <th></th>\n",
       "      <th>positive_columns</th>\n",
       "    </tr>\n",
       "    <tr>\n",
       "      <th>date</th>\n",
       "      <th></th>\n",
       "    </tr>\n",
       "  </thead>\n",
       "  <tbody>\n",
       "    <tr>\n",
       "      <th>2025-01-24 06:00:00+00:00</th>\n",
       "      <td>[c4e]</td>\n",
       "    </tr>\n",
       "    <tr>\n",
       "      <th>2025-01-24 07:00:00+00:00</th>\n",
       "      <td>[c4e, cacao]</td>\n",
       "    </tr>\n",
       "    <tr>\n",
       "      <th>2025-01-24 08:00:00+00:00</th>\n",
       "      <td>[c4e, epic, sha]</td>\n",
       "    </tr>\n",
       "    <tr>\n",
       "      <th>2025-01-24 09:00:00+00:00</th>\n",
       "      <td>[c4e, dentx, epic, sha, zth]</td>\n",
       "    </tr>\n",
       "    <tr>\n",
       "      <th>2025-01-24 10:00:00+00:00</th>\n",
       "      <td>[arthera, c4e, dentx, sha]</td>\n",
       "    </tr>\n",
       "    <tr>\n",
       "      <th>...</th>\n",
       "      <td>...</td>\n",
       "    </tr>\n",
       "    <tr>\n",
       "      <th>2025-03-06 17:00:00+00:00</th>\n",
       "      <td>[dentx, met]</td>\n",
       "    </tr>\n",
       "    <tr>\n",
       "      <th>2025-03-06 18:00:00+00:00</th>\n",
       "      <td>[cudos, dentx]</td>\n",
       "    </tr>\n",
       "    <tr>\n",
       "      <th>2025-03-06 19:00:00+00:00</th>\n",
       "      <td>[cudos, dentx, oxen]</td>\n",
       "    </tr>\n",
       "    <tr>\n",
       "      <th>2025-03-06 20:00:00+00:00</th>\n",
       "      <td>[cudos, dentx, oxen]</td>\n",
       "    </tr>\n",
       "    <tr>\n",
       "      <th>2025-03-06 21:00:00+00:00</th>\n",
       "      <td>[cudos, dentx, eiob, oxen]</td>\n",
       "    </tr>\n",
       "  </tbody>\n",
       "</table>\n",
       "<p>1000 rows × 1 columns</p>\n",
       "</div>"
      ],
      "text/plain": [
       "                                       positive_columns\n",
       "date                                                   \n",
       "2025-01-24 06:00:00+00:00                         [c4e]\n",
       "2025-01-24 07:00:00+00:00                  [c4e, cacao]\n",
       "2025-01-24 08:00:00+00:00              [c4e, epic, sha]\n",
       "2025-01-24 09:00:00+00:00  [c4e, dentx, epic, sha, zth]\n",
       "2025-01-24 10:00:00+00:00    [arthera, c4e, dentx, sha]\n",
       "...                                                 ...\n",
       "2025-03-06 17:00:00+00:00                  [dentx, met]\n",
       "2025-03-06 18:00:00+00:00                [cudos, dentx]\n",
       "2025-03-06 19:00:00+00:00          [cudos, dentx, oxen]\n",
       "2025-03-06 20:00:00+00:00          [cudos, dentx, oxen]\n",
       "2025-03-06 21:00:00+00:00    [cudos, dentx, eiob, oxen]\n",
       "\n",
       "[1000 rows x 1 columns]"
      ]
     },
     "execution_count": 112,
     "metadata": {},
     "output_type": "execute_result"
    }
   ],
   "source": [
    "def get_positive_columns(df):\n",
    "    result_df = df.apply(lambda row: row.index[row > 0].tolist(), axis=1)\n",
    "    result_df = result_df.to_frame(name=\"positive_columns\")  # Convert Series to DataFrame\n",
    "    return result_df\n",
    "get_positive_columns(signal.iloc[-1000:])"
   ]
  },
  {
   "cell_type": "code",
   "execution_count": 108,
   "metadata": {},
   "outputs": [
    {
     "data": {
      "text/plain": [
       "<Axes: xlabel='date'>"
      ]
     },
     "execution_count": 108,
     "metadata": {},
     "output_type": "execute_result"
    },
    {
     "data": {
      "image/png": "[encoded data removed]",
      "text/plain": [
       "<Figure size 640x480 with 1 Axes>"
      ]
     },
     "metadata": {},
     "output_type": "display_data"
    }
   ],
   "source": [
    "signal.map(lambda x: x > 0).sum(axis=1).plot()"
   ]
  },
  {
   "cell_type": "code",
   "execution_count": 109,
   "metadata": {},
   "outputs": [
    {
     "name": "stdout",
     "output_type": "stream",
     "text": [
      "Corr with BTC:  0.0059523549599358695\n",
      "Average Turnover:  0.34055412590478384\n",
      "Sharpe Ratio:  5.3152985701826205\n",
      "Max Drawdown:  0.7447229916975218\n",
      "Max Drawdown Duration:  1.3333333333333333  days\n"
     ]
    },
    {
     "data": {
      "text/plain": [
       "(0.34055412590478384,\n",
       " 5.3152985701826205,\n",
       " 0.7447229916975218,\n",
       " 1.3333333333333333)"
      ]
     },
     "execution_count": 109,
     "metadata": {},
     "output_type": "execute_result"
    },
    {
     "data": {
      "image/png": "[encoded data removed]",
      "text/plain": [
       "<Figure size 640x480 with 1 Axes>"
      ]
     },
     "metadata": {},
     "output_type": "display_data"
    }
   ],
   "source": [
    "util.to_sharpe(signal, out_of_sample_ret, plot = True)"
   ]
  }
 ],
 "metadata": {
  "kernelspec": {
   "display_name": "financial_research",
   "language": "python",
   "name": "python3"
  },
  "language_info": {
   "codemirror_mode": {
    "name": "ipython",
    "version": 3
   },
   "file_extension": ".py",
   "mimetype": "text/x-python",
   "name": "python",
   "nbconvert_exporter": "python",
   "pygments_lexer": "ipython3",
   "version": "3.12.3"
  }
 },
 "nbformat": 4,
 "nbformat_minor": 2
}
