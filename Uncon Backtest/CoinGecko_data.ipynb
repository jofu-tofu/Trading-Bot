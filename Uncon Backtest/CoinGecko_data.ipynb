{
 "cells": [
  {
   "cell_type": "code",
   "execution_count": 1,
   "metadata": {},
   "outputs": [],
   "source": [
    "import os\n",
    "import requests\n",
    "import sqlite3\n",
    "import pickle\n",
    "from datetime import datetime, timedelta\n",
    "from datetime import timezone\n",
    "import pandas as pd\n",
    "import numpy as np\n",
    "import matplotlib.pyplot as plt\n",
    "import math\n",
    "from dotenv import load_dotenv\n",
    "from IPython.display import clear_output\n",
    "load_dotenv()\n",
    "COINGECKO_API = os.getenv(\"COINGECKO_API_KEY\")\n",
    "HEADERS = {\"x-cg-pro-api-key\": COINGECKO_API,\n",
    "           \"accept\": \"application/json\"}"
   ]
  },
  {
   "cell_type": "code",
   "execution_count": 31,
   "metadata": {},
   "outputs": [],
   "source": [
    "def fetch_layer1_coins(vs_currency=\"usd\"):\n",
    "    \"\"\"\n",
    "    Fetch the list of Layer-1 coins from CoinGecko using the \"layer-1\" category.\n",
    "    \"\"\"\n",
    "    url = \"https://pro-api.coingecko.com/api/v3/coins/markets\"\n",
    "    params = {\n",
    "        \"vs_currency\": vs_currency,\n",
    "        \"category\": \"layer-1\",  # Category provided by CoinGecko for Layer-1 coins\n",
    "        \"order\": \"market_cap_desc\",\n",
    "        \"per_page\": 250,\n",
    "        \"page\": 1,\n",
    "        \"sparkline\": \"false\",\n",
    "        \"locale\": \"en\"\n",
    "    }\n",
    "    all_coins = []\n",
    "    try:\n",
    "        while True:\n",
    "            resp = requests.get(url, params=params, headers=HEADERS)\n",
    "            resp.raise_for_status()\n",
    "            data = resp.json()\n",
    "            if not data:\n",
    "                break  # No more pages\n",
    "            for coin in data:\n",
    "                if not coin.get('last_updated'):\n",
    "                    continue\n",
    "                if coin.get(\"total_volume\") and coin.get(\"total_volume\") < 100000:\n",
    "                    continue\n",
    "                # Save CoinGecko coin id, name and symbol for future use.\n",
    "                coin_id = coin.get(\"id\")\n",
    "                name = coin.get(\"name\")\n",
    "                symbol = coin.get(\"symbol\")\n",
    "                # all_coins.append({\"id\": coin_id, \"name\": name, \"symbol\": symbol})\n",
    "                all_coins.append(coin)\n",
    "            params[\"page\"] += 1  # Next page\n",
    "    except requests.RequestException as e:\n",
    "        print(f\"Error fetching Layer-1 coins: {e}\")\n",
    "    return all_coins"
   ]
  },
  {
   "cell_type": "code",
   "execution_count": 32,
   "metadata": {},
   "outputs": [
    {
     "name": "stdout",
     "output_type": "stream",
     "text": [
      "Fetched and saved 193 Layer-1 coins.\n"
     ]
    }
   ],
   "source": [
    "coin_list_file = \"../Data/layer1_coins.pkl\"\n",
    "if os.path.exists(coin_list_file):\n",
    "    with open(coin_list_file, \"rb\") as f:\n",
    "        layer1_coins = pickle.load(f)\n",
    "    print(f\"Loaded {len(layer1_coins)} Layer-1 coins from cache.\")\n",
    "else:\n",
    "    layer1_coins = fetch_layer1_coins()\n",
    "    # with open(coin_list_file, \"wb\") as f:\n",
    "    #     pickle.dump(layer1_coins, f)\n",
    "    print(f\"Fetched and saved {len(layer1_coins)} Layer-1 coins.\")"
   ]
  },
  {
   "cell_type": "code",
   "execution_count": 34,
   "metadata": {},
   "outputs": [],
   "source": [
    "# [(coin.get('last_updated'),coin.get('id'), coin.get('total_volume'),  coin.get('low_24h'), coin.get('high_24h')) for coin in layer1_coins]"
   ]
  },
  {
   "cell_type": "code",
   "execution_count": 35,
   "metadata": {},
   "outputs": [],
   "source": [
    "conn = sqlite3.connect(\"../Data/crypto_data.db\")\n",
    "cursor = conn.cursor()\n",
    "\n",
    "# Create table for coin history with OHLC and market data\n",
    "cursor.execute(\"\"\"\n",
    "CREATE TABLE IF NOT EXISTS coin_history (\n",
    "    coin_id TEXT,\n",
    "    symbol TEXT,\n",
    "    name TEXT,\n",
    "    time_rank TEXT,\n",
    "    open REAL,\n",
    "    high REAL,\n",
    "    low REAL,\n",
    "    close REAL,\n",
    "    volume REAL,\n",
    "    market_cap REAL,\n",
    "    PRIMARY KEY (coin_id, time_rank)\n",
    ")\n",
    "\"\"\")\n",
    "conn.commit()"
   ]
  },
  {
   "cell_type": "code",
   "execution_count": 36,
   "metadata": {},
   "outputs": [],
   "source": [
    "def fetch_ohlc_chart_data(coin_id, from_ts, to_ts, vs_currency=\"usd\"):\n",
    "    \"\"\"\n",
    "    Use the Coin OHLC Chart Data endpoint.\n",
    "    Returns a list of [timestamp, open, high, low, close] arrays.\n",
    "    Timestamps (in ms) refer to the end of each interval.\n",
    "    This endpoint supports up to 31 days at a time.\n",
    "    \"\"\"\n",
    "    url = f\"https://pro-api.coingecko.com/api/v3/coins/{coin_id}/ohlc/range\"\n",
    "    params = {\n",
    "        \"vs_currency\": vs_currency,\n",
    "        \"from\": int(from_ts),\n",
    "        \"to\": int(to_ts),\n",
    "        \"interval\": \"hourly\"\n",
    "    }\n",
    "    resp = requests.get(url, params=params, headers=HEADERS)\n",
    "    resp.raise_for_status()\n",
    "    return resp.json()\n",
    "def fetch_historical_chart_data(coin_id, from_ts, to_ts, vs_currency=\"usd\"):\n",
    "    \"\"\"\n",
    "    Use the Coin Historical Chart Data endpoint.\n",
    "    Returns a dict with keys 'prices', 'market_caps', and 'total_volumes'.\n",
    "    Timestamps in the returned lists are in milliseconds.\n",
    "    This endpoint now supports up to 100 days of hourly data.\n",
    "    \"\"\"\n",
    "    url = f\"https://pro-api.coingecko.com/api/v3/coins/{coin_id}/market_chart/range\"\n",
    "    params = {\n",
    "        \"vs_currency\": vs_currency,\n",
    "        \"from\": int(from_ts),\n",
    "        \"to\": int(to_ts),\n",
    "    }\n",
    "    resp = requests.get(url, params=params, headers=HEADERS)\n",
    "    resp.raise_for_status()\n",
    "    return resp.json()"
   ]
  },
  {
   "cell_type": "code",
   "execution_count": 37,
   "metadata": {},
   "outputs": [],
   "source": [
    "def ceil_to_hour(dt: datetime) -> datetime:\n",
    "    \"\"\"Return the datetime rounded down to the nearest hour.\"\"\"\n",
    "    return dt + timedelta(minutes=60 - dt.minute, seconds=-dt.second, microseconds=-dt.microsecond)\n",
    "\n",
    "def round_up_timestamp_to_nearest_hour(timestamp):\n",
    "    return math.ceil(timestamp / 3600) * 3600\n",
    "\n",
    "def update_coin_history(coin, start_date=\"2018-02-01\"):\n",
    "    \"\"\"\n",
    "    For a given coin (dict with id, symbol, name), update the coin_history table.\n",
    "    Data is fetched in 31-day chunks for OHLC (as it supports only 31 days at a time).\n",
    "    Before inserting, the timestamp from OHLC is floored to the hour mark.\n",
    "    \"\"\"\n",
    "    coin_id = coin[\"id\"]\n",
    "    symbol = coin[\"symbol\"]\n",
    "    name = coin[\"name\"]\n",
    "    \n",
    "    # Get the latest timestamp stored for this coin (if any)\n",
    "    cursor.execute(\"SELECT MAX(time_rank) FROM coin_history WHERE coin_id=?\", (coin_id,))\n",
    "    result = cursor.fetchone()\n",
    "    if result[0]:\n",
    "        latest = datetime.fromisoformat(result[0])\n",
    "        start_dt = latest + timedelta(seconds=1)\n",
    "    else:\n",
    "        start_dt = datetime.strptime(start_date, \"%Y-%m-%d\")\n",
    "    print(f\"Latest data for {coin_id} is available until {start_dt}\")\n",
    "    start_dt = start_dt.replace(tzinfo=timezone.utc)\n",
    "    \n",
    "    now = datetime.now(timezone.utc)\n",
    "    if start_dt >= now:\n",
    "        return  # Data is up-to-date\n",
    "    \n",
    "    print(f\"Updating {coin_id} data from {start_dt.isoformat()} to {now.isoformat()}\")\n",
    "\n",
    "    # Use 31-day chunks as per OHLC endpoint limits.\n",
    "    chunk = timedelta(days=31)\n",
    "    curr_start = start_dt\n",
    "    while curr_start < now:\n",
    "        curr_end = min(now, curr_start + chunk)\n",
    "        clear_output(wait=True)\n",
    "        print(f\"Fetching data for {coin_id} from {curr_start.isoformat()} to {curr_end.isoformat()} \")\n",
    "        from_ts = curr_start.timestamp()  # seconds\n",
    "        to_ts = curr_end.timestamp()        # seconds\n",
    "        \n",
    "        try:\n",
    "            # Fetch historical chart data (prices, market_caps, volumes)\n",
    "            \n",
    "            hist_data = fetch_historical_chart_data(coin_id, from_ts-3600, to_ts)\n",
    "            \n",
    "            # Build lookup dictionaries using timestamp in ms\n",
    "            price_dict = {round_up_timestamp_to_nearest_hour(int(item[0]/1000)): item[1] for item in hist_data.get(\"prices\", [])}\n",
    "            mcap_dict = {round_up_timestamp_to_nearest_hour(int(item[0]/1000)): item[1] for item in hist_data.get(\"market_caps\", [])}\n",
    "            vol_dict = {round_up_timestamp_to_nearest_hour(int(item[0]/1000)): item[1] for item in hist_data.get(\"total_volumes\", [])}\n",
    "            \n",
    "            # Fetch OHLC chart data for the same range.\n",
    "            ohlc_data = fetch_ohlc_chart_data(coin_id, from_ts, to_ts)\n",
    "            \n",
    "            # Process each OHLC data point.\n",
    "            # Note: The timestamp from OHLC refers to the end of the interval.\n",
    "            for entry in ohlc_data:\n",
    "                ts_ms = int(entry[0])/1000\n",
    "                # Convert timestamp to datetime and floor to the hour\n",
    "                dt = datetime.fromtimestamp(ts_ms, tz=timezone.utc)\n",
    "                dt_hour = ceil_to_hour(dt)\n",
    "                dt_iso = dt_hour.isoformat()\n",
    "                \n",
    "                open_price, high_price, low_price, close_price = entry[1], entry[2], entry[3], entry[4]\n",
    "                volume = vol_dict.get(ts_ms, None)\n",
    "                market_cap = mcap_dict.get(ts_ms, None)\n",
    "                \n",
    "                # Insert data into the database; duplicates (same coin_id and time_rank) are skipped.\n",
    "                cursor.execute(\"\"\"\n",
    "                    INSERT OR IGNORE INTO coin_history (\n",
    "                        coin_id, symbol, name, time_rank, open, high, low, close, volume, market_cap\n",
    "                    ) VALUES (?, ?, ?, ?, ?, ?, ?, ?, ?, ?)\n",
    "                \"\"\", (coin_id, symbol, name, dt_iso, open_price, high_price, low_price, close_price, volume, market_cap))\n",
    "            conn.commit()\n",
    "            print(f\"Inserted {len(ohlc_data)} records for {coin_id} in this chunk.\")\n",
    "        except Exception as e:\n",
    "            print(f\"Error updating {coin_id} for chunk {curr_start.isoformat()} to {curr_end.isoformat()}: {e}\")\n",
    "        curr_start = curr_end + timedelta(seconds=1)"
   ]
  },
  {
   "cell_type": "code",
   "execution_count": null,
   "metadata": {},
   "outputs": [
    {
     "name": "stdout",
     "output_type": "stream",
     "text": [
      "Fetching data for klay-token from 2025-02-17T00:01:23+00:00 to 2025-03-06T19:33:54.099003+00:00 \n",
      "Inserted 428 records for klay-token in this chunk.\n"
     ]
    },
    {
     "ename": "",
     "evalue": "",
     "output_type": "error",
     "traceback": [
      "\u001b[1;31mThe Kernel crashed while executing code in the current cell or a previous cell. \n",
      "\u001b[1;31mPlease review the code in the cell(s) to identify a possible cause of the failure. \n",
      "\u001b[1;31mClick <a href='https://aka.ms/vscodeJupyterKernelCrash'>here</a> for more info. \n",
      "\u001b[1;31mView Jupyter <a href='command:jupyter.viewOutput'>log</a> for further details."
     ]
    }
   ],
   "source": [
    "for coin in layer1_coins:\n",
    "    update_coin_history(coin)"
   ]
  },
  {
   "cell_type": "code",
   "execution_count": 18,
   "metadata": {},
   "outputs": [
    {
     "name": "stdout",
     "output_type": "stream",
     "text": [
      "                  time_rank  coin_id symbol     name     open     high  \\\n",
      "0 2018-02-02 02:00:00+00:00  bitcoin    btc  Bitcoin  9070.56  9070.56   \n",
      "1 2018-02-03 02:00:00+00:00  bitcoin    btc  Bitcoin  8830.16  8830.16   \n",
      "2 2018-02-04 02:00:00+00:00  bitcoin    btc  Bitcoin  8994.91  8994.91   \n",
      "3 2018-02-05 02:00:00+00:00  bitcoin    btc  Bitcoin  8315.52  8315.52   \n",
      "4 2018-02-06 02:00:00+00:00  bitcoin    btc  Bitcoin  6852.05  6852.05   \n",
      "\n",
      "       low    close        volume    market_cap  \n",
      "0  9070.56  9070.56  4.720685e+09  1.490066e+11  \n",
      "1  8830.16  8830.16  6.689345e+09  1.470204e+11  \n",
      "2  8994.91  8994.91  3.406201e+09  1.529524e+11  \n",
      "3  8315.52  8315.52  3.313033e+09  1.377500e+11  \n",
      "4  6852.05  6852.05  5.582367e+09  1.166751e+11  \n"
     ]
    }
   ],
   "source": [
    "query = \"SELECT time_rank, coin_id, symbol, name, open, high, low, close, volume, market_cap FROM coin_history\"\n",
    "df = pd.read_sql_query(query, conn)\n",
    "df['time_rank'] = pd.to_datetime(df['time_rank'])\n",
    "print(df.head())"
   ]
  }
 ],
 "metadata": {
  "kernelspec": {
   "display_name": "cakeshop",
   "language": "python",
   "name": "python3"
  },
  "language_info": {
   "codemirror_mode": {
    "name": "ipython",
    "version": 3
   },
   "file_extension": ".py",
   "mimetype": "text/x-python",
   "name": "python",
   "nbconvert_exporter": "python",
   "pygments_lexer": "ipython3",
   "version": "3.11.10"
  }
 },
 "nbformat": 4,
 "nbformat_minor": 2
}
