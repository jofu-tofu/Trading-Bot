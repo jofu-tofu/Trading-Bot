{
 "cells": [
  {
   "cell_type": "code",
   "execution_count": 10,
   "metadata": {},
   "outputs": [
    {
     "data": {
      "text/plain": [
       "True"
      ]
     },
     "execution_count": 10,
     "metadata": {},
     "output_type": "execute_result"
    }
   ],
   "source": [
    "import sys\n",
    "import os\n",
    "sys.path.append(os.path.abspath('../'))\n",
    "import util\n",
    "import ts_util\n",
    "from importlib import reload\n",
    "import pandas as pd\n",
    "import numpy as np\n",
    "import matplotlib.pyplot as plt\n",
    "from datetime import timezone\n",
    "from numba import njit\n",
    "import pickle\n",
    "import os\n",
    "import sqlite3\n",
    "from dotenv import load_dotenv\n",
    "import yfinance as yf\n",
    "import strategies\n",
    "load_dotenv()"
   ]
  },
  {
   "cell_type": "code",
   "execution_count": 18,
   "metadata": {},
   "outputs": [
    {
     "data": {
      "text/plain": [
       "0"
      ]
     },
     "execution_count": 18,
     "metadata": {},
     "output_type": "execute_result"
    }
   ],
   "source": [
    "kraken_coin_data = util.get_exchange_coins('kraken')\n",
    "kraken_coin_ids = [coin['coin_id'] for coin in kraken_coin_data]\n",
    "kraken_symbols = [coin['base'].lower() for coin in kraken_coin_data]\n",
    "tradable_kraken_coins = util.get_tradable_kraken_coins()\n",
    "# TIME IS CLOSE TIME\n",
    "all_data = util.get_all_ochl()\n",
    "btc_ohlc = all_data[all_data['symbol'] == 'btc'].drop(['symbol', 'coin_id', 'name'], axis=1).set_index('time_rank')\n",
    "btc_ohlc[['open', 'high', 'low', 'close']] = np.log(btc_ohlc[['open', 'high', 'low', 'close']])\n",
    "btc_ohlc.sort_index(inplace=True)\n",
    "total_date_range = pd.date_range(start='2018-02-15 00:00:00+00:00', end=btc_ohlc.index[-1], freq='h', tz=timezone.utc)\n",
    "btc_ohlc = btc_ohlc.reindex(total_date_range, method='ffill')\n",
    "btc_ret = btc_ohlc['close'].diff() # if index is t, then ret[t] = close[t] - close[t-1]\n",
    "in_sample_btc_ohlc = btc_ohlc.loc['2018-02-15':'2023-12-31']\n",
    "out_of_sample_btc_ohlc = btc_ohlc.loc['2024-01-01':]\n",
    "len(set(out_of_sample_btc_ohlc.index).difference(set(btc_ohlc.index)))+len(set(in_sample_btc_ohlc.index).difference(set(btc_ohlc.index)))  # should be empty"
   ]
  },
  {
   "cell_type": "code",
   "execution_count": 17,
   "metadata": {},
   "outputs": [
    {
     "data": {
      "text/plain": [
       "<module 'strategies' from 'c:\\\\Users\\\\joshu\\\\Documents\\\\Github\\\\Trading-Bot\\\\Uncon Backtest\\\\strategies.py'>"
      ]
     },
     "execution_count": 17,
     "metadata": {},
     "output_type": "execute_result"
    }
   ],
   "source": [
    "reload(util)\n",
    "reload(ts_util)\n",
    "reload(strategies)"
   ]
  }
 ],
 "metadata": {
  "kernelspec": {
   "display_name": "financial_research",
   "language": "python",
   "name": "python3"
  },
  "language_info": {
   "codemirror_mode": {
    "name": "ipython",
    "version": 3
   },
   "file_extension": ".py",
   "mimetype": "text/x-python",
   "name": "python",
   "nbconvert_exporter": "python",
   "pygments_lexer": "ipython3",
   "version": "3.12.3"
  }
 },
 "nbformat": 4,
 "nbformat_minor": 2
}
