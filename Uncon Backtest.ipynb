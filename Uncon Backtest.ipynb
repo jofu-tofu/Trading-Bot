{
 "cells": [
  {
   "cell_type": "markdown",
   "id": "eec62928",
   "metadata": {},
   "source": [
    "# UnconBacktest Example: TS Momentum in Cryptocurrencies\n",
    "\n",
    "We will run a simple \"uncon backtest\" to test whether 4 of the larger coins (BTC, ETH, ADA, BNB) show time-series momentum. In other words, if they have done well recently, do they tend to continue to do well?\n",
    "\n",
    "1. Run the first cell to compute returns for these coins since 2016.\n",
    "2. The signal on each day for each coin will be: sqrt(10)*(avg past 10 day ret - avg past 365 day ret) / (stdev past 365 day ret). You can think of this as the z-score of the past 10 day returns, and it tells us if a coin is doing better than it usually does. Technical note: we multiply by sqrt(10) here because the stdev is calculated on daily data but we want to \"z-score\" the average 10 day returns.\n",
    "3. The signal from (2) will have extreme values. Pass them through a tanh function to curtail these. These are your final daily portfolio weights.\n",
    "4. Compute the returns to the weights from (3). \n",
    "5. What is the Sharpe of these strategies? Plot their cumulative returns.\n",
    "6. How correlated are the timing strategies with the underlying assets?"
   ]
  },
  {
   "cell_type": "code",
   "execution_count": null,
   "id": "b5f4fb4b",
   "metadata": {},
   "outputs": [],
   "source": [
    "# compute returns \n",
    "import yfinance as yf \n",
    "import numpy as np\n",
    "\n",
    "data = yf.download(['ADA-USD','BNB-USD','BTC-USD','ETH-USD'],'2016-1-1')\n",
    "ret = data['Adj Close'] / data['Adj Close'].shift() - 1"
   ]
  }
 ],
 "metadata": {
  "kernelspec": {
   "display_name": "Python 3",
   "language": "python",
   "name": "python3"
  },
  "language_info": {
   "codemirror_mode": {
    "name": "ipython",
    "version": 3
   },
   "file_extension": ".py",
   "mimetype": "text/x-python",
   "name": "python",
   "nbconvert_exporter": "python",
   "pygments_lexer": "ipython3",
   "version": "3.8.8"
  }
 },
 "nbformat": 4,
 "nbformat_minor": 5
}
