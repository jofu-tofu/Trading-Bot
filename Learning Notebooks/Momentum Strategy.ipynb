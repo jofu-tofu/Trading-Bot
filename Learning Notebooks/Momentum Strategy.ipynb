{
 "cells": [
  {
   "cell_type": "markdown",
   "id": "d62019c7",
   "metadata": {},
   "source": [
    "# Simple Momentum Strategy"
   ]
  },
  {
   "cell_type": "markdown",
   "id": "79257f3c",
   "metadata": {},
   "source": [
    "1. Download daily price data for QQQ, TLT, GLD, RWO from yahoo finance since 2016-01-01. Using the adjusted close price data, compute daily returns. This should be a DataFrame with index=date, columns=ticker and values=daily returns."
   ]
  },
  {
   "cell_type": "code",
   "execution_count": 1,
   "id": "4201ac51",
   "metadata": {},
   "outputs": [
    {
     "name": "stderr",
     "output_type": "stream",
     "text": [
      "[*********************100%***********************]  4 of 4 completed\n"
     ]
    }
   ],
   "source": [
    "import yfinance as yf\n",
    "import pandas as pd\n",
    "import numpy as np\n",
    "\n",
    "# Get the data for the stock\n",
    "univ = ['QQQ', 'TLT', 'GLD', 'RWO']\n",
    "data = yf.download(univ,interval = '1d', start = '2016-01-01')\n"
   ]
  },
  {
   "cell_type": "code",
   "execution_count": 2,
   "id": "0db5683a",
   "metadata": {},
   "outputs": [
    {
     "data": {
      "text/html": [
       "<div>\n",
       "<style scoped>\n",
       "    .dataframe tbody tr th:only-of-type {\n",
       "        vertical-align: middle;\n",
       "    }\n",
       "\n",
       "    .dataframe tbody tr th {\n",
       "        vertical-align: top;\n",
       "    }\n",
       "\n",
       "    .dataframe thead th {\n",
       "        text-align: right;\n",
       "    }\n",
       "</style>\n",
       "<table border=\"1\" class=\"dataframe\">\n",
       "  <thead>\n",
       "    <tr style=\"text-align: right;\">\n",
       "      <th>Ticker</th>\n",
       "      <th>GLD</th>\n",
       "      <th>QQQ</th>\n",
       "      <th>RWO</th>\n",
       "      <th>TLT</th>\n",
       "    </tr>\n",
       "    <tr>\n",
       "      <th>Date</th>\n",
       "      <th></th>\n",
       "      <th></th>\n",
       "      <th></th>\n",
       "      <th></th>\n",
       "    </tr>\n",
       "  </thead>\n",
       "  <tbody>\n",
       "    <tr>\n",
       "      <th>2016-01-05 00:00:00+00:00</th>\n",
       "      <td>0.002819</td>\n",
       "      <td>-0.001735</td>\n",
       "      <td>0.012116</td>\n",
       "      <td>-0.004034</td>\n",
       "    </tr>\n",
       "    <tr>\n",
       "      <th>2016-01-06 00:00:00+00:00</th>\n",
       "      <td>0.014441</td>\n",
       "      <td>-0.009606</td>\n",
       "      <td>-0.007696</td>\n",
       "      <td>0.013475</td>\n",
       "    </tr>\n",
       "    <tr>\n",
       "      <th>2016-01-07 00:00:00+00:00</th>\n",
       "      <td>0.014140</td>\n",
       "      <td>-0.031314</td>\n",
       "      <td>-0.017880</td>\n",
       "      <td>0.001795</td>\n",
       "    </tr>\n",
       "    <tr>\n",
       "      <th>2016-01-08 00:00:00+00:00</th>\n",
       "      <td>-0.004428</td>\n",
       "      <td>-0.008200</td>\n",
       "      <td>-0.015135</td>\n",
       "      <td>0.004478</td>\n",
       "    </tr>\n",
       "    <tr>\n",
       "      <th>2016-01-11 00:00:00+00:00</th>\n",
       "      <td>-0.008895</td>\n",
       "      <td>0.003077</td>\n",
       "      <td>0.003118</td>\n",
       "      <td>-0.010944</td>\n",
       "    </tr>\n",
       "    <tr>\n",
       "      <th>...</th>\n",
       "      <td>...</td>\n",
       "      <td>...</td>\n",
       "      <td>...</td>\n",
       "      <td>...</td>\n",
       "    </tr>\n",
       "    <tr>\n",
       "      <th>2024-12-16 00:00:00+00:00</th>\n",
       "      <td>0.002415</td>\n",
       "      <td>0.014401</td>\n",
       "      <td>-0.005128</td>\n",
       "      <td>0.002995</td>\n",
       "    </tr>\n",
       "    <tr>\n",
       "      <th>2024-12-17 00:00:00+00:00</th>\n",
       "      <td>-0.003839</td>\n",
       "      <td>-0.004404</td>\n",
       "      <td>-0.003138</td>\n",
       "      <td>0.002433</td>\n",
       "    </tr>\n",
       "    <tr>\n",
       "      <th>2024-12-18 00:00:00+00:00</th>\n",
       "      <td>-0.019185</td>\n",
       "      <td>-0.036077</td>\n",
       "      <td>-0.035297</td>\n",
       "      <td>-0.012504</td>\n",
       "    </tr>\n",
       "    <tr>\n",
       "      <th>2024-12-19 00:00:00+00:00</th>\n",
       "      <td>0.001421</td>\n",
       "      <td>-0.004453</td>\n",
       "      <td>-0.011652</td>\n",
       "      <td>-0.015141</td>\n",
       "    </tr>\n",
       "    <tr>\n",
       "      <th>2024-12-20 00:00:00+00:00</th>\n",
       "      <td>0.010434</td>\n",
       "      <td>0.008733</td>\n",
       "      <td>0.015327</td>\n",
       "      <td>0.005694</td>\n",
       "    </tr>\n",
       "  </tbody>\n",
       "</table>\n",
       "<p>2257 rows × 4 columns</p>\n",
       "</div>"
      ],
      "text/plain": [
       "Ticker                          GLD       QQQ       RWO       TLT\n",
       "Date                                                             \n",
       "2016-01-05 00:00:00+00:00  0.002819 -0.001735  0.012116 -0.004034\n",
       "2016-01-06 00:00:00+00:00  0.014441 -0.009606 -0.007696  0.013475\n",
       "2016-01-07 00:00:00+00:00  0.014140 -0.031314 -0.017880  0.001795\n",
       "2016-01-08 00:00:00+00:00 -0.004428 -0.008200 -0.015135  0.004478\n",
       "2016-01-11 00:00:00+00:00 -0.008895  0.003077  0.003118 -0.010944\n",
       "...                             ...       ...       ...       ...\n",
       "2024-12-16 00:00:00+00:00  0.002415  0.014401 -0.005128  0.002995\n",
       "2024-12-17 00:00:00+00:00 -0.003839 -0.004404 -0.003138  0.002433\n",
       "2024-12-18 00:00:00+00:00 -0.019185 -0.036077 -0.035297 -0.012504\n",
       "2024-12-19 00:00:00+00:00  0.001421 -0.004453 -0.011652 -0.015141\n",
       "2024-12-20 00:00:00+00:00  0.010434  0.008733  0.015327  0.005694\n",
       "\n",
       "[2257 rows x 4 columns]"
      ]
     },
     "execution_count": 2,
     "metadata": {},
     "output_type": "execute_result"
    }
   ],
   "source": [
    "ret = data['Adj Close'].pct_change()[1:]\n",
    "ret"
   ]
  },
  {
   "cell_type": "markdown",
   "id": "d21d6024",
   "metadata": {},
   "source": [
    "2. Compute the signal. Complete the compute_momentum function which computes a simple momentum signal. The function takes in a DataFrame with index = date, columns=ticker and values containing daily returns. It returns a new DataFrame with index = date, columns=ticker and values containing the momentum signal for the ticker on that day. The momentum signal for each ticker is defined as the annualized sharpe ratio of the past 252 days."
   ]
  },
  {
   "cell_type": "code",
   "execution_count": 39,
   "id": "30cf8a71",
   "metadata": {},
   "outputs": [
    {
     "data": {
      "text/html": [
       "<div>\n",
       "<style scoped>\n",
       "    .dataframe tbody tr th:only-of-type {\n",
       "        vertical-align: middle;\n",
       "    }\n",
       "\n",
       "    .dataframe tbody tr th {\n",
       "        vertical-align: top;\n",
       "    }\n",
       "\n",
       "    .dataframe thead th {\n",
       "        text-align: right;\n",
       "    }\n",
       "</style>\n",
       "<table border=\"1\" class=\"dataframe\">\n",
       "  <thead>\n",
       "    <tr style=\"text-align: right;\">\n",
       "      <th>Ticker</th>\n",
       "      <th>GLD</th>\n",
       "      <th>QQQ</th>\n",
       "      <th>RWO</th>\n",
       "      <th>TLT</th>\n",
       "    </tr>\n",
       "    <tr>\n",
       "      <th>Date</th>\n",
       "      <th></th>\n",
       "      <th></th>\n",
       "      <th></th>\n",
       "      <th></th>\n",
       "    </tr>\n",
       "  </thead>\n",
       "  <tbody>\n",
       "    <tr>\n",
       "      <th>2016-01-05 00:00:00+00:00</th>\n",
       "      <td>NaN</td>\n",
       "      <td>NaN</td>\n",
       "      <td>NaN</td>\n",
       "      <td>NaN</td>\n",
       "    </tr>\n",
       "    <tr>\n",
       "      <th>2016-01-06 00:00:00+00:00</th>\n",
       "      <td>NaN</td>\n",
       "      <td>NaN</td>\n",
       "      <td>NaN</td>\n",
       "      <td>NaN</td>\n",
       "    </tr>\n",
       "    <tr>\n",
       "      <th>2016-01-07 00:00:00+00:00</th>\n",
       "      <td>NaN</td>\n",
       "      <td>NaN</td>\n",
       "      <td>NaN</td>\n",
       "      <td>NaN</td>\n",
       "    </tr>\n",
       "    <tr>\n",
       "      <th>2016-01-08 00:00:00+00:00</th>\n",
       "      <td>NaN</td>\n",
       "      <td>NaN</td>\n",
       "      <td>NaN</td>\n",
       "      <td>NaN</td>\n",
       "    </tr>\n",
       "    <tr>\n",
       "      <th>2016-01-11 00:00:00+00:00</th>\n",
       "      <td>NaN</td>\n",
       "      <td>NaN</td>\n",
       "      <td>NaN</td>\n",
       "      <td>NaN</td>\n",
       "    </tr>\n",
       "    <tr>\n",
       "      <th>...</th>\n",
       "      <td>...</td>\n",
       "      <td>...</td>\n",
       "      <td>...</td>\n",
       "      <td>...</td>\n",
       "    </tr>\n",
       "    <tr>\n",
       "      <th>2024-12-16 00:00:00+00:00</th>\n",
       "      <td>1.823554</td>\n",
       "      <td>1.773730</td>\n",
       "      <td>0.366209</td>\n",
       "      <td>-0.314704</td>\n",
       "    </tr>\n",
       "    <tr>\n",
       "      <th>2024-12-17 00:00:00+00:00</th>\n",
       "      <td>1.862729</td>\n",
       "      <td>1.720451</td>\n",
       "      <td>0.451367</td>\n",
       "      <td>-0.305343</td>\n",
       "    </tr>\n",
       "    <tr>\n",
       "      <th>2024-12-18 00:00:00+00:00</th>\n",
       "      <td>1.687988</td>\n",
       "      <td>1.446754</td>\n",
       "      <td>0.218077</td>\n",
       "      <td>-0.336551</td>\n",
       "    </tr>\n",
       "    <tr>\n",
       "      <th>2024-12-19 00:00:00+00:00</th>\n",
       "      <td>1.653287</td>\n",
       "      <td>1.393043</td>\n",
       "      <td>0.097290</td>\n",
       "      <td>-0.478657</td>\n",
       "    </tr>\n",
       "    <tr>\n",
       "      <th>2024-12-20 00:00:00+00:00</th>\n",
       "      <td>1.757364</td>\n",
       "      <td>1.529464</td>\n",
       "      <td>0.285814</td>\n",
       "      <td>-0.486391</td>\n",
       "    </tr>\n",
       "  </tbody>\n",
       "</table>\n",
       "<p>2257 rows × 4 columns</p>\n",
       "</div>"
      ],
      "text/plain": [
       "Ticker                          GLD       QQQ       RWO       TLT\n",
       "Date                                                             \n",
       "2016-01-05 00:00:00+00:00       NaN       NaN       NaN       NaN\n",
       "2016-01-06 00:00:00+00:00       NaN       NaN       NaN       NaN\n",
       "2016-01-07 00:00:00+00:00       NaN       NaN       NaN       NaN\n",
       "2016-01-08 00:00:00+00:00       NaN       NaN       NaN       NaN\n",
       "2016-01-11 00:00:00+00:00       NaN       NaN       NaN       NaN\n",
       "...                             ...       ...       ...       ...\n",
       "2024-12-16 00:00:00+00:00  1.823554  1.773730  0.366209 -0.314704\n",
       "2024-12-17 00:00:00+00:00  1.862729  1.720451  0.451367 -0.305343\n",
       "2024-12-18 00:00:00+00:00  1.687988  1.446754  0.218077 -0.336551\n",
       "2024-12-19 00:00:00+00:00  1.653287  1.393043  0.097290 -0.478657\n",
       "2024-12-20 00:00:00+00:00  1.757364  1.529464  0.285814 -0.486391\n",
       "\n",
       "[2257 rows x 4 columns]"
      ]
     },
     "execution_count": 39,
     "metadata": {},
     "output_type": "execute_result"
    }
   ],
   "source": [
    "def compute_momentum(ret):\n",
    "    # fill out the body here\n",
    "    # return a DataFrame \"momentum\" containing a simple momentum indicator\n",
    "    momentum = ret.rolling(window=252).mean()/ret.rolling(window=252).std()*np.sqrt(252)\n",
    "    return momentum\n",
    "momentum = compute_momentum(ret)\n",
    "momentum"
   ]
  },
  {
   "cell_type": "markdown",
   "id": "29828e83",
   "metadata": {},
   "source": [
    "3. Create a portfolio. Complete the function compute_portfolio. This function takes as input the DataFrame \"momentum\" from above. It returns a new DataFrame \"portfolio\" which has the same index/columns and has as values portfolio weights. The weights are computed as follows. On each date, equal-weight long the tickers with a momentum signal above 1."
   ]
  },
  {
   "cell_type": "code",
   "execution_count": 23,
   "id": "e9b7ac56",
   "metadata": {},
   "outputs": [
    {
     "data": {
      "text/html": [
       "<div>\n",
       "<style scoped>\n",
       "    .dataframe tbody tr th:only-of-type {\n",
       "        vertical-align: middle;\n",
       "    }\n",
       "\n",
       "    .dataframe tbody tr th {\n",
       "        vertical-align: top;\n",
       "    }\n",
       "\n",
       "    .dataframe thead th {\n",
       "        text-align: right;\n",
       "    }\n",
       "</style>\n",
       "<table border=\"1\" class=\"dataframe\">\n",
       "  <thead>\n",
       "    <tr style=\"text-align: right;\">\n",
       "      <th>Ticker</th>\n",
       "      <th>GLD</th>\n",
       "      <th>QQQ</th>\n",
       "      <th>RWO</th>\n",
       "      <th>TLT</th>\n",
       "    </tr>\n",
       "    <tr>\n",
       "      <th>Date</th>\n",
       "      <th></th>\n",
       "      <th></th>\n",
       "      <th></th>\n",
       "      <th></th>\n",
       "    </tr>\n",
       "  </thead>\n",
       "  <tbody>\n",
       "    <tr>\n",
       "      <th>2017-01-03 00:00:00+00:00</th>\n",
       "      <td>NaN</td>\n",
       "      <td>NaN</td>\n",
       "      <td>NaN</td>\n",
       "      <td>NaN</td>\n",
       "    </tr>\n",
       "    <tr>\n",
       "      <th>2017-01-04 00:00:00+00:00</th>\n",
       "      <td>NaN</td>\n",
       "      <td>NaN</td>\n",
       "      <td>NaN</td>\n",
       "      <td>NaN</td>\n",
       "    </tr>\n",
       "    <tr>\n",
       "      <th>2017-01-05 00:00:00+00:00</th>\n",
       "      <td>NaN</td>\n",
       "      <td>NaN</td>\n",
       "      <td>NaN</td>\n",
       "      <td>NaN</td>\n",
       "    </tr>\n",
       "    <tr>\n",
       "      <th>2017-01-06 00:00:00+00:00</th>\n",
       "      <td>0.0</td>\n",
       "      <td>1.0</td>\n",
       "      <td>0.0</td>\n",
       "      <td>0.0</td>\n",
       "    </tr>\n",
       "    <tr>\n",
       "      <th>2017-01-09 00:00:00+00:00</th>\n",
       "      <td>0.0</td>\n",
       "      <td>1.0</td>\n",
       "      <td>0.0</td>\n",
       "      <td>0.0</td>\n",
       "    </tr>\n",
       "    <tr>\n",
       "      <th>...</th>\n",
       "      <td>...</td>\n",
       "      <td>...</td>\n",
       "      <td>...</td>\n",
       "      <td>...</td>\n",
       "    </tr>\n",
       "    <tr>\n",
       "      <th>2024-12-16 00:00:00+00:00</th>\n",
       "      <td>0.5</td>\n",
       "      <td>0.5</td>\n",
       "      <td>0.0</td>\n",
       "      <td>0.0</td>\n",
       "    </tr>\n",
       "    <tr>\n",
       "      <th>2024-12-17 00:00:00+00:00</th>\n",
       "      <td>0.5</td>\n",
       "      <td>0.5</td>\n",
       "      <td>0.0</td>\n",
       "      <td>0.0</td>\n",
       "    </tr>\n",
       "    <tr>\n",
       "      <th>2024-12-18 00:00:00+00:00</th>\n",
       "      <td>0.5</td>\n",
       "      <td>0.5</td>\n",
       "      <td>0.0</td>\n",
       "      <td>0.0</td>\n",
       "    </tr>\n",
       "    <tr>\n",
       "      <th>2024-12-19 00:00:00+00:00</th>\n",
       "      <td>0.5</td>\n",
       "      <td>0.5</td>\n",
       "      <td>0.0</td>\n",
       "      <td>0.0</td>\n",
       "    </tr>\n",
       "    <tr>\n",
       "      <th>2024-12-20 00:00:00+00:00</th>\n",
       "      <td>0.5</td>\n",
       "      <td>0.5</td>\n",
       "      <td>0.0</td>\n",
       "      <td>0.0</td>\n",
       "    </tr>\n",
       "  </tbody>\n",
       "</table>\n",
       "<p>2006 rows × 4 columns</p>\n",
       "</div>"
      ],
      "text/plain": [
       "Ticker                     GLD  QQQ  RWO  TLT\n",
       "Date                                         \n",
       "2017-01-03 00:00:00+00:00  NaN  NaN  NaN  NaN\n",
       "2017-01-04 00:00:00+00:00  NaN  NaN  NaN  NaN\n",
       "2017-01-05 00:00:00+00:00  NaN  NaN  NaN  NaN\n",
       "2017-01-06 00:00:00+00:00  0.0  1.0  0.0  0.0\n",
       "2017-01-09 00:00:00+00:00  0.0  1.0  0.0  0.0\n",
       "...                        ...  ...  ...  ...\n",
       "2024-12-16 00:00:00+00:00  0.5  0.5  0.0  0.0\n",
       "2024-12-17 00:00:00+00:00  0.5  0.5  0.0  0.0\n",
       "2024-12-18 00:00:00+00:00  0.5  0.5  0.0  0.0\n",
       "2024-12-19 00:00:00+00:00  0.5  0.5  0.0  0.0\n",
       "2024-12-20 00:00:00+00:00  0.5  0.5  0.0  0.0\n",
       "\n",
       "[2006 rows x 4 columns]"
      ]
     },
     "execution_count": 23,
     "metadata": {},
     "output_type": "execute_result"
    }
   ],
   "source": [
    "def compute_portfolio(momentum):\n",
    "    # fill out the body here\n",
    "    # return a DataFrame \"portfolio\" containing portfolio weights\n",
    "    portfolio = momentum.map(lambda x: 1 if x > 1 else 0).apply(lambda x: x/sum(x), axis=1)\n",
    "    return portfolio\n",
    "portfolio = compute_portfolio(momentum)\n",
    "portfolio"
   ]
  },
  {
   "cell_type": "markdown",
   "id": "c82b3276",
   "metadata": {},
   "source": [
    "4. Portfolio returns. Using the \"portfolio\" returned in part(3) and the returns generated in part(1), compute the returns to the simple momentum strategy. \n",
    "- What is the annualized sharpe ratio of the strategy? \n",
    "- How about the annualized sharpe ratio within each year? \n",
    "- How correlated is the strategy with the underlying tickers?\n",
    "- Plot the cumulative sum of the returns through time"
   ]
  },
  {
   "cell_type": "markdown",
   "id": "47030bdc",
   "metadata": {},
   "source": [
    "The solution is such that days where there is no buy/sell, returns are 0."
   ]
  },
  {
   "cell_type": "code",
   "execution_count": 44,
   "id": "af8e39ff",
   "metadata": {},
   "outputs": [
    {
     "data": {
      "text/plain": [
       "1.0799865333292165"
      ]
     },
     "execution_count": 44,
     "metadata": {},
     "output_type": "execute_result"
    }
   ],
   "source": [
    "new_port = (portfolio.shift(1)*ret).assign(total_ret=lambda x: x.sum(axis=1))[momentum.dropna().index[0]:].fillna(0)\n",
    "new_port['total_ret'].mean()/new_port['total_ret'].std()*np.sqrt(252)"
   ]
  },
  {
   "cell_type": "code",
   "execution_count": 45,
   "id": "8d6e2fe7",
   "metadata": {},
   "outputs": [
    {
     "data": {
      "text/plain": [
       "Date\n",
       "2017    2.670445\n",
       "2018   -0.024998\n",
       "2019    1.015503\n",
       "2020    1.528308\n",
       "2021    1.411043\n",
       "2022   -0.737295\n",
       "2023    1.171866\n",
       "2024    1.884803\n",
       "Name: total_ret, dtype: float64"
      ]
     },
     "execution_count": 45,
     "metadata": {},
     "output_type": "execute_result"
    }
   ],
   "source": [
    "yearly_sharpe = new_port['total_ret'].groupby(new_port.index.year).mean()/new_port['total_ret'].groupby(new_port.index.year).std()*np.sqrt(252)\n",
    "yearly_sharpe"
   ]
  },
  {
   "cell_type": "code",
   "execution_count": 52,
   "id": "4690d71b",
   "metadata": {},
   "outputs": [
    {
     "data": {
      "text/plain": [
       "Ticker\n",
       "GLD    0.342796\n",
       "QQQ    0.463667\n",
       "RWO    0.253710\n",
       "TLT    0.205496\n",
       "dtype: float64"
      ]
     },
     "execution_count": 52,
     "metadata": {},
     "output_type": "execute_result"
    }
   ],
   "source": [
    "ret.corrwith(new_port['total_ret'])"
   ]
  },
  {
   "cell_type": "code",
   "execution_count": 50,
   "id": "307fc311",
   "metadata": {},
   "outputs": [
    {
     "data": {
      "text/plain": [
       "<Axes: xlabel='Date'>"
      ]
     },
     "execution_count": 50,
     "metadata": {},
     "output_type": "execute_result"
    },
    {
     "data": {
      "image/png": "[encoded data removed]",
      "text/plain": [
       "<Figure size 640x480 with 1 Axes>"
      ]
     },
     "metadata": {},
     "output_type": "display_data"
    }
   ],
   "source": [
    "new_port['total_ret'].cumsum().plot()"
   ]
  }
 ],
 "metadata": {
  "kernelspec": {
   "display_name": "financial_research",
   "language": "python",
   "name": "python3"
  },
  "language_info": {
   "codemirror_mode": {
    "name": "ipython",
    "version": 3
   },
   "file_extension": ".py",
   "mimetype": "text/x-python",
   "name": "python",
   "nbconvert_exporter": "python",
   "pygments_lexer": "ipython3",
   "version": "3.12.3"
  }
 },
 "nbformat": 4,
 "nbformat_minor": 5
}
