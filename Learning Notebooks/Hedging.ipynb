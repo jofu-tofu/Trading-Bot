{
 "cells": [
  {
   "cell_type": "markdown",
   "id": "05ff4511",
   "metadata": {},
   "source": [
    "# The Price of Hedging\n",
    "1. Below we first generate 2 random return series we will use in the homwork."
   ]
  },
  {
   "cell_type": "code",
   "execution_count": 53,
   "id": "049b0fc7",
   "metadata": {},
   "outputs": [],
   "source": [
    "import numpy as np \n",
    "import pandas as pd \n",
    "def gen_strat_returns():\n",
    "    np.random.seed(5)\n",
    "    \n",
    "\n",
    "    corr = [[1, -0.5],\n",
    "            [-0.5, 1]]\n",
    "    \n",
    "    corr = np.array(corr)\n",
    "    \n",
    "    vols = np.diag(np.array([0.1, 0.1])) / np.sqrt(252)\n",
    "    \n",
    "    sigma = vols @ corr @ vols\n",
    "    \n",
    "    mu = np.array([0.1,-0.05]) / 252\n",
    "    \n",
    "    dates = pd.date_range('20100101','20191231',freq='B')\n",
    "    \n",
    "    rets = np.random.multivariate_normal(mu, sigma, size = len(dates))\n",
    "    rets = pd.DataFrame(rets,columns = ['X','HEDGE'], index = dates)\n",
    "    \n",
    "\n",
    "    rets = rets/rets.std()*0.1/np.sqrt(252)\n",
    "    rets = rets-rets.mean()\n",
    "    rets = rets+mu\n",
    "    return rets\n",
    "\n",
    "rets = gen_strat_returns()"
   ]
  },
  {
   "cell_type": "markdown",
   "id": "19eb581a",
   "metadata": {},
   "source": [
    "2. Compute some basic stats on the return streams, including annualized returns, volatilities, sharpes and correlations.\n"
   ]
  },
  {
   "cell_type": "code",
   "execution_count": 54,
   "id": "df9e2f1c",
   "metadata": {},
   "outputs": [
    {
     "data": {
      "text/html": [
       "<div>\n",
       "<style scoped>\n",
       "    .dataframe tbody tr th:only-of-type {\n",
       "        vertical-align: middle;\n",
       "    }\n",
       "\n",
       "    .dataframe tbody tr th {\n",
       "        vertical-align: top;\n",
       "    }\n",
       "\n",
       "    .dataframe thead th {\n",
       "        text-align: right;\n",
       "    }\n",
       "</style>\n",
       "<table border=\"1\" class=\"dataframe\">\n",
       "  <thead>\n",
       "    <tr style=\"text-align: right;\">\n",
       "      <th></th>\n",
       "      <th>RETURN</th>\n",
       "      <th>VOL</th>\n",
       "      <th>SHARPE</th>\n",
       "      <th>CORR</th>\n",
       "    </tr>\n",
       "  </thead>\n",
       "  <tbody>\n",
       "    <tr>\n",
       "      <th>X</th>\n",
       "      <td>0.10</td>\n",
       "      <td>0.1</td>\n",
       "      <td>1.0</td>\n",
       "      <td>-0.513782</td>\n",
       "    </tr>\n",
       "    <tr>\n",
       "      <th>HEDGE</th>\n",
       "      <td>-0.05</td>\n",
       "      <td>0.1</td>\n",
       "      <td>-0.5</td>\n",
       "      <td>-0.513782</td>\n",
       "    </tr>\n",
       "  </tbody>\n",
       "</table>\n",
       "</div>"
      ],
      "text/plain": [
       "       RETURN  VOL  SHARPE      CORR\n",
       "X        0.10  0.1     1.0 -0.513782\n",
       "HEDGE   -0.05  0.1    -0.5 -0.513782"
      ]
     },
     "execution_count": 54,
     "metadata": {},
     "output_type": "execute_result"
    }
   ],
   "source": [
    "summary = {}\n",
    "summary['RETURN'] = rets.mean()*252\n",
    "summary['VOL'] = rets.std()*np.sqrt(252)\n",
    "summary['SHARPE'] = summary['RETURN']/summary['VOL']\n",
    "summary['CORR'] = rets.corr().iloc[0,1]\n",
    "summary = pd.DataFrame(summary)\n",
    "summary"
   ]
  },
  {
   "cell_type": "markdown",
   "id": "bb5e796b",
   "metadata": {},
   "source": [
    "3. Combine the two returns streams optimally. What is the Sharpe ratio of the combo?\n"
   ]
  },
  {
   "cell_type": "code",
   "execution_count": 55,
   "id": "2178dfd1",
   "metadata": {},
   "outputs": [
    {
     "data": {
      "text/plain": [
       "array([0.98179078, 0.01820922])"
      ]
     },
     "execution_count": 55,
     "metadata": {},
     "output_type": "execute_result"
    }
   ],
   "source": [
    "def get_opt_weighting(rets):\n",
    "    sigma = rets.cov()\n",
    "    mu = rets.mean()\n",
    "    wgt = np.linalg.inv(sigma).dot(mu)\n",
    "    wgt = wgt/np.abs(wgt).sum()\n",
    "    return wgt\n",
    "\n",
    "wgt = get_opt_weighting(rets)\n",
    "wgt"
   ]
  },
  {
   "cell_type": "code",
   "execution_count": 58,
   "id": "a05e9d8d",
   "metadata": {},
   "outputs": [
    {
     "data": {
      "text/plain": [
       "RETURN    0.097269\n",
       "VOL       0.097256\n",
       "SHARPE    1.000129\n",
       "dtype: float64"
      ]
     },
     "execution_count": 58,
     "metadata": {},
     "output_type": "execute_result"
    }
   ],
   "source": [
    "new_ret = rets.dot(wgt)\n",
    "new_summary = {}\n",
    "new_summary['RETURN'] = new_ret.mean()*252\n",
    "new_summary['VOL'] = new_ret.std()*np.sqrt(252)\n",
    "new_summary['SHARPE'] = new_summary['RETURN']/new_summary['VOL']\n",
    "new_summary = pd.Series(new_summary)\n",
    "new_summary"
   ]
  },
  {
   "cell_type": "markdown",
   "id": "3448decf",
   "metadata": {},
   "source": [
    "4. Now, compute what happens to the optimal weights and sharpes as we change the average annualized return on \"HEDGE\" in a range between -10% and 10% in increments of 1%. Roughly what return do you need on \"HEDGE\" to justify a zero weight? \n",
    "\n",
    "Answer: -5%"
   ]
  }
 ],
 "metadata": {
  "kernelspec": {
   "display_name": "financial_research",
   "language": "python",
   "name": "python3"
  },
  "language_info": {
   "codemirror_mode": {
    "name": "ipython",
    "version": 3
   },
   "file_extension": ".py",
   "mimetype": "text/x-python",
   "name": "python",
   "nbconvert_exporter": "python",
   "pygments_lexer": "ipython3",
   "version": "3.12.3"
  }
 },
 "nbformat": 4,
 "nbformat_minor": 5
}
