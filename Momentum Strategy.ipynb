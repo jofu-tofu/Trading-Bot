{
 "cells": [
  {
   "cell_type": "markdown",
   "id": "d62019c7",
   "metadata": {},
   "source": [
    "# Simple Momentum Strategy"
   ]
  },
  {
   "cell_type": "markdown",
   "id": "79257f3c",
   "metadata": {},
   "source": [
    "1. Download daily price data for QQQ, TLT, GLD, RWO from yahoo finance since 2016-01-01. Using the adjusted close price data, compute daily returns. This should be a DataFrame with index=date, columns=ticker and values=daily returns."
   ]
  },
  {
   "cell_type": "code",
   "execution_count": 3,
   "id": "4201ac51",
   "metadata": {},
   "outputs": [
    {
     "name": "stderr",
     "output_type": "stream",
     "text": [
      "[*********************100%***********************]  4 of 4 completed\n"
     ]
    }
   ],
   "source": [
    "import yfinance as yf\n",
    "import pandas as pd\n",
    "import numpy as np\n",
    "\n",
    "# Get the data for the stock\n",
    "univ = ['QQQ', 'TLT', 'GLD', 'RWO']\n",
    "data = yf.download(univ,interval = '1d', start = '2016-01-01')\n"
   ]
  },
  {
   "cell_type": "code",
   "execution_count": 20,
   "id": "0db5683a",
   "metadata": {},
   "outputs": [
    {
     "data": {
      "text/html": [
       "<div>\n",
       "<style scoped>\n",
       "    .dataframe tbody tr th:only-of-type {\n",
       "        vertical-align: middle;\n",
       "    }\n",
       "\n",
       "    .dataframe tbody tr th {\n",
       "        vertical-align: top;\n",
       "    }\n",
       "\n",
       "    .dataframe thead th {\n",
       "        text-align: right;\n",
       "    }\n",
       "</style>\n",
       "<table border=\"1\" class=\"dataframe\">\n",
       "  <thead>\n",
       "    <tr style=\"text-align: right;\">\n",
       "      <th>Ticker</th>\n",
       "      <th>GLD</th>\n",
       "      <th>QQQ</th>\n",
       "      <th>RWO</th>\n",
       "      <th>TLT</th>\n",
       "    </tr>\n",
       "    <tr>\n",
       "      <th>Date</th>\n",
       "      <th></th>\n",
       "      <th></th>\n",
       "      <th></th>\n",
       "      <th></th>\n",
       "    </tr>\n",
       "  </thead>\n",
       "  <tbody>\n",
       "    <tr>\n",
       "      <th>2016-01-05 00:00:00+00:00</th>\n",
       "      <td>0.002819</td>\n",
       "      <td>-0.001735</td>\n",
       "      <td>0.012116</td>\n",
       "      <td>-0.004034</td>\n",
       "    </tr>\n",
       "    <tr>\n",
       "      <th>2016-01-06 00:00:00+00:00</th>\n",
       "      <td>0.014441</td>\n",
       "      <td>-0.009606</td>\n",
       "      <td>-0.007695</td>\n",
       "      <td>0.013475</td>\n",
       "    </tr>\n",
       "    <tr>\n",
       "      <th>2016-01-07 00:00:00+00:00</th>\n",
       "      <td>0.014140</td>\n",
       "      <td>-0.031313</td>\n",
       "      <td>-0.017880</td>\n",
       "      <td>0.001795</td>\n",
       "    </tr>\n",
       "    <tr>\n",
       "      <th>2016-01-08 00:00:00+00:00</th>\n",
       "      <td>-0.004428</td>\n",
       "      <td>-0.008201</td>\n",
       "      <td>-0.015135</td>\n",
       "      <td>0.004478</td>\n",
       "    </tr>\n",
       "    <tr>\n",
       "      <th>2016-01-11 00:00:00+00:00</th>\n",
       "      <td>-0.008895</td>\n",
       "      <td>0.003076</td>\n",
       "      <td>0.003118</td>\n",
       "      <td>-0.010943</td>\n",
       "    </tr>\n",
       "    <tr>\n",
       "      <th>...</th>\n",
       "      <td>...</td>\n",
       "      <td>...</td>\n",
       "      <td>...</td>\n",
       "      <td>...</td>\n",
       "    </tr>\n",
       "    <tr>\n",
       "      <th>2024-11-05 00:00:00+00:00</th>\n",
       "      <td>0.002254</td>\n",
       "      <td>0.012757</td>\n",
       "      <td>0.011256</td>\n",
       "      <td>0.005312</td>\n",
       "    </tr>\n",
       "    <tr>\n",
       "      <th>2024-11-06 00:00:00+00:00</th>\n",
       "      <td>-0.030387</td>\n",
       "      <td>0.027163</td>\n",
       "      <td>-0.015059</td>\n",
       "      <td>-0.027388</td>\n",
       "    </tr>\n",
       "    <tr>\n",
       "      <th>2024-11-07 00:00:00+00:00</th>\n",
       "      <td>0.016077</td>\n",
       "      <td>0.015744</td>\n",
       "      <td>0.010414</td>\n",
       "      <td>0.012528</td>\n",
       "    </tr>\n",
       "    <tr>\n",
       "      <th>2024-11-08 00:00:00+00:00</th>\n",
       "      <td>-0.006769</td>\n",
       "      <td>0.001168</td>\n",
       "      <td>0.009211</td>\n",
       "      <td>0.012701</td>\n",
       "    </tr>\n",
       "    <tr>\n",
       "      <th>2024-11-11 00:00:00+00:00</th>\n",
       "      <td>-0.024516</td>\n",
       "      <td>-0.002704</td>\n",
       "      <td>-0.002931</td>\n",
       "      <td>-0.006595</td>\n",
       "    </tr>\n",
       "  </tbody>\n",
       "</table>\n",
       "<p>2229 rows × 4 columns</p>\n",
       "</div>"
      ],
      "text/plain": [
       "Ticker                          GLD       QQQ       RWO       TLT\n",
       "Date                                                             \n",
       "2016-01-05 00:00:00+00:00  0.002819 -0.001735  0.012116 -0.004034\n",
       "2016-01-06 00:00:00+00:00  0.014441 -0.009606 -0.007695  0.013475\n",
       "2016-01-07 00:00:00+00:00  0.014140 -0.031313 -0.017880  0.001795\n",
       "2016-01-08 00:00:00+00:00 -0.004428 -0.008201 -0.015135  0.004478\n",
       "2016-01-11 00:00:00+00:00 -0.008895  0.003076  0.003118 -0.010943\n",
       "...                             ...       ...       ...       ...\n",
       "2024-11-05 00:00:00+00:00  0.002254  0.012757  0.011256  0.005312\n",
       "2024-11-06 00:00:00+00:00 -0.030387  0.027163 -0.015059 -0.027388\n",
       "2024-11-07 00:00:00+00:00  0.016077  0.015744  0.010414  0.012528\n",
       "2024-11-08 00:00:00+00:00 -0.006769  0.001168  0.009211  0.012701\n",
       "2024-11-11 00:00:00+00:00 -0.024516 -0.002704 -0.002931 -0.006595\n",
       "\n",
       "[2229 rows x 4 columns]"
      ]
     },
     "execution_count": 20,
     "metadata": {},
     "output_type": "execute_result"
    }
   ],
   "source": [
    "ret = data['Adj Close'].pct_change()[1:]\n",
    "ret"
   ]
  },
  {
   "cell_type": "markdown",
   "id": "d21d6024",
   "metadata": {},
   "source": [
    "2. Compute the signal. Complete the compute_momentum function which computes a simple momentum signal. The function takes in a DataFrame with index = date, columns=ticker and values containing daily returns. It returns a new DataFrame with index = date, columns=ticker and values containing the momentum signal for the ticker on that day. The momentum signal for each ticker is defined as the annualized sharpe ratio of the past 252 days."
   ]
  },
  {
   "cell_type": "code",
   "execution_count": 17,
   "id": "30cf8a71",
   "metadata": {},
   "outputs": [],
   "source": [
    "def compute_momentum(ret):\n",
    "    # fill out the body here\n",
    "    # return a DataFrame \"momentum\" containing a simple momentum indicator \n",
    "    return momentum"
   ]
  },
  {
   "cell_type": "markdown",
   "id": "29828e83",
   "metadata": {},
   "source": [
    "3. Create a portfolio. Complete the function compute_portfolio. This function takes as input the DataFrame \"momentum\" from above. It returns a new DataFrame \"portfolio\" which has the same index/columns and has as values portfolio weights. The weights are computed as follows. On each date, equal-weight long the tickers with a momentum signal above 1."
   ]
  },
  {
   "cell_type": "code",
   "execution_count": 18,
   "id": "e9b7ac56",
   "metadata": {},
   "outputs": [],
   "source": [
    "def compute_portfolio(momentum):\n",
    "    # fill out the body here\n",
    "    # return a DataFrame \"portfolio\" containing portfolio weights\n",
    "    return portfolio"
   ]
  },
  {
   "cell_type": "markdown",
   "id": "c82b3276",
   "metadata": {},
   "source": [
    "4. Portfolio returns. Using the \"portfolio\" returned in part(3) and the returns generated in part(1), compute the returns to the simple momentum strategy. \n",
    "- What is the annualized sharpe ratio of the strategy? \n",
    "- How about the annualized sharpe ratio within each year? \n",
    "- How correlated is the strategy with the underlying tickers?\n",
    "- Plot the cumulative sum of the returns through time"
   ]
  },
  {
   "cell_type": "code",
   "execution_count": null,
   "id": "af8e39ff",
   "metadata": {},
   "outputs": [],
   "source": []
  }
 ],
 "metadata": {
  "kernelspec": {
   "display_name": "financial_research",
   "language": "python",
   "name": "python3"
  },
  "language_info": {
   "codemirror_mode": {
    "name": "ipython",
    "version": 3
   },
   "file_extension": ".py",
   "mimetype": "text/x-python",
   "name": "python",
   "nbconvert_exporter": "python",
   "pygments_lexer": "ipython3",
   "version": "3.12.3"
  }
 },
 "nbformat": 4,
 "nbformat_minor": 5
}
