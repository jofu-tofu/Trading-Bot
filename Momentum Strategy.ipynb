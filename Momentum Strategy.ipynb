{
 "cells": [
  {
   "cell_type": "markdown",
   "id": "d62019c7",
   "metadata": {},
   "source": [
    "# Homework 3 - Simple Momentum Strategy"
   ]
  },
  {
   "cell_type": "markdown",
   "id": "79257f3c",
   "metadata": {},
   "source": [
    "1. Download daily price data for QQQ, TLT, GLD, RWO from yahoo finance since 2016-01-01. Using the adjusted close price data, compute daily returns. This should be a DataFrame with index=date, columns=ticker and values=daily returns."
   ]
  },
  {
   "cell_type": "code",
   "execution_count": 1,
   "id": "4201ac51",
   "metadata": {},
   "outputs": [
    {
     "ename": "ModuleNotFoundError",
     "evalue": "No module named 'yfinance'",
     "output_type": "error",
     "traceback": [
      "\u001b[1;31m---------------------------------------------------------------------------\u001b[0m",
      "\u001b[1;31mModuleNotFoundError\u001b[0m                       Traceback (most recent call last)",
      "Cell \u001b[1;32mIn[1], line 1\u001b[0m\n\u001b[1;32m----> 1\u001b[0m \u001b[38;5;28;01mimport\u001b[39;00m \u001b[38;5;21;01myfinance\u001b[39;00m \u001b[38;5;28;01mas\u001b[39;00m \u001b[38;5;21;01myf\u001b[39;00m\n\u001b[0;32m      2\u001b[0m \u001b[38;5;28;01mimport\u001b[39;00m \u001b[38;5;21;01mpandas\u001b[39;00m \u001b[38;5;28;01mas\u001b[39;00m \u001b[38;5;21;01mpd\u001b[39;00m\n\u001b[0;32m      3\u001b[0m \u001b[38;5;28;01mimport\u001b[39;00m \u001b[38;5;21;01mnumpy\u001b[39;00m \u001b[38;5;28;01mas\u001b[39;00m \u001b[38;5;21;01mnp\u001b[39;00m\n",
      "\u001b[1;31mModuleNotFoundError\u001b[0m: No module named 'yfinance'"
     ]
    }
   ],
   "source": [
    "import yfinance as yf\n",
    "import pandas as pd\n",
    "import numpy as np\n",
    "\n",
    "# Get the data for the stock\n",
    "data = yf.download('AAPL',interval = '1d', start_date = '2016-01-01')\n"
   ]
  },
  {
   "cell_type": "markdown",
   "id": "d21d6024",
   "metadata": {},
   "source": [
    "2. Compute the signal. Complete the compute_momentum function which computes a simple momentum signal. The function takes in a DataFrame with index = date, columns=ticker and values containing daily returns. It returns a new DataFrame with index = date, columns=ticker and values containing the momentum signal for the ticker on that day. The momentum signal for each ticker is defined as the annualized sharpe ratio of the past 252 days."
   ]
  },
  {
   "cell_type": "code",
   "execution_count": 17,
   "id": "30cf8a71",
   "metadata": {},
   "outputs": [],
   "source": [
    "def compute_momentum(ret):\n",
    "    # fill out the body here\n",
    "    # return a DataFrame \"momentum\" containing a simple momentum indicator \n",
    "    return momentum"
   ]
  },
  {
   "cell_type": "markdown",
   "id": "29828e83",
   "metadata": {},
   "source": [
    "3. Create a portfolio. Complete the function compute_portfolio. This function takes as input the DataFrame \"momentum\" from above. It returns a new DataFrame \"portfolio\" which has the same index/columns and has as values portfolio weights. The weights are computed as follows. On each date, equal-weight long the tickers with a momentum signal above 1."
   ]
  },
  {
   "cell_type": "code",
   "execution_count": 18,
   "id": "e9b7ac56",
   "metadata": {},
   "outputs": [],
   "source": [
    "def compute_portfolio(momentum):\n",
    "    # fill out the body here\n",
    "    # return a DataFrame \"portfolio\" containing portfolio weights\n",
    "    return portfolio"
   ]
  },
  {
   "cell_type": "markdown",
   "id": "c82b3276",
   "metadata": {},
   "source": [
    "4. Portfolio returns. Using the \"portfolio\" returned in part(3) and the returns generated in part(1), compute the returns to the simple momentum strategy. \n",
    "- What is the annualized sharpe ratio of the strategy? \n",
    "- How about the annualized sharpe ratio within each year? \n",
    "- How correlated is the strategy with the underlying tickers?\n",
    "- Plot the cumulative sum of the returns through time"
   ]
  },
  {
   "cell_type": "code",
   "execution_count": null,
   "id": "af8e39ff",
   "metadata": {},
   "outputs": [],
   "source": []
  }
 ],
 "metadata": {
  "kernelspec": {
   "display_name": "base",
   "language": "python",
   "name": "python3"
  },
  "language_info": {
   "codemirror_mode": {
    "name": "ipython",
    "version": 3
   },
   "file_extension": ".py",
   "mimetype": "text/x-python",
   "name": "python",
   "nbconvert_exporter": "python",
   "pygments_lexer": "ipython3",
   "version": "3.12.4"
  }
 },
 "nbformat": 4,
 "nbformat_minor": 5
}
