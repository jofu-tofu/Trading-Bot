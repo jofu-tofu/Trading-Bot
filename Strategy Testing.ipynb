{
 "cells": [
  {
   "cell_type": "markdown",
   "metadata": {},
   "source": [
    "# Strategy Testing"
   ]
  },
  {
   "cell_type": "markdown",
   "metadata": {},
   "source": [
    "Will just be using this notebook for strategy testing for now."
   ]
  },
  {
   "cell_type": "code",
   "execution_count": null,
   "metadata": {},
   "outputs": [],
   "source": [
    "from dotenv import load_dotenv\n",
    "import os\n",
    "\n",
    "load_dotenv()"
   ]
  },
  {
   "cell_type": "code",
   "execution_count": null,
   "metadata": {},
   "outputs": [],
   "source": [
    "from binance.client import Client as bnb_client\n",
    "import datetime\n",
    "import pandas as pd \n",
    "import numpy as np \n",
    "\n",
    "# client = bnb_client()\n",
    "###  if you're in the US, use: \n",
    "# \"client = bnb_client(tld='US')\" here instead\n",
    "\n",
    "client = bnb_client(tld='US', )\n",
    "\n",
    "def get_binance_px(symbol,freq,start_ts = '2020-01-01'):\n",
    "    data = client.get_historical_klines(symbol,freq,start_ts)\n",
    "    columns = ['open_time','open','high','low','close','volume','close_time','quote_volume',\n",
    "    'num_trades','taker_base_volume','taker_quote_volume','ignore']\n",
    "\n",
    "    data = pd.DataFrame(data,columns = columns)\n",
    "    \n",
    "    # Convert from POSIX timestamp (number of millisecond since jan 1, 1970)\n",
    "    data['open_time'] = data['open_time'].map(lambda x: datetime.datetime.fromtimestamp(x/1000, datetime.timezone.utc))\n",
    "    data['close_time'] = data['close_time'].map(lambda x: datetime.datetime.fromtimestamp(x/1000, datetime.timezone.utc))\n",
    "    return data \n",
    "\n",
    "univ = ['BTCUSDT','ETHUSDT','ADAUSDT','BNBUSDT','XRPUSDT','DOTUSDT','MATICUSDT']\n",
    "\n",
    "freq = '1h'\n",
    "px = {}\n",
    "for x in univ:\n",
    "    data = get_binance_px(x,freq)\n",
    "    px[x] = data.set_index('open_time')['close']\n",
    "\n",
    "px = pd.DataFrame(px).astype(float)\n",
    "px = px.reindex(pd.date_range(px.index[0],px.index[-1],freq=freq))\n",
    "ret = px.pct_change()"
   ]
  },
  {
   "cell_type": "markdown",
   "metadata": {},
   "source": [
    "Testing Hypothesis"
   ]
  },
  {
   "cell_type": "code",
   "execution_count": null,
   "metadata": {},
   "outputs": [],
   "source": []
  }
 ],
 "metadata": {
  "kernelspec": {
   "display_name": "financial_research",
   "language": "python",
   "name": "python3"
  },
  "language_info": {
   "name": "python",
   "version": "3.12.3"
  }
 },
 "nbformat": 4,
 "nbformat_minor": 2
}
