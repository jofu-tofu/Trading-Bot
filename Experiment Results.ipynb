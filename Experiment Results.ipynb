{
 "cells": [
  {
   "cell_type": "markdown",
   "metadata": {},
   "source": [
    "# Experiment Results\n",
    "\n",
    "Everything is Long for now due to trading in the US"
   ]
  },
  {
   "cell_type": "markdown",
   "metadata": {},
   "source": [
    "## Time Series Analysis"
   ]
  },
  {
   "cell_type": "markdown",
   "metadata": {},
   "source": [
    "### Return Reversal\n",
    "\n",
    "***Return Breakout***\n",
    "\n",
    "Buy if return it's zscore is below -3 in the last 12 hours. buy when the last return's zscore in the last 15 hours is above 1.\n",
    "Extrmemely high sharpe for low volume coins, but negative for high cap coins. This is for varying lookback and entry/exit thresholds. Best result is 0.13 sharpe from 2018-2024, with a -5 sharpe from 2023-2023\n",
    "\n",
    "\n",
    "***Return Breakout Exit Price***\n",
    "\n",
    "Buy if return zscore < -1, buy when price szcore is > 3 with lookback of 1000 and 200.\n",
    "\n",
    "In sample: \n",
    "1. Corr with BTC (before purification):  0.7600876404431932\n",
    "1. BTC Beta:  1.0173415417580802\n",
    "1. Corr with BTC:  -0.041946879121828644\n",
    "1. Average Turnover:  0.011722647209084029\n",
    "1. Sharpe Ratio:  0.5785570284122309\n",
    "1. Max Drawdown:  1.0974499695971143\n",
    "1. Time Exposure Ratio:  0.5356653888280394\n",
    "1. Max Drawdown Duration:  947.0 days\n",
    "\n",
    "0.2 correlation with channel breakout. not worth including"
   ]
  },
  {
   "cell_type": "markdown",
   "metadata": {},
   "source": [
    "### Channel Breakout\n",
    "\n",
    "Code in kraken_coins.ipynb\n",
    "\n",
    "***Basic Channel Breakout***\n",
    "\n",
    "Only using US kraken coins that have a trading volume of >100,000\n",
    "Buy when high in the last hour is the highest of the last 108 days, sell when low of the last hour is the lowest in the last 32 hours. to is 0.03 and sharpe from 2018-2024 is 2.34. sharpe from 2023-2024 is 2.7\n",
    "\n",
    "2018-2023 results:\n",
    "1. Corr with BTC (before purification):  0.16134215738538263\n",
    "1. BTC Beta:  0.5733286150139952\n",
    "1. Corr with BTC:  -0.009530470757076541\n",
    "1. Average Turnover:  0.03239718693604279\n",
    "1. Sharpe Ratio:  2.1514864443166672\n",
    "1. Max Drawdown:  1.916936928157273\n",
    "1. Time Exposure Ratio:  0.2772091748149502\n",
    "1. Max Drawdown Duration:  263.2916666666667 days\n",
    "\n",
    "2023 results\n",
    "1. Corr with BTC (before purification):  0.18881992816495435\n",
    "1. BTC Beta:  0.9025388108047855\n",
    "1. Corr with BTC:  -0.00847075550169767\n",
    "1. Average Turnover:  0.04656878528492937\n",
    "1. Sharpe Ratio:  2.3750524981151364\n",
    "1. Max Drawdown:  1.5296275810130222\n",
    "1. Time Exposure Ratio:  0.3626712328767123\n",
    "1. Max Drawdown Duration:  123.25 days\n",
    "\n",
    "2024-2025 results (out of sample):\n",
    "1. Corr with BTC (before purification):  0.18254965156127154\n",
    "1. BTC Beta:  1.0035861850773724\n",
    "1. Corr with BTC:  -0.006068596894807587\n",
    "1. Average Turnover:  0.052363688253238304\n",
    "1. Sharpe Ratio:  1.231317648204317\n",
    "1. Max Drawdown:  2.232722695272162\n",
    "1. Time Exposure Ratio:  0.39670773969965345\n",
    "1. Max Drawdown Duration:  146.20833333333334 days\n",
    "\n",
    "***Business Time Channel Breakout***\n",
    "\n",
    "Only using US kraken coins that have a trading volume of >100,000\n",
    "Obtained log hourly trading activity using log((volatility*trading volume)^(2/3))\n",
    "Same as basic channel breakout, but lookback windows differ based on trading activity (high trading activity = lower lookback window)\n",
    "formula ~ base lookback/log(trading activity). entry lookback = 2740*12, exit lookback = 1200\n",
    "\n",
    "2018-2023 in sample\n",
    "1. Corr with BTC (before purification):  0.7293448283226839\n",
    "1. BTC Beta:  1.0526791818152605\n",
    "1. Corr with BTC:  -0.03435840951440621\n",
    "1. Average Turnover:  0.001909362486271075\n",
    "1. Sharpe Ratio:  1.3861645846062636\n",
    "1. Max Drawdown:  1.1804324987900168\n",
    "1. Time Exposure Ratio:  0.5279630814219135\n",
    "1. Max Drawdown Duration:  417.9166666666667 days\n",
    "\n",
    "2024-2025 out of sample\n",
    "1. Corr with BTC (before purification):  0.6827077551002203\n",
    "1. BTC Beta:  1.325737778703979\n",
    "1. Corr with BTC:  -0.03624025459247371\n",
    "1. Average Turnover:  0.006410000607442735\n",
    "1. Sharpe Ratio:  2.5983210607882077\n",
    "1. Max Drawdown:  0.45420729131157733\n",
    "1. Time Exposure Ratio:  0.5174239507123605\n",
    "1. Max Drawdown Duration:  87.04166666666667 days"
   ]
  },
  {
   "cell_type": "markdown",
   "metadata": {},
   "source": [
    "### Price Reversal"
   ]
  },
  {
   "cell_type": "markdown",
   "metadata": {},
   "source": [
    "***Price Low-High***\n",
    "\n",
    "Buy when price is lowest in entry lookback, sell when highest in exit lookback\n",
    "\n",
    "Doesn't work - best sharpe is 0.0\n",
    "\n",
    "***"
   ]
  },
  {
   "cell_type": "markdown",
   "metadata": {},
   "source": [
    "## Cross Sectional"
   ]
  }
 ],
 "metadata": {
  "language_info": {
   "name": "python"
  }
 },
 "nbformat": 4,
 "nbformat_minor": 2
}
