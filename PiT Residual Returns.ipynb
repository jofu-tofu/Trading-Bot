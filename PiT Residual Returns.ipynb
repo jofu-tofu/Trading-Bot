{
 "cells": [
  {
   "cell_type": "markdown",
   "id": "e91874c9",
   "metadata": {},
   "source": [
    "# Homework 4 - Computing Point-in-Time Residual Returns\n",
    "In this homework, we will use regressions to compute beta-adjusted \"residual\" returns in a point-in-time fashion suitable for backtesting / live trading.\n",
    "\n",
    "\n",
    "1. Download Daily Bars for FB, AAPL, AMZN, NFLX, GOOGL and QQQ from yahoo finance starting 2016-01-01. Use the Adj Close to compute daily returns.\n",
    "2. Now, let's compute the beta of FB, AAPL, AMZN, NFLX, GOOGL using QQQ as our benchmark. You can think of this as the beta these stocks have to their industry (tech). In practice,  we have to use some lookback window to compute the beta. Let's use 252 (1 year, excluding wknds/holidays). So, for each day, the betas should be computed using the most recent 252 data points.\n",
    "3. Using the betas, compute an \"alpha\" on each day. This is also known as a \"residual return\".\n",
    "4. Compare the volatility of the residual returns to that of the original returns. What do you notice?\n",
    "5. Compare the pairwise correlations of the residual returns to that of the original returns. What do you notice?\n",
    "6. Compute the information ratio for each of these stocks and compare that to the sharpe ratio.\n"
   ]
  },
  {
   "cell_type": "code",
   "execution_count": null,
   "id": "96bc8ad6",
   "metadata": {},
   "outputs": [],
   "source": []
  }
 ],
 "metadata": {
  "kernelspec": {
   "display_name": "Python 3",
   "language": "python",
   "name": "python3"
  },
  "language_info": {
   "codemirror_mode": {
    "name": "ipython",
    "version": 3
   },
   "file_extension": ".py",
   "mimetype": "text/x-python",
   "name": "python",
   "nbconvert_exporter": "python",
   "pygments_lexer": "ipython3",
   "version": "3.8.8"
  }
 },
 "nbformat": 4,
 "nbformat_minor": 5
}
